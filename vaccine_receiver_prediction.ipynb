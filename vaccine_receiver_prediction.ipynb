{
 "cells": [
  {
   "cell_type": "code",
   "execution_count": 1,
   "metadata": {},
   "outputs": [
    {
     "data": {
      "text/html": [
       "<img src=\"https://razak.utm.my/wp-content/uploads/2018/08/utmkl-logo-template-hres-copy.png\" width=\"500\" height=\"500\"/>"
      ],
      "text/plain": [
       "<IPython.core.display.Image object>"
      ]
     },
     "execution_count": 1,
     "metadata": {},
     "output_type": "execute_result"
    }
   ],
   "source": [
    "from IPython.display import Image\n",
    "from IPython.core.display import HTML \n",
    "Image(url= \"https://razak.utm.my/wp-content/uploads/2018/08/utmkl-logo-template-hres-copy.png\",width=500, height=500)"
   ]
  },
  {
   "cell_type": "markdown",
   "metadata": {},
   "source": [
    "# POST MODULE ASSESMENT (MANB1153)\n",
    "## Izardy Amiruddin (MAN201022)"
   ]
  },
  {
   "cell_type": "markdown",
   "metadata": {},
   "source": [
    "# Question 1a : Scope of Project"
   ]
  },
  {
   "cell_type": "markdown",
   "metadata": {},
   "source": [
    "Scope of this project is to predict how likely individuals are to receive their H1N1 and seasonal flu vaccines. Specifically, two probabilities of prediction to be made;  \n",
    "\n",
    "1. h1n1_vaccine receiver\n",
    "2. seasonal_vaccine receiver\n",
    "\n",
    "Each row in the dataset represents one person who responded to the National 2009 H1N1 Flu Survey conducted by the USA government. This data obtained from https://www.drivendata.org/competitions/66/flu-shot-learning/page/210/ competition. "
   ]
  },
  {
   "cell_type": "markdown",
   "metadata": {},
   "source": [
    "# Question 1b : Problem Statement"
   ]
  },
  {
   "cell_type": "markdown",
   "metadata": {},
   "source": [
    "Based on the obtained data, a machine learning model to be developed to determine receiver of vaccination for either H1N1 or seasonal. There are 35 numbers of features from the dataset provided, though, only relevance features to be identify. On top of that, imputation of missing value from the obtained data must be first strategized. Based on the identified features , 3 classification algorithms to be trained and compared in term of performance. Best performed model to be use for test data implementation. "
   ]
  },
  {
   "cell_type": "markdown",
   "metadata": {},
   "source": [
    "# Question 2a : Ilustrate CRISP DM"
   ]
  },
  {
   "cell_type": "code",
   "execution_count": 2,
   "metadata": {},
   "outputs": [
    {
     "data": {
      "text/html": [
       "<img src=\"data/datamining-process.png\" width=\"500\" height=\"500\"/>"
      ],
      "text/plain": [
       "<IPython.core.display.Image object>"
      ]
     },
     "execution_count": 2,
     "metadata": {},
     "output_type": "execute_result"
    }
   ],
   "source": [
    "Image(url= \"data/datamining-process.png\",width=500, height=500)"
   ]
  },
  {
   "cell_type": "markdown",
   "metadata": {},
   "source": [
    "# Question 2b : Explain Each Component of CRISP DM"
   ]
  },
  {
   "cell_type": "markdown",
   "metadata": {},
   "source": [
    "**BUSINESS UNDERSTANDING**\n",
    "According to the description from the data owner , the health institution is trying to understand variables that will likely suggest individuals that are supposedly required to receive either H1N1 or Seasonal Flu vaccination. A prediction model to be developed based on the identified variables that highly influence if a person requires a specific type of vaccination.\n",
    "\n",
    "**DATA UNDERSTANDING**\n",
    "Based on the observed train and test data, we have a total of 36 features, whereby some of the features have missing values that require the imputation process.  The train data (with the label) consist of 26,707 rows and the test data consist of 26,708 rows . Both sample size for train and test data is quite balanced and this could mitigate risk of biasness on the prediction result. However, the label for train data is quite inbalance for both H1N1 and Seasonal vaccine receiver, therefore process of resampling is required.  The data understanding process is quite straight-forward since we only need to deal with the supplied data without considering external data. Therefore, it is not necessary to re-evaluate the business understanding. \n",
    "\n",
    "**DATA PREPARATION**\n",
    "The above features consist of ordinal (Likert Scale value) and categorical values . Therefore, the process of normalisation is not required. However, the data imputation process is quite crucial as ignoring by dropping the null value is not a good option.  Therefore, a strategy for data imputation must be prepared and executed before proceeding to the next stage . The imputation strategy could either use statistical method or machine learning method. This strategy could be revised if the evaluated model produced an unsatisfactory result. \n",
    "\n",
    "**DATA MODELLING**\n",
    "Since all the above features consist of categorical data, the process of features encoding is required . Furthermore, this process is required to identify the most relevant feature to be used in the model via many approaches which include Principal Component Analysis, Chi-Square or any other methods. If the result indicated in the feature selection or reduction process is unsatisfactory, the data preparation strategy to be revised. The selected features will be implemented with supervised machine learning method which could be either Naive Bayes, KNN, SVM, Random Forest and others.\n",
    "\n",
    "**MODEL EVALUATION**\n",
    "Model evaluation is required to observe performance of the implemented algorithms. At the stage of data modelling, we might want to implement several models and then compare this model's performance by observing AUC, ROC, accuracy etc . We might also want to use other approaches such as k-fold cross validation technique to confirm the evaluated performance. If the result is unsatisfactory, the model could be fine tuned by re-evaluate the business understanding.\n",
    "\n",
    "**MODEL DEPLOYMENT**\n",
    "Once we identified the best performance model, the deployment process will take place by using the test dataset in the earlier fitted model. \n"
   ]
  },
  {
   "cell_type": "markdown",
   "metadata": {},
   "source": [
    "# Question 3 : Develop EDA Model"
   ]
  },
  {
   "cell_type": "code",
   "execution_count": 3,
   "metadata": {},
   "outputs": [],
   "source": [
    "import pandas as pd\n",
    "import numpy as np\n",
    "pd.set_option('display.max_columns', None)"
   ]
  },
  {
   "cell_type": "code",
   "execution_count": 4,
   "metadata": {},
   "outputs": [
    {
     "name": "stdout",
     "output_type": "stream",
     "text": [
      "<class 'pandas.core.frame.DataFrame'>\n",
      "RangeIndex: 26707 entries, 0 to 26706\n",
      "Data columns (total 36 columns):\n",
      " #   Column                       Non-Null Count  Dtype  \n",
      "---  ------                       --------------  -----  \n",
      " 0   respondent_id                26707 non-null  int64  \n",
      " 1   h1n1_concern                 26615 non-null  float64\n",
      " 2   h1n1_knowledge               26591 non-null  float64\n",
      " 3   behavioral_antiviral_meds    26636 non-null  float64\n",
      " 4   behavioral_avoidance         26499 non-null  float64\n",
      " 5   behavioral_face_mask         26688 non-null  float64\n",
      " 6   behavioral_wash_hands        26665 non-null  float64\n",
      " 7   behavioral_large_gatherings  26620 non-null  float64\n",
      " 8   behavioral_outside_home      26625 non-null  float64\n",
      " 9   behavioral_touch_face        26579 non-null  float64\n",
      " 10  doctor_recc_h1n1             24547 non-null  float64\n",
      " 11  doctor_recc_seasonal         24547 non-null  float64\n",
      " 12  chronic_med_condition        25736 non-null  float64\n",
      " 13  child_under_6_months         25887 non-null  float64\n",
      " 14  health_worker                25903 non-null  float64\n",
      " 15  health_insurance             14433 non-null  float64\n",
      " 16  opinion_h1n1_vacc_effective  26316 non-null  float64\n",
      " 17  opinion_h1n1_risk            26319 non-null  float64\n",
      " 18  opinion_h1n1_sick_from_vacc  26312 non-null  float64\n",
      " 19  opinion_seas_vacc_effective  26245 non-null  float64\n",
      " 20  opinion_seas_risk            26193 non-null  float64\n",
      " 21  opinion_seas_sick_from_vacc  26170 non-null  float64\n",
      " 22  age_group                    26707 non-null  object \n",
      " 23  education                    25300 non-null  object \n",
      " 24  race                         26707 non-null  object \n",
      " 25  sex                          26707 non-null  object \n",
      " 26  income_poverty               22284 non-null  object \n",
      " 27  marital_status               25299 non-null  object \n",
      " 28  rent_or_own                  24665 non-null  object \n",
      " 29  employment_status            25244 non-null  object \n",
      " 30  hhs_geo_region               26707 non-null  object \n",
      " 31  census_msa                   26707 non-null  object \n",
      " 32  household_adults             26458 non-null  float64\n",
      " 33  household_children           26458 non-null  float64\n",
      " 34  employment_industry          13377 non-null  object \n",
      " 35  employment_occupation        13237 non-null  object \n",
      "dtypes: float64(23), int64(1), object(12)\n",
      "memory usage: 7.3+ MB\n"
     ]
    }
   ],
   "source": [
    "train=pd.read_csv(\"data/training_set_features.csv\")\n",
    "train.info()"
   ]
  },
  {
   "cell_type": "code",
   "execution_count": 5,
   "metadata": {},
   "outputs": [
    {
     "name": "stdout",
     "output_type": "stream",
     "text": [
      "<class 'pandas.core.frame.DataFrame'>\n",
      "RangeIndex: 26708 entries, 0 to 26707\n",
      "Data columns (total 36 columns):\n",
      " #   Column                       Non-Null Count  Dtype  \n",
      "---  ------                       --------------  -----  \n",
      " 0   respondent_id                26708 non-null  int64  \n",
      " 1   h1n1_concern                 26623 non-null  float64\n",
      " 2   h1n1_knowledge               26586 non-null  float64\n",
      " 3   behavioral_antiviral_meds    26629 non-null  float64\n",
      " 4   behavioral_avoidance         26495 non-null  float64\n",
      " 5   behavioral_face_mask         26689 non-null  float64\n",
      " 6   behavioral_wash_hands        26668 non-null  float64\n",
      " 7   behavioral_large_gatherings  26636 non-null  float64\n",
      " 8   behavioral_outside_home      26626 non-null  float64\n",
      " 9   behavioral_touch_face        26580 non-null  float64\n",
      " 10  doctor_recc_h1n1             24548 non-null  float64\n",
      " 11  doctor_recc_seasonal         24548 non-null  float64\n",
      " 12  chronic_med_condition        25776 non-null  float64\n",
      " 13  child_under_6_months         25895 non-null  float64\n",
      " 14  health_worker                25919 non-null  float64\n",
      " 15  health_insurance             14480 non-null  float64\n",
      " 16  opinion_h1n1_vacc_effective  26310 non-null  float64\n",
      " 17  opinion_h1n1_risk            26328 non-null  float64\n",
      " 18  opinion_h1n1_sick_from_vacc  26333 non-null  float64\n",
      " 19  opinion_seas_vacc_effective  26256 non-null  float64\n",
      " 20  opinion_seas_risk            26209 non-null  float64\n",
      " 21  opinion_seas_sick_from_vacc  26187 non-null  float64\n",
      " 22  age_group                    26708 non-null  object \n",
      " 23  education                    25301 non-null  object \n",
      " 24  race                         26708 non-null  object \n",
      " 25  sex                          26708 non-null  object \n",
      " 26  income_poverty               22211 non-null  object \n",
      " 27  marital_status               25266 non-null  object \n",
      " 28  rent_or_own                  24672 non-null  object \n",
      " 29  employment_status            25237 non-null  object \n",
      " 30  hhs_geo_region               26708 non-null  object \n",
      " 31  census_msa                   26708 non-null  object \n",
      " 32  household_adults             26483 non-null  float64\n",
      " 33  household_children           26483 non-null  float64\n",
      " 34  employment_industry          13433 non-null  object \n",
      " 35  employment_occupation        13282 non-null  object \n",
      "dtypes: float64(23), int64(1), object(12)\n",
      "memory usage: 7.3+ MB\n"
     ]
    }
   ],
   "source": [
    "test=pd.read_csv(\"data/test_set_features.csv\")\n",
    "test.info()"
   ]
  },
  {
   "cell_type": "code",
   "execution_count": 6,
   "metadata": {},
   "outputs": [
    {
     "name": "stdout",
     "output_type": "stream",
     "text": [
      "<class 'pandas.core.frame.DataFrame'>\n",
      "RangeIndex: 26707 entries, 0 to 26706\n",
      "Data columns (total 3 columns):\n",
      " #   Column            Non-Null Count  Dtype\n",
      "---  ------            --------------  -----\n",
      " 0   respondent_id     26707 non-null  int64\n",
      " 1   h1n1_vaccine      26707 non-null  int64\n",
      " 2   seasonal_vaccine  26707 non-null  int64\n",
      "dtypes: int64(3)\n",
      "memory usage: 626.1 KB\n"
     ]
    }
   ],
   "source": [
    "labels=pd.read_csv(\"data/training_set_labels.csv\")\n",
    "labels.info()"
   ]
  },
  {
   "cell_type": "markdown",
   "metadata": {},
   "source": [
    "Both train and test dataset indicate 36 numbers of columns and label dataset is the indication of respondents in train dataset which either received h1n1 vaccine or seasonal vaccine."
   ]
  },
  {
   "cell_type": "markdown",
   "metadata": {},
   "source": [
    "## Respondent Knowledge and Awareness"
   ]
  },
  {
   "cell_type": "code",
   "execution_count": 7,
   "metadata": {},
   "outputs": [
    {
     "data": {
      "text/plain": [
       "<matplotlib.axes._subplots.AxesSubplot at 0x7f49b3e2ec50>"
      ]
     },
     "execution_count": 7,
     "metadata": {},
     "output_type": "execute_result"
    },
    {
     "data": {
      "image/png": "[encoded data removed]",
      "text/plain": [
       "<Figure size 1440x360 with 2 Axes>"
      ]
     },
     "metadata": {
      "needs_background": "light"
     },
     "output_type": "display_data"
    }
   ],
   "source": [
    "import matplotlib\n",
    "import matplotlib.pyplot as plt\n",
    "\n",
    "fig, axes = plt.subplots(nrows=1, ncols=2 ,figsize=[20,5])\n",
    "\n",
    "train.groupby('h1n1_concern')['respondent_id'].count().plot.barh(ax=axes[0])\n",
    "train.groupby('h1n1_knowledge')['respondent_id'].count().plot.barh(ax=axes[1])"
   ]
  },
  {
   "cell_type": "markdown",
   "metadata": {},
   "source": [
    "Columns which represent respondents knowledge and awareness indicate **ordinal** type of data"
   ]
  },
  {
   "cell_type": "markdown",
   "metadata": {},
   "source": [
    "## Respondent Behaviour"
   ]
  },
  {
   "cell_type": "code",
   "execution_count": 8,
   "metadata": {},
   "outputs": [
    {
     "data": {
      "text/plain": [
       "<matplotlib.axes._subplots.AxesSubplot at 0x7f49b33fd940>"
      ]
     },
     "execution_count": 8,
     "metadata": {},
     "output_type": "execute_result"
    },
    {
     "data": {
      "image/png": "[encoded data removed]",
      "text/plain": [
       "<Figure size 1440x1440 with 8 Axes>"
      ]
     },
     "metadata": {
      "needs_background": "light"
     },
     "output_type": "display_data"
    }
   ],
   "source": [
    "import matplotlib\n",
    "import matplotlib.pyplot as plt\n",
    "\n",
    "fig, axes = plt.subplots(nrows=4, ncols=2 ,figsize=[20,20])\n",
    "\n",
    "train.groupby('behavioral_antiviral_meds')['respondent_id'].count().plot.barh(ax=axes[0,0])\n",
    "train.groupby('behavioral_avoidance')['respondent_id'].count().plot.barh(ax=axes[0,1])\n",
    "train.groupby('behavioral_face_mask')['respondent_id'].count().plot.barh(ax=axes[1,0])\n",
    "train.groupby('behavioral_wash_hands')['respondent_id'].count().plot.barh(ax=axes[1,1])\n",
    "train.groupby('behavioral_large_gatherings')['respondent_id'].count().plot.barh(ax=axes[2,0])\n",
    "train.groupby('behavioral_outside_home')['respondent_id'].count().plot.barh(ax=axes[2,1]) \n",
    "train.groupby('behavioral_touch_face')['respondent_id'].count().plot.barh(ax=axes[3,0]) "
   ]
  },
  {
   "cell_type": "markdown",
   "metadata": {},
   "source": [
    "Columns which represent respondents behaviour indicate **binary** type of data"
   ]
  },
  {
   "cell_type": "markdown",
   "metadata": {},
   "source": [
    "## Medical Advisories"
   ]
  },
  {
   "cell_type": "code",
   "execution_count": 9,
   "metadata": {},
   "outputs": [
    {
     "data": {
      "text/plain": [
       "<matplotlib.axes._subplots.AxesSubplot at 0x7f49b2453400>"
      ]
     },
     "execution_count": 9,
     "metadata": {},
     "output_type": "execute_result"
    },
    {
     "data": {
      "image/png": "[encoded data removed]",
      "text/plain": [
       "<Figure size 1440x1080 with 6 Axes>"
      ]
     },
     "metadata": {
      "needs_background": "light"
     },
     "output_type": "display_data"
    }
   ],
   "source": [
    "import matplotlib\n",
    "import matplotlib.pyplot as plt\n",
    "\n",
    "fig, axes = plt.subplots(nrows=3, ncols=2 ,figsize=[20,15])\n",
    "\n",
    "train.groupby('doctor_recc_h1n1')['respondent_id'].count().plot.barh(ax=axes[0,0])\n",
    "train.groupby('doctor_recc_seasonal')['respondent_id'].count().plot.barh(ax=axes[0,1])\n",
    "train.groupby('chronic_med_condition')['respondent_id'].count().plot.barh(ax=axes[1,0])\n",
    "train.groupby('child_under_6_months')['respondent_id'].count().plot.barh(ax=axes[1,1])\n",
    "train.groupby('health_worker')['respondent_id'].count().plot.barh(ax=axes[2,0])\n",
    "train.groupby('health_insurance')['respondent_id'].count().plot.barh(ax=axes[2,1]) \n"
   ]
  },
  {
   "cell_type": "markdown",
   "metadata": {},
   "source": [
    "Columns which represent respondents medical related information indicate **binary** type of data"
   ]
  },
  {
   "cell_type": "markdown",
   "metadata": {},
   "source": [
    "## Opinon Based"
   ]
  },
  {
   "cell_type": "code",
   "execution_count": 10,
   "metadata": {},
   "outputs": [
    {
     "data": {
      "text/plain": [
       "<matplotlib.axes._subplots.AxesSubplot at 0x7f49b2251668>"
      ]
     },
     "execution_count": 10,
     "metadata": {},
     "output_type": "execute_result"
    },
    {
     "data": {
      "image/png": "[encoded data removed]",
      "text/plain": [
       "<Figure size 1440x1080 with 6 Axes>"
      ]
     },
     "metadata": {
      "needs_background": "light"
     },
     "output_type": "display_data"
    }
   ],
   "source": [
    "import matplotlib\n",
    "import matplotlib.pyplot as plt\n",
    "\n",
    "fig, axes = plt.subplots(nrows=3, ncols=2 ,figsize=[20,15])\n",
    "\n",
    "train.groupby('opinion_h1n1_vacc_effective')['respondent_id'].count().plot.barh(ax=axes[0,0])\n",
    "train.groupby('opinion_h1n1_risk')['respondent_id'].count().plot.barh(ax=axes[0,1])\n",
    "train.groupby('opinion_h1n1_sick_from_vacc')['respondent_id'].count().plot.barh(ax=axes[1,0])\n",
    "train.groupby('opinion_seas_vacc_effective')['respondent_id'].count().plot.barh(ax=axes[1,1])\n",
    "train.groupby('opinion_seas_risk')['respondent_id'].count().plot.barh(ax=axes[2,0])\n",
    "train.groupby('opinion_seas_sick_from_vacc')['respondent_id'].count().plot.barh(ax=axes[2,1]) \n"
   ]
  },
  {
   "cell_type": "markdown",
   "metadata": {},
   "source": [
    "Columns which represent respondents opinion indicate **ordinal** type of data"
   ]
  },
  {
   "cell_type": "markdown",
   "metadata": {},
   "source": [
    "## Background Based 1"
   ]
  },
  {
   "cell_type": "code",
   "execution_count": 11,
   "metadata": {},
   "outputs": [
    {
     "data": {
      "text/plain": [
       "<matplotlib.axes._subplots.AxesSubplot at 0x7f49b3737588>"
      ]
     },
     "execution_count": 11,
     "metadata": {},
     "output_type": "execute_result"
    },
    {
     "data": {
      "image/png": "[encoded data removed]",
      "text/plain": [
       "<Figure size 1440x1440 with 8 Axes>"
      ]
     },
     "metadata": {
      "needs_background": "light"
     },
     "output_type": "display_data"
    }
   ],
   "source": [
    "import matplotlib\n",
    "import matplotlib.pyplot as plt\n",
    "\n",
    "fig, axes = plt.subplots(nrows=4, ncols=2 ,figsize=[20,20])\n",
    "\n",
    "train.groupby('age_group')['respondent_id'].count().plot.barh(ax=axes[0,0])\n",
    "train.groupby('education')['respondent_id'].count().plot.barh(ax=axes[0,1])\n",
    "train.groupby('race')['respondent_id'].count().plot.barh(ax=axes[1,0])\n",
    "train.groupby('sex')['respondent_id'].count().plot.barh(ax=axes[1,1])\n",
    "train.groupby('income_poverty')['respondent_id'].count().plot.barh(ax=axes[2,0])\n",
    "train.groupby('marital_status')['respondent_id'].count().plot.barh(ax=axes[2,1]) \n",
    "train.groupby('rent_or_own')['respondent_id'].count().plot.barh(ax=axes[3,0]) "
   ]
  },
  {
   "cell_type": "markdown",
   "metadata": {},
   "source": [
    "## Background Based 2"
   ]
  },
  {
   "cell_type": "code",
   "execution_count": 12,
   "metadata": {},
   "outputs": [
    {
     "data": {
      "text/plain": [
       "<matplotlib.axes._subplots.AxesSubplot at 0x7f49b2facbe0>"
      ]
     },
     "execution_count": 12,
     "metadata": {},
     "output_type": "execute_result"
    },
    {
     "data": {
      "image/png": "[encoded data removed]",
      "text/plain": [
       "<Figure size 1440x1440 with 8 Axes>"
      ]
     },
     "metadata": {
      "needs_background": "light"
     },
     "output_type": "display_data"
    }
   ],
   "source": [
    "import matplotlib\n",
    "import matplotlib.pyplot as plt\n",
    "\n",
    "fig, axes = plt.subplots(nrows=4, ncols=2 ,figsize=[20,20])\n",
    "\n",
    "train.groupby('employment_status')['respondent_id'].count().plot.barh(ax=axes[0,0])\n",
    "train.groupby('hhs_geo_region')['respondent_id'].count().plot.barh(ax=axes[0,1])\n",
    "train.groupby('census_msa')['respondent_id'].count().plot.barh(ax=axes[1,0])\n",
    "train.groupby('household_adults')['respondent_id'].count().plot.barh(ax=axes[1,1])\n",
    "train.groupby('household_children')['respondent_id'].count().plot.barh(ax=axes[2,0])\n",
    "train.groupby('employment_industry')['respondent_id'].count().plot.barh(ax=axes[2,1]) \n",
    "train.groupby('employment_occupation')['respondent_id'].count().plot.barh(ax=axes[3,0]) "
   ]
  },
  {
   "cell_type": "markdown",
   "metadata": {},
   "source": [
    "Columns which represent respondents background indicate **nominal** type of data"
   ]
  },
  {
   "cell_type": "markdown",
   "metadata": {},
   "source": [
    "## Train Labels"
   ]
  },
  {
   "cell_type": "code",
   "execution_count": 13,
   "metadata": {},
   "outputs": [
    {
     "data": {
      "text/plain": [
       "<matplotlib.axes._subplots.AxesSubplot at 0x7f49b2d01390>"
      ]
     },
     "execution_count": 13,
     "metadata": {},
     "output_type": "execute_result"
    },
    {
     "data": {
      "image/png": "[encoded data removed]",
      "text/plain": [
       "<Figure size 1440x360 with 2 Axes>"
      ]
     },
     "metadata": {
      "needs_background": "light"
     },
     "output_type": "display_data"
    }
   ],
   "source": [
    "fig, axes = plt.subplots(nrows=1, ncols=2 ,figsize=[20,5])\n",
    "\n",
    "labels.groupby('h1n1_vaccine')['respondent_id'].count().plot.barh(ax=axes[0])\n",
    "labels.groupby('seasonal_vaccine')['respondent_id'].count().plot.barh(ax=axes[1])\n"
   ]
  },
  {
   "cell_type": "markdown",
   "metadata": {},
   "source": [
    "# Question 4 : Dataset Preparation Strategy"
   ]
  },
  {
   "cell_type": "markdown",
   "metadata": {},
   "source": [
    "The above observation of train dataset indicates requirement for data imputation in both train and test dateset as there are many missing values. The train labels also require either oversampling (SMOTE) or downsampling approach. As there are so many features involve , the downsampling approach will be used for both H1NI and Seasonal vaccine prediction model.\n"
   ]
  },
  {
   "cell_type": "markdown",
   "metadata": {},
   "source": [
    "## Data Resampling (Downsampling)"
   ]
  },
  {
   "cell_type": "markdown",
   "metadata": {},
   "source": [
    "### Resampling for H1N1 Vaccine Receiver Prediction Model"
   ]
  },
  {
   "cell_type": "code",
   "execution_count": 14,
   "metadata": {},
   "outputs": [
    {
     "name": "stdout",
     "output_type": "stream",
     "text": [
      "original dataset shape: Counter({0: 21033, 1: 5674})\n",
      "Resample dataset shape Counter({0: 5674, 1: 5674})\n"
     ]
    }
   ],
   "source": [
    "import collections\n",
    "from imblearn.under_sampling import RandomUnderSampler\n",
    "rus = RandomUnderSampler(random_state=42, replacement=True)# fit predictor and target variable\n",
    "\n",
    "x=train\n",
    "y=labels['h1n1_vaccine']\n",
    "\n",
    "x_h1n1, y_h1n1 = rus.fit_resample(x, y)\n",
    "\n",
    "print('original dataset shape:', collections.Counter(y))\n",
    "print('Resample dataset shape', collections.Counter(y_h1n1))"
   ]
  },
  {
   "cell_type": "markdown",
   "metadata": {},
   "source": [
    "### Resampling for Seasonal Vaccine Receiver Prediction Model"
   ]
  },
  {
   "cell_type": "code",
   "execution_count": 15,
   "metadata": {},
   "outputs": [
    {
     "name": "stdout",
     "output_type": "stream",
     "text": [
      "original dataset shape: Counter({0: 14272, 1: 12435})\n",
      "Resample dataset shape Counter({0: 12435, 1: 12435})\n"
     ]
    }
   ],
   "source": [
    "import collections\n",
    "from imblearn.under_sampling import RandomUnderSampler\n",
    "rus = RandomUnderSampler(random_state=42, replacement=True)# fit predictor and target variable\n",
    "\n",
    "x=train\n",
    "y=labels['seasonal_vaccine']\n",
    "\n",
    "x_seasonal, y_seasonal = rus.fit_resample(x, y)\n",
    "\n",
    "print('original dataset shape:', collections.Counter(y))\n",
    "print('Resample dataset shape', collections.Counter(y_seasonal))"
   ]
  },
  {
   "cell_type": "markdown",
   "metadata": {},
   "source": [
    "## Data Imputation"
   ]
  },
  {
   "cell_type": "markdown",
   "metadata": {},
   "source": [
    "### Imputation Assumption"
   ]
  },
  {
   "cell_type": "markdown",
   "metadata": {},
   "source": [
    "1. Replacement of 'null' to '0' for all features related to respondents level of awareness , knowledge and behavioral. "
   ]
  },
  {
   "cell_type": "code",
   "execution_count": 16,
   "metadata": {},
   "outputs": [],
   "source": [
    "x_h1n1['h1n1_concern']=x_h1n1['h1n1_concern'].fillna(0).astype(int)\n",
    "x_h1n1['h1n1_knowledge']=x_h1n1['h1n1_knowledge'].fillna(0).astype(int)\n",
    "x_h1n1['behavioral_antiviral_meds']=x_h1n1['behavioral_antiviral_meds'].fillna(0).astype(int)\n",
    "x_h1n1['behavioral_avoidance']=x_h1n1['behavioral_avoidance'].fillna(0).astype(int)\n",
    "x_h1n1['behavioral_face_mask']=x_h1n1['behavioral_face_mask'].fillna(0).astype(int)\n",
    "x_h1n1['behavioral_wash_hands']=x_h1n1['behavioral_wash_hands'].fillna(0).astype(int)\n",
    "x_h1n1['behavioral_large_gatherings']=x_h1n1['behavioral_large_gatherings'].fillna(0).astype(int)\n",
    "x_h1n1['behavioral_outside_home']=x_h1n1['behavioral_outside_home'].fillna(0).astype(int)\n",
    "x_h1n1['behavioral_touch_face']=x_h1n1['behavioral_touch_face'].fillna(0).astype(int)"
   ]
  },
  {
   "cell_type": "code",
   "execution_count": 17,
   "metadata": {},
   "outputs": [],
   "source": [
    "x_seasonal['h1n1_concern']=x_seasonal['h1n1_concern'].fillna(0).astype(int)\n",
    "x_seasonal['h1n1_knowledge']=x_seasonal['h1n1_knowledge'].fillna(0).astype(int)\n",
    "x_seasonal['behavioral_antiviral_meds']=x_seasonal['behavioral_antiviral_meds'].fillna(0).astype(int)\n",
    "x_seasonal['behavioral_avoidance']=x_seasonal['behavioral_avoidance'].fillna(0).astype(int)\n",
    "x_seasonal['behavioral_face_mask']=x_seasonal['behavioral_face_mask'].fillna(0).astype(int)\n",
    "x_seasonal['behavioral_wash_hands']=x_seasonal['behavioral_wash_hands'].fillna(0).astype(int)\n",
    "x_seasonal['behavioral_large_gatherings']=x_seasonal['behavioral_large_gatherings'].fillna(0).astype(int)\n",
    "x_seasonal['behavioral_outside_home']=x_seasonal['behavioral_outside_home'].fillna(0).astype(int)\n",
    "x_seasonal['behavioral_touch_face']=x_seasonal['behavioral_touch_face'].fillna(0).astype(int)"
   ]
  },
  {
   "cell_type": "code",
   "execution_count": 18,
   "metadata": {},
   "outputs": [],
   "source": [
    "test['h1n1_concern']=test['h1n1_concern'].fillna(0).astype(int)\n",
    "test['h1n1_knowledge']=test['h1n1_knowledge'].fillna(0).astype(int)\n",
    "test['behavioral_antiviral_meds']=test['behavioral_antiviral_meds'].fillna(0).astype(int)\n",
    "test['behavioral_avoidance']=test['behavioral_avoidance'].fillna(0).astype(int)\n",
    "test['behavioral_face_mask']=test['behavioral_face_mask'].fillna(0).astype(int)\n",
    "test['behavioral_wash_hands']=test['behavioral_wash_hands'].fillna(0).astype(int)\n",
    "test['behavioral_large_gatherings']=test['behavioral_large_gatherings'].fillna(0).astype(int)\n",
    "test['behavioral_outside_home']=test['behavioral_outside_home'].fillna(0).astype(int)\n",
    "test['behavioral_touch_face']=test['behavioral_touch_face'].fillna(0).astype(int)"
   ]
  },
  {
   "cell_type": "markdown",
   "metadata": {},
   "source": [
    "2. Replacement of 'null' to '0' for features related to doctor recommendation, whereby no recommendation made "
   ]
  },
  {
   "cell_type": "code",
   "execution_count": 19,
   "metadata": {},
   "outputs": [],
   "source": [
    "x_h1n1['doctor_recc_h1n1']=x_h1n1['doctor_recc_h1n1'].fillna(0).astype(int)\n",
    "x_h1n1['doctor_recc_seasonal']=x_h1n1['doctor_recc_seasonal'].fillna(0).astype(int)"
   ]
  },
  {
   "cell_type": "code",
   "execution_count": 20,
   "metadata": {},
   "outputs": [],
   "source": [
    "x_seasonal['doctor_recc_h1n1']=x_seasonal['doctor_recc_h1n1'].fillna(0).astype(int)\n",
    "x_seasonal['doctor_recc_seasonal']=x_seasonal['doctor_recc_seasonal'].fillna(0).astype(int)"
   ]
  },
  {
   "cell_type": "code",
   "execution_count": 21,
   "metadata": {},
   "outputs": [],
   "source": [
    "test['doctor_recc_h1n1']=test['doctor_recc_h1n1'].fillna(0).astype(int)\n",
    "test['doctor_recc_seasonal']=test['doctor_recc_seasonal'].fillna(0).astype(int)"
   ]
  },
  {
   "cell_type": "markdown",
   "metadata": {},
   "source": [
    "3. Replacement of 'null' to '0' assuming that the respondents might not even have a child and have any frequent connection with children ,not a health worker, do not have health insurance and not chronic medical condition . Assuming that the respondent would know if they have any of the above."
   ]
  },
  {
   "cell_type": "code",
   "execution_count": 22,
   "metadata": {},
   "outputs": [],
   "source": [
    "x_h1n1['child_under_6_months']=x_h1n1['child_under_6_months'].fillna(0).astype(int)\n",
    "x_h1n1['health_worker']=x_h1n1['health_worker'].fillna(0).astype(int)\n",
    "x_h1n1['health_insurance']=x_h1n1['health_insurance'].fillna(0).astype(int)\n",
    "x_h1n1['chronic_med_condition']=x_h1n1['chronic_med_condition'].fillna(0).astype(int)"
   ]
  },
  {
   "cell_type": "code",
   "execution_count": 23,
   "metadata": {},
   "outputs": [],
   "source": [
    "x_seasonal['child_under_6_months']=x_seasonal['child_under_6_months'].fillna(0).astype(int)\n",
    "x_seasonal['health_worker']=x_seasonal['health_worker'].fillna(0).astype(int)\n",
    "x_seasonal['health_insurance']=x_seasonal['health_insurance'].fillna(0).astype(int)\n",
    "x_seasonal['chronic_med_condition']=x_seasonal['chronic_med_condition'].fillna(0).astype(int)"
   ]
  },
  {
   "cell_type": "code",
   "execution_count": 24,
   "metadata": {},
   "outputs": [],
   "source": [
    "test['child_under_6_months']=test['child_under_6_months'].fillna(0).astype(int)\n",
    "test['health_worker']=test['health_worker'].fillna(0).astype(int)\n",
    "test['health_insurance']=test['health_insurance'].fillna(0).astype(int)\n",
    "test['chronic_med_condition']=test['chronic_med_condition'].fillna(0).astype(int)"
   ]
  },
  {
   "cell_type": "markdown",
   "metadata": {},
   "source": [
    "4. Replacement of 'null' to '3' assuming respondents are undecideable or not really sure on their opinions"
   ]
  },
  {
   "cell_type": "code",
   "execution_count": 25,
   "metadata": {},
   "outputs": [],
   "source": [
    "x_h1n1['opinion_h1n1_vacc_effective']=x_h1n1['opinion_h1n1_vacc_effective'].fillna(3).astype(int)\n",
    "x_h1n1['opinion_h1n1_risk']=x_h1n1['opinion_h1n1_risk'].fillna(3).astype(int)\n",
    "x_h1n1['opinion_h1n1_sick_from_vacc']=x_h1n1['opinion_h1n1_sick_from_vacc'].fillna(3).astype(int)\n",
    "x_h1n1['opinion_seas_vacc_effective']=x_h1n1['opinion_seas_vacc_effective'].fillna(3).astype(int)\n",
    "x_h1n1['opinion_seas_risk']=x_h1n1['opinion_seas_risk'].fillna(3).astype(int)\n",
    "x_h1n1['opinion_seas_sick_from_vacc']=x_h1n1['opinion_seas_sick_from_vacc'].fillna(3).astype(int)"
   ]
  },
  {
   "cell_type": "code",
   "execution_count": 26,
   "metadata": {},
   "outputs": [],
   "source": [
    "x_seasonal['opinion_h1n1_vacc_effective']=x_seasonal['opinion_h1n1_vacc_effective'].fillna(3).astype(int)\n",
    "x_seasonal['opinion_h1n1_risk']=x_seasonal['opinion_h1n1_risk'].fillna(3).astype(int)\n",
    "x_seasonal['opinion_h1n1_sick_from_vacc']=x_seasonal['opinion_h1n1_sick_from_vacc'].fillna(3).astype(int)\n",
    "x_seasonal['opinion_seas_vacc_effective']=x_seasonal['opinion_seas_vacc_effective'].fillna(3).astype(int)\n",
    "x_seasonal['opinion_seas_risk']=x_seasonal['opinion_seas_risk'].fillna(3).astype(int)\n",
    "x_seasonal['opinion_seas_sick_from_vacc']=x_seasonal['opinion_seas_sick_from_vacc'].fillna(3).astype(int)"
   ]
  },
  {
   "cell_type": "code",
   "execution_count": 27,
   "metadata": {},
   "outputs": [],
   "source": [
    "test['opinion_h1n1_vacc_effective']=test['opinion_h1n1_vacc_effective'].fillna(3).astype(int)\n",
    "test['opinion_h1n1_risk']=test['opinion_h1n1_risk'].fillna(3).astype(int)\n",
    "test['opinion_h1n1_sick_from_vacc']=test['opinion_h1n1_sick_from_vacc'].fillna(3).astype(int)\n",
    "test['opinion_seas_vacc_effective']=test['opinion_seas_vacc_effective'].fillna(3).astype(int)\n",
    "test['opinion_seas_risk']=test['opinion_seas_risk'].fillna(3).astype(int)\n",
    "test['opinion_seas_sick_from_vacc']=test['opinion_seas_sick_from_vacc'].fillna(3).astype(int)"
   ]
  },
  {
   "cell_type": "markdown",
   "metadata": {},
   "source": [
    "5. Replacement of 'null' to 'Some College' category for x_h1n1 , to '12 Years' for x_seasonal and to '12 Years' category for test dataset considering **nearest** to mean count of respondents which indicate their education level."
   ]
  },
  {
   "cell_type": "code",
   "execution_count": 28,
   "metadata": {},
   "outputs": [
    {
     "data": {
      "text/plain": [
       "average count    2699.25\n",
       "dtype: float64"
      ]
     },
     "execution_count": 28,
     "metadata": {},
     "output_type": "execute_result"
    }
   ],
   "source": [
    "x_h1n1[x_h1n1['education'].notnull()].groupby('education')['respondent_id'].count().reset_index().rename(columns={'respondent_id':'average count'}).mean(axis=0)"
   ]
  },
  {
   "cell_type": "code",
   "execution_count": 29,
   "metadata": {},
   "outputs": [
    {
     "data": {
      "text/html": [
       "<div>\n",
       "<style scoped>\n",
       "    .dataframe tbody tr th:only-of-type {\n",
       "        vertical-align: middle;\n",
       "    }\n",
       "\n",
       "    .dataframe tbody tr th {\n",
       "        vertical-align: top;\n",
       "    }\n",
       "\n",
       "    .dataframe thead th {\n",
       "        text-align: right;\n",
       "    }\n",
       "</style>\n",
       "<table border=\"1\" class=\"dataframe\">\n",
       "  <thead>\n",
       "    <tr style=\"text-align: right;\">\n",
       "      <th></th>\n",
       "      <th>education</th>\n",
       "      <th>count</th>\n",
       "      <th>dif_avg</th>\n",
       "    </tr>\n",
       "  </thead>\n",
       "  <tbody>\n",
       "    <tr>\n",
       "      <th>0</th>\n",
       "      <td>12 Years</td>\n",
       "      <td>2333</td>\n",
       "      <td>367</td>\n",
       "    </tr>\n",
       "    <tr>\n",
       "      <th>1</th>\n",
       "      <td>&lt; 12 Years</td>\n",
       "      <td>930</td>\n",
       "      <td>1770</td>\n",
       "    </tr>\n",
       "    <tr>\n",
       "      <th>2</th>\n",
       "      <td>College Graduate</td>\n",
       "      <td>4561</td>\n",
       "      <td>1861</td>\n",
       "    </tr>\n",
       "    <tr>\n",
       "      <th>3</th>\n",
       "      <td>Some College</td>\n",
       "      <td>2973</td>\n",
       "      <td>273</td>\n",
       "    </tr>\n",
       "  </tbody>\n",
       "</table>\n",
       "</div>"
      ],
      "text/plain": [
       "          education  count  dif_avg\n",
       "0          12 Years   2333      367\n",
       "1        < 12 Years    930     1770\n",
       "2  College Graduate   4561     1861\n",
       "3      Some College   2973      273"
      ]
     },
     "execution_count": 29,
     "metadata": {},
     "output_type": "execute_result"
    }
   ],
   "source": [
    "edu_train_h1n1=x_h1n1[x_h1n1['education'].notnull()].groupby('education')['respondent_id'].count().reset_index().rename(columns={'respondent_id':'count'})\n",
    "edu_train_h1n1['dif_avg']=abs(edu_train_h1n1['count']-2700)\n",
    "edu_train_h1n1"
   ]
  },
  {
   "cell_type": "code",
   "execution_count": 30,
   "metadata": {},
   "outputs": [
    {
     "data": {
      "text/plain": [
       "average count    5903.25\n",
       "dtype: float64"
      ]
     },
     "execution_count": 30,
     "metadata": {},
     "output_type": "execute_result"
    }
   ],
   "source": [
    "x_seasonal[x_seasonal['education'].notnull()].groupby('education')['respondent_id'].count().reset_index().rename(columns={'respondent_id':'average count'}).mean(axis=0)\n"
   ]
  },
  {
   "cell_type": "code",
   "execution_count": 31,
   "metadata": {},
   "outputs": [
    {
     "data": {
      "text/html": [
       "<div>\n",
       "<style scoped>\n",
       "    .dataframe tbody tr th:only-of-type {\n",
       "        vertical-align: middle;\n",
       "    }\n",
       "\n",
       "    .dataframe tbody tr th {\n",
       "        vertical-align: top;\n",
       "    }\n",
       "\n",
       "    .dataframe thead th {\n",
       "        text-align: right;\n",
       "    }\n",
       "</style>\n",
       "<table border=\"1\" class=\"dataframe\">\n",
       "  <thead>\n",
       "    <tr style=\"text-align: right;\">\n",
       "      <th></th>\n",
       "      <th>education</th>\n",
       "      <th>count</th>\n",
       "      <th>dif_avg</th>\n",
       "    </tr>\n",
       "  </thead>\n",
       "  <tbody>\n",
       "    <tr>\n",
       "      <th>0</th>\n",
       "      <td>12 Years</td>\n",
       "      <td>5374</td>\n",
       "      <td>529</td>\n",
       "    </tr>\n",
       "    <tr>\n",
       "      <th>1</th>\n",
       "      <td>&lt; 12 Years</td>\n",
       "      <td>2209</td>\n",
       "      <td>3694</td>\n",
       "    </tr>\n",
       "    <tr>\n",
       "      <th>2</th>\n",
       "      <td>College Graduate</td>\n",
       "      <td>9499</td>\n",
       "      <td>3596</td>\n",
       "    </tr>\n",
       "    <tr>\n",
       "      <th>3</th>\n",
       "      <td>Some College</td>\n",
       "      <td>6531</td>\n",
       "      <td>628</td>\n",
       "    </tr>\n",
       "  </tbody>\n",
       "</table>\n",
       "</div>"
      ],
      "text/plain": [
       "          education  count  dif_avg\n",
       "0          12 Years   5374      529\n",
       "1        < 12 Years   2209     3694\n",
       "2  College Graduate   9499     3596\n",
       "3      Some College   6531      628"
      ]
     },
     "execution_count": 31,
     "metadata": {},
     "output_type": "execute_result"
    }
   ],
   "source": [
    "edu_train_seasonal=x_seasonal[x_seasonal['education'].notnull()].groupby('education')['respondent_id'].count().reset_index().rename(columns={'respondent_id':'count'})\n",
    "edu_train_seasonal['dif_avg']=abs(edu_train_seasonal['count']-5903)\n",
    "edu_train_seasonal"
   ]
  },
  {
   "cell_type": "code",
   "execution_count": 32,
   "metadata": {},
   "outputs": [
    {
     "data": {
      "text/plain": [
       "count    6325.25\n",
       "dtype: float64"
      ]
     },
     "execution_count": 32,
     "metadata": {},
     "output_type": "execute_result"
    }
   ],
   "source": [
    "test[test['education'].notnull()].groupby('education')['respondent_id'].count().reset_index().rename(columns={'respondent_id':'count'}).mean(axis=0)"
   ]
  },
  {
   "cell_type": "code",
   "execution_count": 33,
   "metadata": {},
   "outputs": [
    {
     "data": {
      "text/html": [
       "<div>\n",
       "<style scoped>\n",
       "    .dataframe tbody tr th:only-of-type {\n",
       "        vertical-align: middle;\n",
       "    }\n",
       "\n",
       "    .dataframe tbody tr th {\n",
       "        vertical-align: top;\n",
       "    }\n",
       "\n",
       "    .dataframe thead th {\n",
       "        text-align: right;\n",
       "    }\n",
       "</style>\n",
       "<table border=\"1\" class=\"dataframe\">\n",
       "  <thead>\n",
       "    <tr style=\"text-align: right;\">\n",
       "      <th></th>\n",
       "      <th>education</th>\n",
       "      <th>count</th>\n",
       "      <th>dif_avg</th>\n",
       "    </tr>\n",
       "  </thead>\n",
       "  <tbody>\n",
       "    <tr>\n",
       "      <th>0</th>\n",
       "      <td>12 Years</td>\n",
       "      <td>5699</td>\n",
       "      <td>626.25</td>\n",
       "    </tr>\n",
       "    <tr>\n",
       "      <th>1</th>\n",
       "      <td>&lt; 12 Years</td>\n",
       "      <td>2336</td>\n",
       "      <td>3989.25</td>\n",
       "    </tr>\n",
       "    <tr>\n",
       "      <th>2</th>\n",
       "      <td>College Graduate</td>\n",
       "      <td>10186</td>\n",
       "      <td>3860.75</td>\n",
       "    </tr>\n",
       "    <tr>\n",
       "      <th>3</th>\n",
       "      <td>Some College</td>\n",
       "      <td>7080</td>\n",
       "      <td>754.75</td>\n",
       "    </tr>\n",
       "  </tbody>\n",
       "</table>\n",
       "</div>"
      ],
      "text/plain": [
       "          education  count  dif_avg\n",
       "0          12 Years   5699   626.25\n",
       "1        < 12 Years   2336  3989.25\n",
       "2  College Graduate  10186  3860.75\n",
       "3      Some College   7080   754.75"
      ]
     },
     "execution_count": 33,
     "metadata": {},
     "output_type": "execute_result"
    }
   ],
   "source": [
    "edu_test=test[test['education'].notnull()].groupby('education')['respondent_id'].count().reset_index().rename(columns={'respondent_id':'count'})\n",
    "edu_test['dif_avg']=abs(edu_test['count']-6325.25) \n",
    "edu_test"
   ]
  },
  {
   "cell_type": "code",
   "execution_count": 34,
   "metadata": {},
   "outputs": [
    {
     "data": {
      "text/plain": [
       "<matplotlib.collections.LineCollection at 0x7f49b84a0b38>"
      ]
     },
     "execution_count": 34,
     "metadata": {},
     "output_type": "execute_result"
    },
    {
     "data": {
      "image/png": "[encoded data removed]",
      "text/plain": [
       "<Figure size 1440x360 with 3 Axes>"
      ]
     },
     "metadata": {
      "needs_background": "light"
     },
     "output_type": "display_data"
    }
   ],
   "source": [
    "fig, axes = plt.subplots(nrows=1, ncols=3 ,figsize=[20,5])\n",
    "\n",
    "x_h1n1.groupby('education')['respondent_id'].count().plot.bar(ax=axes[0],title='x_h1n1').hlines(2700, xmin=-1, xmax=5, linestyles='dashed',color='red') \n",
    "x_seasonal.groupby('education')['respondent_id'].count().plot.bar(ax=axes[1],title='x_seasonal').hlines(5903, xmin=-1, xmax=5, linestyles='dashed',color='red') \n",
    "test.groupby('education')['respondent_id'].count().plot.bar(ax=axes[2],title='test').hlines(6325.25, xmin=-1, xmax=5, linestyles='dashed',color='red') "
   ]
  },
  {
   "cell_type": "code",
   "execution_count": 35,
   "metadata": {},
   "outputs": [],
   "source": [
    "x_h1n1['education']=x_h1n1['education'].fillna('Some College').astype(str)\n",
    "x_seasonal['education']=x_seasonal['education'].fillna('12 Years').astype(str)\n",
    "test['education']=test['education'].fillna('12 Years').astype(str)"
   ]
  },
  {
   "cell_type": "markdown",
   "metadata": {},
   "source": [
    "6. Replacement of 'null' to '> 75,000' category for x_h1n1, x_seasonal and test considering **nearest** to mean count of respondents which indicate their income poverty."
   ]
  },
  {
   "cell_type": "code",
   "execution_count": 36,
   "metadata": {},
   "outputs": [
    {
     "data": {
      "text/plain": [
       "average count    2379.0\n",
       "dtype: float64"
      ]
     },
     "execution_count": 36,
     "metadata": {},
     "output_type": "execute_result"
    }
   ],
   "source": [
    "x_h1n1[x_h1n1['income_poverty'].notnull()].groupby('education')['respondent_id'].count().reset_index().rename(columns={'respondent_id':'average count'}).mean(axis=0)"
   ]
  },
  {
   "cell_type": "code",
   "execution_count": 37,
   "metadata": {},
   "outputs": [
    {
     "data": {
      "text/html": [
       "<div>\n",
       "<style scoped>\n",
       "    .dataframe tbody tr th:only-of-type {\n",
       "        vertical-align: middle;\n",
       "    }\n",
       "\n",
       "    .dataframe tbody tr th {\n",
       "        vertical-align: top;\n",
       "    }\n",
       "\n",
       "    .dataframe thead th {\n",
       "        text-align: right;\n",
       "    }\n",
       "</style>\n",
       "<table border=\"1\" class=\"dataframe\">\n",
       "  <thead>\n",
       "    <tr style=\"text-align: right;\">\n",
       "      <th></th>\n",
       "      <th>income_poverty</th>\n",
       "      <th>count</th>\n",
       "      <th>dif_avg</th>\n",
       "    </tr>\n",
       "  </thead>\n",
       "  <tbody>\n",
       "    <tr>\n",
       "      <th>0</th>\n",
       "      <td>&lt;= $75,000, Above Poverty</td>\n",
       "      <td>5317</td>\n",
       "      <td>2938.0</td>\n",
       "    </tr>\n",
       "    <tr>\n",
       "      <th>1</th>\n",
       "      <td>&gt; $75,000</td>\n",
       "      <td>3107</td>\n",
       "      <td>728.0</td>\n",
       "    </tr>\n",
       "    <tr>\n",
       "      <th>2</th>\n",
       "      <td>Below Poverty</td>\n",
       "      <td>1092</td>\n",
       "      <td>1287.0</td>\n",
       "    </tr>\n",
       "  </tbody>\n",
       "</table>\n",
       "</div>"
      ],
      "text/plain": [
       "              income_poverty  count  dif_avg\n",
       "0  <= $75,000, Above Poverty   5317   2938.0\n",
       "1                  > $75,000   3107    728.0\n",
       "2              Below Poverty   1092   1287.0"
      ]
     },
     "execution_count": 37,
     "metadata": {},
     "output_type": "execute_result"
    }
   ],
   "source": [
    "income_poverty_h1n1=x_h1n1[x_h1n1['income_poverty'].notnull()].groupby('income_poverty')['respondent_id'].count().reset_index().rename(columns={'respondent_id':'count'})\n",
    "income_poverty_h1n1['dif_avg']=abs(income_poverty_h1n1['count']-2379.0)\n",
    "income_poverty_h1n1"
   ]
  },
  {
   "cell_type": "code",
   "execution_count": 38,
   "metadata": {},
   "outputs": [
    {
     "data": {
      "text/plain": [
       "average count    5192.5\n",
       "dtype: float64"
      ]
     },
     "execution_count": 38,
     "metadata": {},
     "output_type": "execute_result"
    }
   ],
   "source": [
    "x_seasonal[x_seasonal['income_poverty'].notnull()].groupby('education')['respondent_id'].count().reset_index().rename(columns={'respondent_id':'average count'}).mean(axis=0)"
   ]
  },
  {
   "cell_type": "code",
   "execution_count": 39,
   "metadata": {},
   "outputs": [
    {
     "data": {
      "text/html": [
       "<div>\n",
       "<style scoped>\n",
       "    .dataframe tbody tr th:only-of-type {\n",
       "        vertical-align: middle;\n",
       "    }\n",
       "\n",
       "    .dataframe tbody tr th {\n",
       "        vertical-align: top;\n",
       "    }\n",
       "\n",
       "    .dataframe thead th {\n",
       "        text-align: right;\n",
       "    }\n",
       "</style>\n",
       "<table border=\"1\" class=\"dataframe\">\n",
       "  <thead>\n",
       "    <tr style=\"text-align: right;\">\n",
       "      <th></th>\n",
       "      <th>income_poverty</th>\n",
       "      <th>count</th>\n",
       "      <th>dif_avg</th>\n",
       "    </tr>\n",
       "  </thead>\n",
       "  <tbody>\n",
       "    <tr>\n",
       "      <th>0</th>\n",
       "      <td>&lt;= $75,000, Above Poverty</td>\n",
       "      <td>11982</td>\n",
       "      <td>124.5</td>\n",
       "    </tr>\n",
       "    <tr>\n",
       "      <th>1</th>\n",
       "      <td>&gt; $75,000</td>\n",
       "      <td>6336</td>\n",
       "      <td>2085.5</td>\n",
       "    </tr>\n",
       "    <tr>\n",
       "      <th>2</th>\n",
       "      <td>Below Poverty</td>\n",
       "      <td>2452</td>\n",
       "      <td>4100.5</td>\n",
       "    </tr>\n",
       "  </tbody>\n",
       "</table>\n",
       "</div>"
      ],
      "text/plain": [
       "              income_poverty  count  dif_avg\n",
       "0  <= $75,000, Above Poverty  11982    124.5\n",
       "1                  > $75,000   6336   2085.5\n",
       "2              Below Poverty   2452   4100.5"
      ]
     },
     "execution_count": 39,
     "metadata": {},
     "output_type": "execute_result"
    }
   ],
   "source": [
    "income_poverty_seasonal=x_seasonal[x_seasonal['income_poverty'].notnull()].groupby('income_poverty')['respondent_id'].count().reset_index().rename(columns={'respondent_id':'count'})\n",
    "income_poverty_seasonal['dif_avg']=abs(income_poverty_h1n1['count']-5192.5)\n",
    "income_poverty_seasonal"
   ]
  },
  {
   "cell_type": "code",
   "execution_count": 40,
   "metadata": {},
   "outputs": [
    {
     "data": {
      "text/plain": [
       "average count    5552.75\n",
       "dtype: float64"
      ]
     },
     "execution_count": 40,
     "metadata": {},
     "output_type": "execute_result"
    }
   ],
   "source": [
    "test[test['income_poverty'].notnull()].groupby('education')['respondent_id'].count().reset_index().rename(columns={'respondent_id':'average count'}).mean(axis=0)"
   ]
  },
  {
   "cell_type": "code",
   "execution_count": 41,
   "metadata": {},
   "outputs": [
    {
     "data": {
      "text/html": [
       "<div>\n",
       "<style scoped>\n",
       "    .dataframe tbody tr th:only-of-type {\n",
       "        vertical-align: middle;\n",
       "    }\n",
       "\n",
       "    .dataframe tbody tr th {\n",
       "        vertical-align: top;\n",
       "    }\n",
       "\n",
       "    .dataframe thead th {\n",
       "        text-align: right;\n",
       "    }\n",
       "</style>\n",
       "<table border=\"1\" class=\"dataframe\">\n",
       "  <thead>\n",
       "    <tr style=\"text-align: right;\">\n",
       "      <th></th>\n",
       "      <th>income_poverty</th>\n",
       "      <th>count</th>\n",
       "      <th>dif_avg</th>\n",
       "    </tr>\n",
       "  </thead>\n",
       "  <tbody>\n",
       "    <tr>\n",
       "      <th>0</th>\n",
       "      <td>&lt;= $75,000, Above Poverty</td>\n",
       "      <td>12775</td>\n",
       "      <td>7222.25</td>\n",
       "    </tr>\n",
       "    <tr>\n",
       "      <th>1</th>\n",
       "      <td>&gt; $75,000</td>\n",
       "      <td>6863</td>\n",
       "      <td>1310.25</td>\n",
       "    </tr>\n",
       "    <tr>\n",
       "      <th>2</th>\n",
       "      <td>Below Poverty</td>\n",
       "      <td>2573</td>\n",
       "      <td>2979.75</td>\n",
       "    </tr>\n",
       "  </tbody>\n",
       "</table>\n",
       "</div>"
      ],
      "text/plain": [
       "              income_poverty  count  dif_avg\n",
       "0  <= $75,000, Above Poverty  12775  7222.25\n",
       "1                  > $75,000   6863  1310.25\n",
       "2              Below Poverty   2573  2979.75"
      ]
     },
     "execution_count": 41,
     "metadata": {},
     "output_type": "execute_result"
    }
   ],
   "source": [
    "income_poverty_test=test[test['income_poverty'].notnull()].groupby('income_poverty')['respondent_id'].count().reset_index().rename(columns={'respondent_id':'count'})\n",
    "income_poverty_test['dif_avg']=abs(income_poverty_test['count']-5552.75)\n",
    "income_poverty_test"
   ]
  },
  {
   "cell_type": "code",
   "execution_count": 42,
   "metadata": {},
   "outputs": [
    {
     "data": {
      "text/plain": [
       "<matplotlib.collections.LineCollection at 0x7f49b834cda0>"
      ]
     },
     "execution_count": 42,
     "metadata": {},
     "output_type": "execute_result"
    },
    {
     "data": {
      "image/png": "[encoded data removed]",
      "text/plain": [
       "<Figure size 1440x360 with 3 Axes>"
      ]
     },
     "metadata": {
      "needs_background": "light"
     },
     "output_type": "display_data"
    }
   ],
   "source": [
    "fig, axes = plt.subplots(nrows=1, ncols=3 ,figsize=[20,5])\n",
    "\n",
    "x_h1n1.groupby('income_poverty')['respondent_id'].count().plot.bar(ax=axes[0],title='x_h1n1').hlines(2379.0, xmin=-1, xmax=5, linestyles='dashed',color='red') \n",
    "x_seasonal.groupby('income_poverty')['respondent_id'].count().plot.bar(ax=axes[1],title='x_seasonal').hlines(5192.5, xmin=-1, xmax=5, linestyles='dashed',color='red') \n",
    "test.groupby('income_poverty')['respondent_id'].count().plot.bar(ax=axes[2],title='test').hlines(5552.75, xmin=-1, xmax=5, linestyles='dashed',color='red') "
   ]
  },
  {
   "cell_type": "code",
   "execution_count": 43,
   "metadata": {},
   "outputs": [],
   "source": [
    "x_h1n1['income_poverty']=x_h1n1['income_poverty'].fillna('> $75,000').astype(str)\n",
    "x_seasonal['income_poverty']=x_seasonal['income_poverty'].fillna('> $75,000').astype(str)\n",
    "test['income_poverty']=test['income_poverty'].fillna('> $75,000').astype(str)"
   ]
  },
  {
   "cell_type": "markdown",
   "metadata": {},
   "source": [
    "7. Replacement of 'null' to 'Not Married' category for x_h1n1,x_seasonal and test considering the **least count** since **nearest** to mean count for both categories are equal."
   ]
  },
  {
   "cell_type": "code",
   "execution_count": 44,
   "metadata": {},
   "outputs": [
    {
     "data": {
      "text/plain": [
       "average count    5395.0\n",
       "dtype: float64"
      ]
     },
     "execution_count": 44,
     "metadata": {},
     "output_type": "execute_result"
    }
   ],
   "source": [
    "x_h1n1[x_h1n1['marital_status'].notnull()].groupby('marital_status')['respondent_id'].count().reset_index().rename(columns={'respondent_id':'average count'}).mean(axis=0)"
   ]
  },
  {
   "cell_type": "code",
   "execution_count": 45,
   "metadata": {},
   "outputs": [
    {
     "data": {
      "text/html": [
       "<div>\n",
       "<style scoped>\n",
       "    .dataframe tbody tr th:only-of-type {\n",
       "        vertical-align: middle;\n",
       "    }\n",
       "\n",
       "    .dataframe tbody tr th {\n",
       "        vertical-align: top;\n",
       "    }\n",
       "\n",
       "    .dataframe thead th {\n",
       "        text-align: right;\n",
       "    }\n",
       "</style>\n",
       "<table border=\"1\" class=\"dataframe\">\n",
       "  <thead>\n",
       "    <tr style=\"text-align: right;\">\n",
       "      <th></th>\n",
       "      <th>marital_status</th>\n",
       "      <th>count</th>\n",
       "      <th>dif_avg</th>\n",
       "    </tr>\n",
       "  </thead>\n",
       "  <tbody>\n",
       "    <tr>\n",
       "      <th>0</th>\n",
       "      <td>Married</td>\n",
       "      <td>5948</td>\n",
       "      <td>553.0</td>\n",
       "    </tr>\n",
       "    <tr>\n",
       "      <th>1</th>\n",
       "      <td>Not Married</td>\n",
       "      <td>4842</td>\n",
       "      <td>553.0</td>\n",
       "    </tr>\n",
       "  </tbody>\n",
       "</table>\n",
       "</div>"
      ],
      "text/plain": [
       "  marital_status  count  dif_avg\n",
       "0        Married   5948    553.0\n",
       "1    Not Married   4842    553.0"
      ]
     },
     "execution_count": 45,
     "metadata": {},
     "output_type": "execute_result"
    }
   ],
   "source": [
    "marital_status_h1n1=x_h1n1[x_h1n1['marital_status'].notnull()].groupby('marital_status')['respondent_id'].count().reset_index().rename(columns={'respondent_id':'count'})\n",
    "marital_status_h1n1['dif_avg']=abs(marital_status_h1n1['count']-5395.0)\n",
    "marital_status_h1n1"
   ]
  },
  {
   "cell_type": "code",
   "execution_count": 46,
   "metadata": {},
   "outputs": [
    {
     "data": {
      "text/plain": [
       "average count    11803.5\n",
       "dtype: float64"
      ]
     },
     "execution_count": 46,
     "metadata": {},
     "output_type": "execute_result"
    }
   ],
   "source": [
    "x_seasonal[x_seasonal['marital_status'].notnull()].groupby('marital_status')['respondent_id'].count().reset_index().rename(columns={'respondent_id':'average count'}).mean(axis=0)"
   ]
  },
  {
   "cell_type": "code",
   "execution_count": 47,
   "metadata": {},
   "outputs": [
    {
     "data": {
      "text/html": [
       "<div>\n",
       "<style scoped>\n",
       "    .dataframe tbody tr th:only-of-type {\n",
       "        vertical-align: middle;\n",
       "    }\n",
       "\n",
       "    .dataframe tbody tr th {\n",
       "        vertical-align: top;\n",
       "    }\n",
       "\n",
       "    .dataframe thead th {\n",
       "        text-align: right;\n",
       "    }\n",
       "</style>\n",
       "<table border=\"1\" class=\"dataframe\">\n",
       "  <thead>\n",
       "    <tr style=\"text-align: right;\">\n",
       "      <th></th>\n",
       "      <th>marital_status</th>\n",
       "      <th>count</th>\n",
       "      <th>dif_avg</th>\n",
       "    </tr>\n",
       "  </thead>\n",
       "  <tbody>\n",
       "    <tr>\n",
       "      <th>0</th>\n",
       "      <td>Married</td>\n",
       "      <td>12704</td>\n",
       "      <td>900.5</td>\n",
       "    </tr>\n",
       "    <tr>\n",
       "      <th>1</th>\n",
       "      <td>Not Married</td>\n",
       "      <td>10903</td>\n",
       "      <td>900.5</td>\n",
       "    </tr>\n",
       "  </tbody>\n",
       "</table>\n",
       "</div>"
      ],
      "text/plain": [
       "  marital_status  count  dif_avg\n",
       "0        Married  12704    900.5\n",
       "1    Not Married  10903    900.5"
      ]
     },
     "execution_count": 47,
     "metadata": {},
     "output_type": "execute_result"
    }
   ],
   "source": [
    "marital_status_seasonal=x_seasonal[x_seasonal['marital_status'].notnull()].groupby('marital_status')['respondent_id'].count().reset_index().rename(columns={'respondent_id':'count'})\n",
    "marital_status_seasonal['dif_avg']=abs(marital_status_seasonal['count']-11803.5)\n",
    "marital_status_seasonal"
   ]
  },
  {
   "cell_type": "code",
   "execution_count": 48,
   "metadata": {},
   "outputs": [
    {
     "data": {
      "text/plain": [
       "average count    12633.0\n",
       "dtype: float64"
      ]
     },
     "execution_count": 48,
     "metadata": {},
     "output_type": "execute_result"
    }
   ],
   "source": [
    "test[test['marital_status'].notnull()].groupby('marital_status')['respondent_id'].count().reset_index().rename(columns={'respondent_id':'average count'}).mean(axis=0)"
   ]
  },
  {
   "cell_type": "code",
   "execution_count": 49,
   "metadata": {},
   "outputs": [
    {
     "data": {
      "text/html": [
       "<div>\n",
       "<style scoped>\n",
       "    .dataframe tbody tr th:only-of-type {\n",
       "        vertical-align: middle;\n",
       "    }\n",
       "\n",
       "    .dataframe tbody tr th {\n",
       "        vertical-align: top;\n",
       "    }\n",
       "\n",
       "    .dataframe thead th {\n",
       "        text-align: right;\n",
       "    }\n",
       "</style>\n",
       "<table border=\"1\" class=\"dataframe\">\n",
       "  <thead>\n",
       "    <tr style=\"text-align: right;\">\n",
       "      <th></th>\n",
       "      <th>marital_status</th>\n",
       "      <th>count</th>\n",
       "      <th>dif_avg</th>\n",
       "    </tr>\n",
       "  </thead>\n",
       "  <tbody>\n",
       "    <tr>\n",
       "      <th>0</th>\n",
       "      <td>Married</td>\n",
       "      <td>13548</td>\n",
       "      <td>915.0</td>\n",
       "    </tr>\n",
       "    <tr>\n",
       "      <th>1</th>\n",
       "      <td>Not Married</td>\n",
       "      <td>11718</td>\n",
       "      <td>915.0</td>\n",
       "    </tr>\n",
       "  </tbody>\n",
       "</table>\n",
       "</div>"
      ],
      "text/plain": [
       "  marital_status  count  dif_avg\n",
       "0        Married  13548    915.0\n",
       "1    Not Married  11718    915.0"
      ]
     },
     "execution_count": 49,
     "metadata": {},
     "output_type": "execute_result"
    }
   ],
   "source": [
    "marital_status_test=test[test['marital_status'].notnull()].groupby('marital_status')['respondent_id'].count().reset_index().rename(columns={'respondent_id':'count'})\n",
    "marital_status_test['dif_avg']=abs(marital_status_test['count']-12633.0)\n",
    "marital_status_test"
   ]
  },
  {
   "cell_type": "code",
   "execution_count": 50,
   "metadata": {},
   "outputs": [
    {
     "data": {
      "text/plain": [
       "<matplotlib.collections.LineCollection at 0x7f499740b9e8>"
      ]
     },
     "execution_count": 50,
     "metadata": {},
     "output_type": "execute_result"
    },
    {
     "data": {
      "image/png": "[encoded data removed]",
      "text/plain": [
       "<Figure size 1440x360 with 3 Axes>"
      ]
     },
     "metadata": {
      "needs_background": "light"
     },
     "output_type": "display_data"
    }
   ],
   "source": [
    "fig, axes = plt.subplots(nrows=1, ncols=3 ,figsize=[20,5])\n",
    "\n",
    "x_h1n1.groupby('marital_status')['respondent_id'].count().plot.bar(ax=axes[0],title='x_h1n1').hlines(5395.0, xmin=-1, xmax=5, linestyles='dashed',color='red') \n",
    "x_seasonal.groupby('marital_status')['respondent_id'].count().plot.bar(ax=axes[1],title='x_seasonal').hlines(11803.5, xmin=-1, xmax=5, linestyles='dashed',color='red') \n",
    "test.groupby('marital_status')['respondent_id'].count().plot.bar(ax=axes[2],title='test').hlines(12633.0, xmin=-1, xmax=5, linestyles='dashed',color='red') \n",
    "\n"
   ]
  },
  {
   "cell_type": "code",
   "execution_count": 51,
   "metadata": {},
   "outputs": [],
   "source": [
    "x_h1n1['marital_status']=x_h1n1['marital_status'].fillna('Not Married').astype(str)\n",
    "x_seasonal['marital_status']=x_seasonal['marital_status'].fillna('Not Married').astype(str)\n",
    "test['marital_status']=test['marital_status'].fillna('Not Married').astype(str)"
   ]
  },
  {
   "cell_type": "markdown",
   "metadata": {},
   "source": [
    "8. Replacement of 'null' to 'Rent' category for x_h1n1, x_seasonal and test considering the **least count** since **nearest** to mean count for both categories are equal."
   ]
  },
  {
   "cell_type": "code",
   "execution_count": 52,
   "metadata": {},
   "outputs": [
    {
     "data": {
      "text/plain": [
       "average count    5259.5\n",
       "dtype: float64"
      ]
     },
     "execution_count": 52,
     "metadata": {},
     "output_type": "execute_result"
    }
   ],
   "source": [
    "x_h1n1[x_h1n1['rent_or_own'].notnull()].groupby('rent_or_own')['respondent_id'].count().reset_index().rename(columns={'respondent_id':'average count'}).mean(axis=0)"
   ]
  },
  {
   "cell_type": "code",
   "execution_count": 53,
   "metadata": {},
   "outputs": [
    {
     "data": {
      "text/html": [
       "<div>\n",
       "<style scoped>\n",
       "    .dataframe tbody tr th:only-of-type {\n",
       "        vertical-align: middle;\n",
       "    }\n",
       "\n",
       "    .dataframe tbody tr th {\n",
       "        vertical-align: top;\n",
       "    }\n",
       "\n",
       "    .dataframe thead th {\n",
       "        text-align: right;\n",
       "    }\n",
       "</style>\n",
       "<table border=\"1\" class=\"dataframe\">\n",
       "  <thead>\n",
       "    <tr style=\"text-align: right;\">\n",
       "      <th></th>\n",
       "      <th>rent_or_own</th>\n",
       "      <th>count</th>\n",
       "      <th>dif_avg</th>\n",
       "    </tr>\n",
       "  </thead>\n",
       "  <tbody>\n",
       "    <tr>\n",
       "      <th>0</th>\n",
       "      <td>Own</td>\n",
       "      <td>8082</td>\n",
       "      <td>2822.5</td>\n",
       "    </tr>\n",
       "    <tr>\n",
       "      <th>1</th>\n",
       "      <td>Rent</td>\n",
       "      <td>2437</td>\n",
       "      <td>2822.5</td>\n",
       "    </tr>\n",
       "  </tbody>\n",
       "</table>\n",
       "</div>"
      ],
      "text/plain": [
       "  rent_or_own  count  dif_avg\n",
       "0         Own   8082   2822.5\n",
       "1        Rent   2437   2822.5"
      ]
     },
     "execution_count": 53,
     "metadata": {},
     "output_type": "execute_result"
    }
   ],
   "source": [
    "rent_or_own_h1n1=x_h1n1[x_h1n1['rent_or_own'].notnull()].groupby('rent_or_own')['respondent_id'].count().reset_index().rename(columns={'respondent_id':'count'})\n",
    "rent_or_own_h1n1['dif_avg']=abs(rent_or_own_h1n1['count']-5259.5)\n",
    "rent_or_own_h1n1"
   ]
  },
  {
   "cell_type": "code",
   "execution_count": 54,
   "metadata": {},
   "outputs": [
    {
     "data": {
      "text/plain": [
       "average count    11511.5\n",
       "dtype: float64"
      ]
     },
     "execution_count": 54,
     "metadata": {},
     "output_type": "execute_result"
    }
   ],
   "source": [
    "x_seasonal[x_seasonal['rent_or_own'].notnull()].groupby('rent_or_own')['respondent_id'].count().reset_index().rename(columns={'respondent_id':'average count'}).mean(axis=0)"
   ]
  },
  {
   "cell_type": "code",
   "execution_count": 55,
   "metadata": {},
   "outputs": [
    {
     "data": {
      "text/html": [
       "<div>\n",
       "<style scoped>\n",
       "    .dataframe tbody tr th:only-of-type {\n",
       "        vertical-align: middle;\n",
       "    }\n",
       "\n",
       "    .dataframe tbody tr th {\n",
       "        vertical-align: top;\n",
       "    }\n",
       "\n",
       "    .dataframe thead th {\n",
       "        text-align: right;\n",
       "    }\n",
       "</style>\n",
       "<table border=\"1\" class=\"dataframe\">\n",
       "  <thead>\n",
       "    <tr style=\"text-align: right;\">\n",
       "      <th></th>\n",
       "      <th>rent_or_own</th>\n",
       "      <th>count</th>\n",
       "      <th>dif_avg</th>\n",
       "    </tr>\n",
       "  </thead>\n",
       "  <tbody>\n",
       "    <tr>\n",
       "      <th>0</th>\n",
       "      <td>Own</td>\n",
       "      <td>17524</td>\n",
       "      <td>6012.5</td>\n",
       "    </tr>\n",
       "    <tr>\n",
       "      <th>1</th>\n",
       "      <td>Rent</td>\n",
       "      <td>5499</td>\n",
       "      <td>6012.5</td>\n",
       "    </tr>\n",
       "  </tbody>\n",
       "</table>\n",
       "</div>"
      ],
      "text/plain": [
       "  rent_or_own  count  dif_avg\n",
       "0         Own  17524   6012.5\n",
       "1        Rent   5499   6012.5"
      ]
     },
     "execution_count": 55,
     "metadata": {},
     "output_type": "execute_result"
    }
   ],
   "source": [
    "rent_or_own_seasonal=x_seasonal[x_seasonal['rent_or_own'].notnull()].groupby('rent_or_own')['respondent_id'].count().reset_index().rename(columns={'respondent_id':'count'})\n",
    "rent_or_own_seasonal['dif_avg']=abs(rent_or_own_seasonal['count']-11511.5)\n",
    "rent_or_own_seasonal"
   ]
  },
  {
   "cell_type": "code",
   "execution_count": 56,
   "metadata": {},
   "outputs": [
    {
     "data": {
      "text/plain": [
       "average count    12336.0\n",
       "dtype: float64"
      ]
     },
     "execution_count": 56,
     "metadata": {},
     "output_type": "execute_result"
    }
   ],
   "source": [
    "test[test['rent_or_own'].notnull()].groupby('rent_or_own')['respondent_id'].count().reset_index().rename(columns={'respondent_id':'average count'}).mean(axis=0)"
   ]
  },
  {
   "cell_type": "code",
   "execution_count": 57,
   "metadata": {},
   "outputs": [
    {
     "data": {
      "text/html": [
       "<div>\n",
       "<style scoped>\n",
       "    .dataframe tbody tr th:only-of-type {\n",
       "        vertical-align: middle;\n",
       "    }\n",
       "\n",
       "    .dataframe tbody tr th {\n",
       "        vertical-align: top;\n",
       "    }\n",
       "\n",
       "    .dataframe thead th {\n",
       "        text-align: right;\n",
       "    }\n",
       "</style>\n",
       "<table border=\"1\" class=\"dataframe\">\n",
       "  <thead>\n",
       "    <tr style=\"text-align: right;\">\n",
       "      <th></th>\n",
       "      <th>rent_or_own</th>\n",
       "      <th>count</th>\n",
       "      <th>dif_avg</th>\n",
       "    </tr>\n",
       "  </thead>\n",
       "  <tbody>\n",
       "    <tr>\n",
       "      <th>0</th>\n",
       "      <td>Own</td>\n",
       "      <td>18721</td>\n",
       "      <td>6385.0</td>\n",
       "    </tr>\n",
       "    <tr>\n",
       "      <th>1</th>\n",
       "      <td>Rent</td>\n",
       "      <td>5951</td>\n",
       "      <td>6385.0</td>\n",
       "    </tr>\n",
       "  </tbody>\n",
       "</table>\n",
       "</div>"
      ],
      "text/plain": [
       "  rent_or_own  count  dif_avg\n",
       "0         Own  18721   6385.0\n",
       "1        Rent   5951   6385.0"
      ]
     },
     "execution_count": 57,
     "metadata": {},
     "output_type": "execute_result"
    }
   ],
   "source": [
    "rent_or_own_test=test[test['rent_or_own'].notnull()].groupby('rent_or_own')['respondent_id'].count().reset_index().rename(columns={'respondent_id':'count'})\n",
    "rent_or_own_test['dif_avg']=abs(rent_or_own_test['count']-12336.0)\n",
    "rent_or_own_test"
   ]
  },
  {
   "cell_type": "code",
   "execution_count": 58,
   "metadata": {},
   "outputs": [
    {
     "data": {
      "text/plain": [
       "<matplotlib.collections.LineCollection at 0x7f49972c2b00>"
      ]
     },
     "execution_count": 58,
     "metadata": {},
     "output_type": "execute_result"
    },
    {
     "data": {
      "image/png": "[encoded data removed]",
      "text/plain": [
       "<Figure size 1440x360 with 3 Axes>"
      ]
     },
     "metadata": {
      "needs_background": "light"
     },
     "output_type": "display_data"
    }
   ],
   "source": [
    "fig, axes = plt.subplots(nrows=1, ncols=3 ,figsize=[20,5])\n",
    "\n",
    "x_h1n1.groupby('rent_or_own')['respondent_id'].count().plot.bar(ax=axes[0],title='x_h1n1').hlines(5259.5, xmin=-1, xmax=5, linestyles='dashed',color='red') \n",
    "x_seasonal.groupby('rent_or_own')['respondent_id'].count().plot.bar(ax=axes[1],title='x_seasonal').hlines(11511.5, xmin=-1, xmax=5, linestyles='dashed',color='red') \n",
    "test.groupby('rent_or_own')['respondent_id'].count().plot.bar(ax=axes[2],title='test').hlines(12336.0, xmin=-1, xmax=5, linestyles='dashed',color='red') \n"
   ]
  },
  {
   "cell_type": "code",
   "execution_count": 59,
   "metadata": {},
   "outputs": [],
   "source": [
    "x_h1n1['rent_or_own']=x_h1n1['rent_or_own'].fillna('Rent').astype(str)\n",
    "x_seasonal['rent_or_own']=x_seasonal['rent_or_own'].fillna('Rent').astype(str)\n",
    "test['rent_or_own']=test['rent_or_own'].fillna('Rent').astype(str)"
   ]
  },
  {
   "cell_type": "markdown",
   "metadata": {},
   "source": [
    "9. Replacement of 'null' to '0' for x_h1n1, x_seasonal and test considering respondent live alone for (other) household_adults data"
   ]
  },
  {
   "cell_type": "code",
   "execution_count": 60,
   "metadata": {},
   "outputs": [
    {
     "data": {
      "text/plain": [
       "household_adults\n",
       "0.0    3276\n",
       "1.0    6324\n",
       "2.0    1179\n",
       "3.0     479\n",
       "Name: respondent_id, dtype: int64"
      ]
     },
     "execution_count": 60,
     "metadata": {},
     "output_type": "execute_result"
    }
   ],
   "source": [
    "x_h1n1.groupby('household_adults')['respondent_id'].count()"
   ]
  },
  {
   "cell_type": "code",
   "execution_count": 61,
   "metadata": {},
   "outputs": [
    {
     "data": {
      "text/plain": [
       "household_adults\n",
       "0.0     7500\n",
       "1.0    13508\n",
       "2.0     2571\n",
       "3.0     1070\n",
       "Name: respondent_id, dtype: int64"
      ]
     },
     "execution_count": 61,
     "metadata": {},
     "output_type": "execute_result"
    }
   ],
   "source": [
    "x_seasonal.groupby('household_adults')['respondent_id'].count()"
   ]
  },
  {
   "cell_type": "code",
   "execution_count": 62,
   "metadata": {},
   "outputs": [
    {
     "data": {
      "text/plain": [
       "household_adults\n",
       "0.0     7943\n",
       "1.0    14533\n",
       "2.0     2870\n",
       "3.0     1137\n",
       "Name: respondent_id, dtype: int64"
      ]
     },
     "execution_count": 62,
     "metadata": {},
     "output_type": "execute_result"
    }
   ],
   "source": [
    "test.groupby('household_adults')['respondent_id'].count()"
   ]
  },
  {
   "cell_type": "code",
   "execution_count": 63,
   "metadata": {},
   "outputs": [],
   "source": [
    "x_h1n1['household_adults']=x_h1n1['household_adults'].fillna('0').astype(str)\n",
    "x_seasonal['household_adults']=x_seasonal['household_adults'].fillna('0').astype(str)\n",
    "test['household_adults']=test['household_adults'].fillna('0').astype(str)"
   ]
  },
  {
   "cell_type": "markdown",
   "metadata": {},
   "source": [
    "10. Replacement of 'null' to '0' for x_h1n1, x_seasonal and test considering no children in the household"
   ]
  },
  {
   "cell_type": "code",
   "execution_count": 64,
   "metadata": {},
   "outputs": [
    {
     "data": {
      "text/plain": [
       "household_children\n",
       "0.0    8000\n",
       "1.0    1346\n",
       "2.0    1204\n",
       "3.0     708\n",
       "Name: respondent_id, dtype: int64"
      ]
     },
     "execution_count": 64,
     "metadata": {},
     "output_type": "execute_result"
    }
   ],
   "source": [
    "x_h1n1.groupby('household_children')['respondent_id'].count()"
   ]
  },
  {
   "cell_type": "code",
   "execution_count": 65,
   "metadata": {},
   "outputs": [
    {
     "data": {
      "text/plain": [
       "household_children\n",
       "0.0    17522\n",
       "1.0     2892\n",
       "2.0     2621\n",
       "3.0     1614\n",
       "Name: respondent_id, dtype: int64"
      ]
     },
     "execution_count": 65,
     "metadata": {},
     "output_type": "execute_result"
    }
   ],
   "source": [
    "x_seasonal.groupby('household_children')['respondent_id'].count()"
   ]
  },
  {
   "cell_type": "code",
   "execution_count": 66,
   "metadata": {},
   "outputs": [
    {
     "data": {
      "text/plain": [
       "household_children\n",
       "0.0    18571\n",
       "1.0     3228\n",
       "2.0     2880\n",
       "3.0     1804\n",
       "Name: respondent_id, dtype: int64"
      ]
     },
     "execution_count": 66,
     "metadata": {},
     "output_type": "execute_result"
    }
   ],
   "source": [
    "test.groupby('household_children')['respondent_id'].count()"
   ]
  },
  {
   "cell_type": "code",
   "execution_count": 67,
   "metadata": {},
   "outputs": [],
   "source": [
    "x_h1n1['household_children']=x_h1n1['household_children'].fillna('0').astype(str)\n",
    "x_seasonal['household_children']=x_seasonal['household_children'].fillna('0').astype(str)\n",
    "test['household_children']=test['household_children'].fillna('0').astype(str)"
   ]
  },
  {
   "cell_type": "markdown",
   "metadata": {},
   "source": [
    "11. Replacement of 'null' within employment related features"
   ]
  },
  {
   "cell_type": "code",
   "execution_count": 68,
   "metadata": {},
   "outputs": [
    {
     "data": {
      "text/plain": [
       "employment_status\n",
       "Employed              5798\n",
       "Not in Labor Force    4431\n",
       "Unemployed             547\n",
       "Name: respondent_id, dtype: int64"
      ]
     },
     "execution_count": 68,
     "metadata": {},
     "output_type": "execute_result"
    }
   ],
   "source": [
    "x_h1n1[x_h1n1['employment_status'].notnull()].groupby('employment_status')['respondent_id'].count()"
   ]
  },
  {
   "cell_type": "code",
   "execution_count": 69,
   "metadata": {},
   "outputs": [
    {
     "data": {
      "text/plain": [
       "employment_status\n",
       "Employed              12629\n",
       "Not in Labor Force     9626\n",
       "Unemployed             1303\n",
       "Name: respondent_id, dtype: int64"
      ]
     },
     "execution_count": 69,
     "metadata": {},
     "output_type": "execute_result"
    }
   ],
   "source": [
    "x_seasonal[x_seasonal['employment_status'].notnull()].groupby('employment_status')['respondent_id'].count()"
   ]
  },
  {
   "cell_type": "code",
   "execution_count": 70,
   "metadata": {},
   "outputs": [
    {
     "data": {
      "text/plain": [
       "employment_status\n",
       "Employed              13632\n",
       "Not in Labor Force    10092\n",
       "Unemployed             1513\n",
       "Name: respondent_id, dtype: int64"
      ]
     },
     "execution_count": 70,
     "metadata": {},
     "output_type": "execute_result"
    }
   ],
   "source": [
    "test[test['employment_status'].notnull()].groupby('employment_status')['respondent_id'].count()"
   ]
  },
  {
   "cell_type": "markdown",
   "metadata": {},
   "source": [
    "11.1 Assumption that respondents with null value in employment_industry and employment_occupation to be under the category of either 'Unemployed' or 'Not in Labor Force' within the employment_status feature . Below filtered data for both train and test prove the assumption. Therefore, the employment_status feature with the null value to be imputed with 'Unemployed' whereby null values also indicated in employment_industry and employment_occupation features. The value 'Unemployed' chosen instead of 'Not in Labor Force' due to lowest size of data within this category"
   ]
  },
  {
   "cell_type": "code",
   "execution_count": 71,
   "metadata": {},
   "outputs": [
    {
     "data": {
      "text/plain": [
       "0"
      ]
     },
     "execution_count": 71,
     "metadata": {},
     "output_type": "execute_result"
    }
   ],
   "source": [
    "x_h1n1[(x_h1n1['employment_status']=='Not in Labor Force')\n",
    "     &(x_h1n1['employment_industry'].notnull())\n",
    "     &(x_h1n1['employment_occupation'].notnull())].count()['respondent_id']"
   ]
  },
  {
   "cell_type": "code",
   "execution_count": 72,
   "metadata": {},
   "outputs": [
    {
     "data": {
      "text/plain": [
       "0"
      ]
     },
     "execution_count": 72,
     "metadata": {},
     "output_type": "execute_result"
    }
   ],
   "source": [
    "x_h1n1[(x_h1n1['employment_status']=='Unemployed')\n",
    "     &(x_h1n1['employment_industry'].notnull())\n",
    "     &(x_h1n1['employment_occupation'].notnull())].count()['respondent_id']"
   ]
  },
  {
   "cell_type": "code",
   "execution_count": 73,
   "metadata": {},
   "outputs": [
    {
     "data": {
      "text/plain": [
       "0"
      ]
     },
     "execution_count": 73,
     "metadata": {},
     "output_type": "execute_result"
    }
   ],
   "source": [
    "x_seasonal[(x_seasonal['employment_status']=='Not in Labor Force')\n",
    "     &(x_seasonal['employment_industry'].notnull())\n",
    "     &(x_seasonal['employment_occupation'].notnull())].count()['respondent_id']"
   ]
  },
  {
   "cell_type": "code",
   "execution_count": 74,
   "metadata": {},
   "outputs": [
    {
     "data": {
      "text/plain": [
       "0"
      ]
     },
     "execution_count": 74,
     "metadata": {},
     "output_type": "execute_result"
    }
   ],
   "source": [
    "x_seasonal[(x_seasonal['employment_status']=='Unemployed')\n",
    "     &(x_seasonal['employment_industry'].notnull())\n",
    "     &(x_seasonal['employment_occupation'].notnull())].count()['respondent_id']"
   ]
  },
  {
   "cell_type": "code",
   "execution_count": 75,
   "metadata": {},
   "outputs": [
    {
     "data": {
      "text/plain": [
       "0"
      ]
     },
     "execution_count": 75,
     "metadata": {},
     "output_type": "execute_result"
    }
   ],
   "source": [
    "test[(test['employment_status']=='Not in Labor Force')\n",
    "     &(test['employment_industry'].notnull())\n",
    "     &(test['employment_occupation'].notnull())].count()['respondent_id']"
   ]
  },
  {
   "cell_type": "code",
   "execution_count": 76,
   "metadata": {},
   "outputs": [
    {
     "data": {
      "text/plain": [
       "0"
      ]
     },
     "execution_count": 76,
     "metadata": {},
     "output_type": "execute_result"
    }
   ],
   "source": [
    "test[(test['employment_status']=='Unemployed')\n",
    "     &(test['employment_industry'].notnull())\n",
    "     &(test['employment_occupation'].notnull())].count()['respondent_id']"
   ]
  },
  {
   "cell_type": "code",
   "execution_count": 77,
   "metadata": {},
   "outputs": [],
   "source": [
    "x_h1n1['employment_status']=np.where(((x_h1n1['employment_status'].isnull()) & (x_h1n1['employment_industry'].isnull()) &\n",
    "                                    (x_h1n1['employment_occupation'].isnull())),'Unemployed',x_h1n1['employment_status'])\n",
    "\n",
    "\n",
    "x_seasonal['employment_status']=np.where(((x_seasonal['employment_status'].isnull()) & (x_seasonal['employment_industry'].isnull()) &\n",
    "                                    (x_seasonal['employment_occupation'].isnull())),'Unemployed',x_seasonal['employment_status'])\n",
    "\n",
    "\n",
    "test['employment_status']=np.where(((test['employment_status'].isnull()) & (test['employment_industry'].isnull()) &\n",
    "                                    (test['employment_occupation'].isnull())),'Unemployed',test['employment_status'])"
   ]
  },
  {
   "cell_type": "markdown",
   "metadata": {},
   "source": [
    "So, using the above rules for both train and test data, there's no more null value."
   ]
  },
  {
   "cell_type": "code",
   "execution_count": 78,
   "metadata": {},
   "outputs": [
    {
     "data": {
      "text/html": [
       "<div>\n",
       "<style scoped>\n",
       "    .dataframe tbody tr th:only-of-type {\n",
       "        vertical-align: middle;\n",
       "    }\n",
       "\n",
       "    .dataframe tbody tr th {\n",
       "        vertical-align: top;\n",
       "    }\n",
       "\n",
       "    .dataframe thead th {\n",
       "        text-align: right;\n",
       "    }\n",
       "</style>\n",
       "<table border=\"1\" class=\"dataframe\">\n",
       "  <thead>\n",
       "    <tr style=\"text-align: right;\">\n",
       "      <th></th>\n",
       "      <th>respondent_id</th>\n",
       "      <th>h1n1_concern</th>\n",
       "      <th>h1n1_knowledge</th>\n",
       "      <th>behavioral_antiviral_meds</th>\n",
       "      <th>behavioral_avoidance</th>\n",
       "      <th>behavioral_face_mask</th>\n",
       "      <th>behavioral_wash_hands</th>\n",
       "      <th>behavioral_large_gatherings</th>\n",
       "      <th>behavioral_outside_home</th>\n",
       "      <th>behavioral_touch_face</th>\n",
       "      <th>doctor_recc_h1n1</th>\n",
       "      <th>doctor_recc_seasonal</th>\n",
       "      <th>chronic_med_condition</th>\n",
       "      <th>child_under_6_months</th>\n",
       "      <th>health_worker</th>\n",
       "      <th>health_insurance</th>\n",
       "      <th>opinion_h1n1_vacc_effective</th>\n",
       "      <th>opinion_h1n1_risk</th>\n",
       "      <th>opinion_h1n1_sick_from_vacc</th>\n",
       "      <th>opinion_seas_vacc_effective</th>\n",
       "      <th>opinion_seas_risk</th>\n",
       "      <th>opinion_seas_sick_from_vacc</th>\n",
       "      <th>age_group</th>\n",
       "      <th>education</th>\n",
       "      <th>race</th>\n",
       "      <th>sex</th>\n",
       "      <th>income_poverty</th>\n",
       "      <th>marital_status</th>\n",
       "      <th>rent_or_own</th>\n",
       "      <th>employment_status</th>\n",
       "      <th>hhs_geo_region</th>\n",
       "      <th>census_msa</th>\n",
       "      <th>household_adults</th>\n",
       "      <th>household_children</th>\n",
       "      <th>employment_industry</th>\n",
       "      <th>employment_occupation</th>\n",
       "    </tr>\n",
       "  </thead>\n",
       "  <tbody>\n",
       "  </tbody>\n",
       "</table>\n",
       "</div>"
      ],
      "text/plain": [
       "Empty DataFrame\n",
       "Columns: [respondent_id, h1n1_concern, h1n1_knowledge, behavioral_antiviral_meds, behavioral_avoidance, behavioral_face_mask, behavioral_wash_hands, behavioral_large_gatherings, behavioral_outside_home, behavioral_touch_face, doctor_recc_h1n1, doctor_recc_seasonal, chronic_med_condition, child_under_6_months, health_worker, health_insurance, opinion_h1n1_vacc_effective, opinion_h1n1_risk, opinion_h1n1_sick_from_vacc, opinion_seas_vacc_effective, opinion_seas_risk, opinion_seas_sick_from_vacc, age_group, education, race, sex, income_poverty, marital_status, rent_or_own, employment_status, hhs_geo_region, census_msa, household_adults, household_children, employment_industry, employment_occupation]\n",
       "Index: []"
      ]
     },
     "execution_count": 78,
     "metadata": {},
     "output_type": "execute_result"
    }
   ],
   "source": [
    "x_h1n1[x_h1n1['employment_status'].isnull()]"
   ]
  },
  {
   "cell_type": "code",
   "execution_count": 79,
   "metadata": {},
   "outputs": [
    {
     "data": {
      "text/html": [
       "<div>\n",
       "<style scoped>\n",
       "    .dataframe tbody tr th:only-of-type {\n",
       "        vertical-align: middle;\n",
       "    }\n",
       "\n",
       "    .dataframe tbody tr th {\n",
       "        vertical-align: top;\n",
       "    }\n",
       "\n",
       "    .dataframe thead th {\n",
       "        text-align: right;\n",
       "    }\n",
       "</style>\n",
       "<table border=\"1\" class=\"dataframe\">\n",
       "  <thead>\n",
       "    <tr style=\"text-align: right;\">\n",
       "      <th></th>\n",
       "      <th>respondent_id</th>\n",
       "      <th>h1n1_concern</th>\n",
       "      <th>h1n1_knowledge</th>\n",
       "      <th>behavioral_antiviral_meds</th>\n",
       "      <th>behavioral_avoidance</th>\n",
       "      <th>behavioral_face_mask</th>\n",
       "      <th>behavioral_wash_hands</th>\n",
       "      <th>behavioral_large_gatherings</th>\n",
       "      <th>behavioral_outside_home</th>\n",
       "      <th>behavioral_touch_face</th>\n",
       "      <th>doctor_recc_h1n1</th>\n",
       "      <th>doctor_recc_seasonal</th>\n",
       "      <th>chronic_med_condition</th>\n",
       "      <th>child_under_6_months</th>\n",
       "      <th>health_worker</th>\n",
       "      <th>health_insurance</th>\n",
       "      <th>opinion_h1n1_vacc_effective</th>\n",
       "      <th>opinion_h1n1_risk</th>\n",
       "      <th>opinion_h1n1_sick_from_vacc</th>\n",
       "      <th>opinion_seas_vacc_effective</th>\n",
       "      <th>opinion_seas_risk</th>\n",
       "      <th>opinion_seas_sick_from_vacc</th>\n",
       "      <th>age_group</th>\n",
       "      <th>education</th>\n",
       "      <th>race</th>\n",
       "      <th>sex</th>\n",
       "      <th>income_poverty</th>\n",
       "      <th>marital_status</th>\n",
       "      <th>rent_or_own</th>\n",
       "      <th>employment_status</th>\n",
       "      <th>hhs_geo_region</th>\n",
       "      <th>census_msa</th>\n",
       "      <th>household_adults</th>\n",
       "      <th>household_children</th>\n",
       "      <th>employment_industry</th>\n",
       "      <th>employment_occupation</th>\n",
       "    </tr>\n",
       "  </thead>\n",
       "  <tbody>\n",
       "  </tbody>\n",
       "</table>\n",
       "</div>"
      ],
      "text/plain": [
       "Empty DataFrame\n",
       "Columns: [respondent_id, h1n1_concern, h1n1_knowledge, behavioral_antiviral_meds, behavioral_avoidance, behavioral_face_mask, behavioral_wash_hands, behavioral_large_gatherings, behavioral_outside_home, behavioral_touch_face, doctor_recc_h1n1, doctor_recc_seasonal, chronic_med_condition, child_under_6_months, health_worker, health_insurance, opinion_h1n1_vacc_effective, opinion_h1n1_risk, opinion_h1n1_sick_from_vacc, opinion_seas_vacc_effective, opinion_seas_risk, opinion_seas_sick_from_vacc, age_group, education, race, sex, income_poverty, marital_status, rent_or_own, employment_status, hhs_geo_region, census_msa, household_adults, household_children, employment_industry, employment_occupation]\n",
       "Index: []"
      ]
     },
     "execution_count": 79,
     "metadata": {},
     "output_type": "execute_result"
    }
   ],
   "source": [
    "x_seasonal[x_seasonal['employment_status'].isnull()]"
   ]
  },
  {
   "cell_type": "code",
   "execution_count": 80,
   "metadata": {},
   "outputs": [
    {
     "data": {
      "text/html": [
       "<div>\n",
       "<style scoped>\n",
       "    .dataframe tbody tr th:only-of-type {\n",
       "        vertical-align: middle;\n",
       "    }\n",
       "\n",
       "    .dataframe tbody tr th {\n",
       "        vertical-align: top;\n",
       "    }\n",
       "\n",
       "    .dataframe thead th {\n",
       "        text-align: right;\n",
       "    }\n",
       "</style>\n",
       "<table border=\"1\" class=\"dataframe\">\n",
       "  <thead>\n",
       "    <tr style=\"text-align: right;\">\n",
       "      <th></th>\n",
       "      <th>respondent_id</th>\n",
       "      <th>h1n1_concern</th>\n",
       "      <th>h1n1_knowledge</th>\n",
       "      <th>behavioral_antiviral_meds</th>\n",
       "      <th>behavioral_avoidance</th>\n",
       "      <th>behavioral_face_mask</th>\n",
       "      <th>behavioral_wash_hands</th>\n",
       "      <th>behavioral_large_gatherings</th>\n",
       "      <th>behavioral_outside_home</th>\n",
       "      <th>behavioral_touch_face</th>\n",
       "      <th>doctor_recc_h1n1</th>\n",
       "      <th>doctor_recc_seasonal</th>\n",
       "      <th>chronic_med_condition</th>\n",
       "      <th>child_under_6_months</th>\n",
       "      <th>health_worker</th>\n",
       "      <th>health_insurance</th>\n",
       "      <th>opinion_h1n1_vacc_effective</th>\n",
       "      <th>opinion_h1n1_risk</th>\n",
       "      <th>opinion_h1n1_sick_from_vacc</th>\n",
       "      <th>opinion_seas_vacc_effective</th>\n",
       "      <th>opinion_seas_risk</th>\n",
       "      <th>opinion_seas_sick_from_vacc</th>\n",
       "      <th>age_group</th>\n",
       "      <th>education</th>\n",
       "      <th>race</th>\n",
       "      <th>sex</th>\n",
       "      <th>income_poverty</th>\n",
       "      <th>marital_status</th>\n",
       "      <th>rent_or_own</th>\n",
       "      <th>employment_status</th>\n",
       "      <th>hhs_geo_region</th>\n",
       "      <th>census_msa</th>\n",
       "      <th>household_adults</th>\n",
       "      <th>household_children</th>\n",
       "      <th>employment_industry</th>\n",
       "      <th>employment_occupation</th>\n",
       "    </tr>\n",
       "  </thead>\n",
       "  <tbody>\n",
       "  </tbody>\n",
       "</table>\n",
       "</div>"
      ],
      "text/plain": [
       "Empty DataFrame\n",
       "Columns: [respondent_id, h1n1_concern, h1n1_knowledge, behavioral_antiviral_meds, behavioral_avoidance, behavioral_face_mask, behavioral_wash_hands, behavioral_large_gatherings, behavioral_outside_home, behavioral_touch_face, doctor_recc_h1n1, doctor_recc_seasonal, chronic_med_condition, child_under_6_months, health_worker, health_insurance, opinion_h1n1_vacc_effective, opinion_h1n1_risk, opinion_h1n1_sick_from_vacc, opinion_seas_vacc_effective, opinion_seas_risk, opinion_seas_sick_from_vacc, age_group, education, race, sex, income_poverty, marital_status, rent_or_own, employment_status, hhs_geo_region, census_msa, household_adults, household_children, employment_industry, employment_occupation]\n",
       "Index: []"
      ]
     },
     "execution_count": 80,
     "metadata": {},
     "output_type": "execute_result"
    }
   ],
   "source": [
    "test[test['employment_status'].isnull()]"
   ]
  },
  {
   "cell_type": "markdown",
   "metadata": {},
   "source": [
    "11.2 Imputation of respondent's employment_industry and employment_occupation with 'na' value whereby the employment status either 'Not in Labor Force' or 'Unemployed'"
   ]
  },
  {
   "cell_type": "code",
   "execution_count": 81,
   "metadata": {},
   "outputs": [],
   "source": [
    "x_h1n1['employment_industry']=np.where(((x_h1n1['employment_status']=='Not in Labor Force') | (x_h1n1['employment_status']=='Unemployed')),'na',x_h1n1['employment_industry'])\n",
    "x_h1n1['employment_occupation']=np.where(((x_h1n1['employment_status']=='Not in Labor Force') | (x_h1n1['employment_status']=='Unemployed')),'na',x_h1n1['employment_occupation'])\n",
    "\n",
    "x_seasonal['employment_industry']=np.where(((x_seasonal['employment_status']=='Not in Labor Force') | (x_seasonal['employment_status']=='Unemployed')),'na',x_seasonal['employment_industry'])\n",
    "x_seasonal['employment_occupation']=np.where(((x_seasonal['employment_status']=='Not in Labor Force') | (x_seasonal['employment_status']=='Unemployed')),'na',x_seasonal['employment_occupation'])\n",
    "\n",
    "test['employment_industry']=np.where(((test['employment_status']=='Not in Labor Force') | (test['employment_status']=='Unemployed')),'na',test['employment_industry'])\n",
    "test['employment_occupation']=np.where(((test['employment_status']=='Not in Labor Force') | (test['employment_status']=='Unemployed')),'na',test['employment_occupation'])\n"
   ]
  },
  {
   "cell_type": "markdown",
   "metadata": {},
   "source": [
    "11.3 Imputation of respondent which employment_status is 'Employed' but with the status 'null' in employment_industry and employment_occupation by assuming this category of respondents to be placed under group of employment_industry & employment_occupation with the highest counts. The following table indicates count for (employment industry and occupation)"
   ]
  },
  {
   "cell_type": "code",
   "execution_count": 82,
   "metadata": {},
   "outputs": [
    {
     "data": {
      "text/plain": [
       "employment_status  employment_industry  employment_occupation\n",
       "Employed           nduyfdeo             xgwztkwe                   1\n",
       "                   xqicxuve             dlvbwzss                   1\n",
       "                   ldnlellj             dlvbwzss                   1\n",
       "                   mfikgejo             emcorrxb                   1\n",
       "                   phxvnwax             uqqtjvyb                   1\n",
       "                                                                ... \n",
       "                   fcxhlnwr             haliazsg                 164\n",
       "                   xicduogh             qxajmpny                 170\n",
       "                   pxcmvdjn             xgwztkwe                 230\n",
       "                   wxleyezf             emcorrxb                 503\n",
       "                   fcxhlnwr             cmhcxjea                 713\n",
       "Name: respondent_id, Length: 269, dtype: int64"
      ]
     },
     "execution_count": 82,
     "metadata": {},
     "output_type": "execute_result"
    }
   ],
   "source": [
    "x_h1n1[x_h1n1['employment_status']=='Employed'].groupby(['employment_status','employment_industry','employment_occupation'])['respondent_id'].count().sort_values()"
   ]
  },
  {
   "cell_type": "code",
   "execution_count": 83,
   "metadata": {},
   "outputs": [
    {
     "data": {
      "text/plain": [
       "employment_status  employment_industry  employment_occupation\n",
       "Employed           phxvnwax             hfxkjkmi                    1\n",
       "                   wlfvacwt             rcertsgn                    1\n",
       "                   phxvnwax             hodpvpew                    1\n",
       "                   rucpziij             ukymxvdu                    1\n",
       "                   nduyfdeo             kldqjyjy                    1\n",
       "                                                                 ... \n",
       "                   atmlpfrs             xqwwgdyp                  291\n",
       "                   xicduogh             qxajmpny                  437\n",
       "                   pxcmvdjn             xgwztkwe                  557\n",
       "                   fcxhlnwr             cmhcxjea                 1054\n",
       "                   wxleyezf             emcorrxb                 1087\n",
       "Name: respondent_id, Length: 298, dtype: int64"
      ]
     },
     "execution_count": 83,
     "metadata": {},
     "output_type": "execute_result"
    }
   ],
   "source": [
    "x_seasonal[x_seasonal['employment_status']=='Employed'].groupby(['employment_status','employment_industry','employment_occupation'])['respondent_id'].count().sort_values()"
   ]
  },
  {
   "cell_type": "code",
   "execution_count": 84,
   "metadata": {},
   "outputs": [
    {
     "data": {
      "text/plain": [
       "employment_status  employment_industry  employment_occupation\n",
       "Employed           xqicxuve             xzmlyyjv                    1\n",
       "                   rucpziij             emcorrxb                    1\n",
       "                                        hodpvpew                    1\n",
       "                                        kldqjyjy                    1\n",
       "                                        ukymxvdu                    1\n",
       "                                                                 ... \n",
       "                                        tfqavkke                  329\n",
       "                   xicduogh             qxajmpny                  429\n",
       "                   pxcmvdjn             xgwztkwe                  639\n",
       "                   fcxhlnwr             cmhcxjea                 1095\n",
       "                   wxleyezf             emcorrxb                 1185\n",
       "Name: respondent_id, Length: 322, dtype: int64"
      ]
     },
     "execution_count": 84,
     "metadata": {},
     "output_type": "execute_result"
    }
   ],
   "source": [
    "test[test['employment_status']=='Employed'].groupby(['employment_status','employment_industry','employment_occupation'])['respondent_id'].count().sort_values()"
   ]
  },
  {
   "cell_type": "code",
   "execution_count": 85,
   "metadata": {},
   "outputs": [],
   "source": [
    "x_h1n1['employment_industry']=np.where(((x_h1n1['employment_status']=='Employed') & (x_h1n1['employment_industry'].isnull()) & (x_h1n1['employment_occupation'].isnull())\n",
    "                                      ),'fcxhlnwr',x_h1n1['employment_industry'])\n",
    "\n",
    "x_h1n1['employment_occupation']=np.where(((x_h1n1['employment_status']=='Employed') & (x_h1n1['employment_industry'].isnull()) & (x_h1n1['employment_occupation'].isnull())\n",
    "                                      ),'cmhcxjea',x_h1n1['employment_occupation'])\n",
    "\n",
    "x_seasonal['employment_industry']=np.where(((x_seasonal['employment_status']=='Employed') & (x_seasonal['employment_industry'].isnull()) & (x_seasonal['employment_occupation'].isnull())\n",
    "                                      ),'wxleyezf',x_seasonal['employment_industry'])\n",
    "\n",
    "x_seasonal['employment_occupation']=np.where(((x_seasonal['employment_status']=='Employed') & (x_seasonal['employment_industry'].isnull()) & (x_seasonal['employment_occupation'].isnull())\n",
    "                                      ),'emcorrxb',x_seasonal['employment_occupation'])\n",
    "\n",
    "\n",
    "test['employment_industry']=np.where(((test['employment_status']=='Employed') & (test['employment_industry'].isnull()) & (test['employment_occupation'].isnull())\n",
    "                                      ),'wxleyezf',test['employment_industry'])\n",
    "\n",
    "test['employment_occupation']=np.where(((test['employment_status']=='Employed') & (test['employment_industry'].isnull()) & (test['employment_occupation'].isnull())\n",
    "                                      ),'emcorrxb',test['employment_occupation'])\n"
   ]
  },
  {
   "cell_type": "markdown",
   "metadata": {},
   "source": [
    "11.4 Imputation of respondent which employment_status is 'Employed' but with the status 'null' in employment_industry by assuming this category of respondents to be placed under group of employment_industry with the highest counts."
   ]
  },
  {
   "cell_type": "code",
   "execution_count": 86,
   "metadata": {},
   "outputs": [
    {
     "data": {
      "text/plain": [
       "employment_status  employment_industry\n",
       "Employed           qnlwzans                  4\n",
       "                   phxvnwax                 39\n",
       "                   msuufmds                 56\n",
       "                   dotnnunm                 60\n",
       "                   wlfvacwt                 89\n",
       "                   mcubkhph                 93\n",
       "                   haxffmxo                109\n",
       "                   nduyfdeo                111\n",
       "                   cfqqtusy                121\n",
       "                   saaquncn                131\n",
       "                   vjjrobsf                184\n",
       "                   xqicxuve                190\n",
       "                   rucpziij                198\n",
       "                   mfikgejo                229\n",
       "                   xicduogh                307\n",
       "                   atmlpfrs                320\n",
       "                   arjwrbjb                383\n",
       "                   pxcmvdjn                386\n",
       "                   ldnlellj                486\n",
       "                   wxleyezf                790\n",
       "                   fcxhlnwr               1484\n",
       "Name: respondent_id, dtype: int64"
      ]
     },
     "execution_count": 86,
     "metadata": {},
     "output_type": "execute_result"
    }
   ],
   "source": [
    "x_h1n1[x_h1n1['employment_status']=='Employed'].groupby(['employment_status','employment_industry'])['respondent_id'].count().sort_values()"
   ]
  },
  {
   "cell_type": "code",
   "execution_count": 87,
   "metadata": {},
   "outputs": [
    {
     "data": {
      "text/plain": [
       "employment_status  employment_industry\n",
       "Employed           qnlwzans                 13\n",
       "                   phxvnwax                 68\n",
       "                   msuufmds                112\n",
       "                   haxffmxo                141\n",
       "                   dotnnunm                194\n",
       "                   wlfvacwt                216\n",
       "                   mcubkhph                250\n",
       "                   nduyfdeo                287\n",
       "                   saaquncn                292\n",
       "                   cfqqtusy                294\n",
       "                   xqicxuve                470\n",
       "                   rucpziij                496\n",
       "                   vjjrobsf                499\n",
       "                   mfikgejo                566\n",
       "                   xicduogh                794\n",
       "                   arjwrbjb                814\n",
       "                   atmlpfrs                835\n",
       "                   pxcmvdjn                932\n",
       "                   ldnlellj               1118\n",
       "                   wxleyezf               1771\n",
       "                   fcxhlnwr               2355\n",
       "Name: respondent_id, dtype: int64"
      ]
     },
     "execution_count": 87,
     "metadata": {},
     "output_type": "execute_result"
    }
   ],
   "source": [
    "x_seasonal[x_seasonal['employment_status']=='Employed'].groupby(['employment_status','employment_industry'])['respondent_id'].count().sort_values()"
   ]
  },
  {
   "cell_type": "code",
   "execution_count": 88,
   "metadata": {},
   "outputs": [
    {
     "data": {
      "text/plain": [
       "employment_status  employment_industry\n",
       "Employed           qnlwzans                  6\n",
       "                   phxvnwax                 81\n",
       "                   msuufmds                132\n",
       "                   haxffmxo                160\n",
       "                   wlfvacwt                212\n",
       "                   dotnnunm                220\n",
       "                   mcubkhph                262\n",
       "                   nduyfdeo                292\n",
       "                   cfqqtusy                304\n",
       "                   saaquncn                338\n",
       "                   xqicxuve                527\n",
       "                   rucpziij                538\n",
       "                   vjjrobsf                567\n",
       "                   mfikgejo                649\n",
       "                   atmlpfrs                822\n",
       "                   xicduogh                847\n",
       "                   arjwrbjb                885\n",
       "                   pxcmvdjn               1078\n",
       "                   ldnlellj               1224\n",
       "                   wxleyezf               1897\n",
       "                   fcxhlnwr               2484\n",
       "Name: respondent_id, dtype: int64"
      ]
     },
     "execution_count": 88,
     "metadata": {},
     "output_type": "execute_result"
    }
   ],
   "source": [
    "test[test['employment_status']=='Employed'].groupby(['employment_status','employment_industry'])['respondent_id'].count().sort_values()"
   ]
  },
  {
   "cell_type": "code",
   "execution_count": 89,
   "metadata": {},
   "outputs": [],
   "source": [
    "x_h1n1['employment_industry']=np.where(((x_h1n1['employment_status']=='Employed') & (x_h1n1['employment_industry'].isnull())\n",
    "                                      ),'fcxhlnwr',x_h1n1['employment_industry'])\n",
    "\n",
    "x_seasonal['employment_industry']=np.where(((x_seasonal['employment_status']=='Employed') & (x_seasonal['employment_industry'].isnull())\n",
    "                                      ),'fcxhlnwr',x_seasonal['employment_industry'])\n",
    "\n",
    "\n",
    "test['employment_industry']=np.where(((test['employment_status']=='Employed') & (test['employment_industry'].isnull())\n",
    "                                      ),'fcxhlnwr',test['employment_industry'])"
   ]
  },
  {
   "cell_type": "markdown",
   "metadata": {},
   "source": [
    "11.5 Imputation of respondent which employment_status is 'Employed' but with the status 'null' in employment_occupation by assuming this category of respondents to be placed under group of employment_occupation with the highest counts."
   ]
  },
  {
   "cell_type": "code",
   "execution_count": 90,
   "metadata": {},
   "outputs": [
    {
     "data": {
      "text/plain": [
       "employment_status  employment_occupation\n",
       "Employed           pvmttkik                  37\n",
       "                   rcertsgn                  87\n",
       "                   xzmlyyjv                  91\n",
       "                   dcjcmpih                 109\n",
       "                   hodpvpew                 109\n",
       "                   dlvbwzss                 113\n",
       "                   tfqavkke                 134\n",
       "                   ukymxvdu                 136\n",
       "                   ccgxvspp                 137\n",
       "                   oijqvulv                 138\n",
       "                   vlluhbov                 152\n",
       "                   bxpfxfdn                 152\n",
       "                   uqqtjvyb                 164\n",
       "                   xqwwgdyp                 173\n",
       "                   haliazsg                 174\n",
       "                   kldqjyjy                 184\n",
       "                   qxajmpny                 206\n",
       "                   hfxkjkmi                 298\n",
       "                   xgwztkwe                 406\n",
       "                   emcorrxb                 542\n",
       "                   mxkfnird                 599\n",
       "                   xtkaffoo                 722\n",
       "                   cmhcxjea                 799\n",
       "Name: respondent_id, dtype: int64"
      ]
     },
     "execution_count": 90,
     "metadata": {},
     "output_type": "execute_result"
    }
   ],
   "source": [
    "x_h1n1[x_h1n1['employment_status']=='Employed'].groupby(['employment_status','employment_occupation'])['respondent_id'].count().sort_values()"
   ]
  },
  {
   "cell_type": "code",
   "execution_count": 91,
   "metadata": {},
   "outputs": [
    {
     "data": {
      "text/plain": [
       "employment_status  employment_occupation\n",
       "Employed           pvmttkik                   99\n",
       "                   dcjcmpih                  141\n",
       "                   hodpvpew                  193\n",
       "                   dlvbwzss                  198\n",
       "                   xzmlyyjv                  231\n",
       "                   rcertsgn                  244\n",
       "                   haliazsg                  291\n",
       "                   bxpfxfdn                  303\n",
       "                   oijqvulv                  314\n",
       "                   ccgxvspp                  324\n",
       "                   vlluhbov                  327\n",
       "                   ukymxvdu                  341\n",
       "                   tfqavkke                  355\n",
       "                   kldqjyjy                  415\n",
       "                   uqqtjvyb                  428\n",
       "                   xqwwgdyp                  435\n",
       "                   qxajmpny                  508\n",
       "                   hfxkjkmi                  705\n",
       "                   xgwztkwe                  979\n",
       "                   emcorrxb                 1170\n",
       "                   cmhcxjea                 1211\n",
       "                   mxkfnird                 1384\n",
       "                   xtkaffoo                 1709\n",
       "Name: respondent_id, dtype: int64"
      ]
     },
     "execution_count": 91,
     "metadata": {},
     "output_type": "execute_result"
    }
   ],
   "source": [
    "x_seasonal[x_seasonal['employment_status']=='Employed'].groupby(['employment_status','employment_occupation'])['respondent_id'].count().sort_values()"
   ]
  },
  {
   "cell_type": "code",
   "execution_count": 92,
   "metadata": {},
   "outputs": [
    {
     "data": {
      "text/plain": [
       "employment_status  employment_occupation\n",
       "Employed           pvmttkik                  108\n",
       "                   dcjcmpih                  161\n",
       "                   xzmlyyjv                  216\n",
       "                   dlvbwzss                  245\n",
       "                   hodpvpew                  253\n",
       "                   rcertsgn                  297\n",
       "                   haliazsg                  300\n",
       "                   vlluhbov                  325\n",
       "                   ukymxvdu                  329\n",
       "                   bxpfxfdn                  331\n",
       "                   oijqvulv                  346\n",
       "                   ccgxvspp                  368\n",
       "                   tfqavkke                  402\n",
       "                   kldqjyjy                  446\n",
       "                   xqwwgdyp                  475\n",
       "                   qxajmpny                  499\n",
       "                   uqqtjvyb                  501\n",
       "                   hfxkjkmi                  725\n",
       "                   xgwztkwe                 1138\n",
       "                   cmhcxjea                 1224\n",
       "                   emcorrxb                 1284\n",
       "                   mxkfnird                 1561\n",
       "                   xtkaffoo                 1748\n",
       "Name: respondent_id, dtype: int64"
      ]
     },
     "execution_count": 92,
     "metadata": {},
     "output_type": "execute_result"
    }
   ],
   "source": [
    "test[test['employment_status']=='Employed'].groupby(['employment_status','employment_occupation'])['respondent_id'].count().sort_values()"
   ]
  },
  {
   "cell_type": "code",
   "execution_count": 93,
   "metadata": {},
   "outputs": [],
   "source": [
    "x_h1n1['employment_occupation']=np.where(((x_h1n1['employment_status']=='Employed') & (x_h1n1['employment_occupation'].isnull())\n",
    "                                      ),'cmhcxjea',x_h1n1['employment_occupation'])\n",
    "\n",
    "x_seasonal['employment_occupation']=np.where(((x_seasonal['employment_status']=='Employed') & (x_seasonal['employment_occupation'].isnull())\n",
    "                                      ),'xtkaffoo',x_seasonal['employment_occupation'])\n",
    "\n",
    "test['employment_occupation']=np.where(((test['employment_status']=='Employed') & (test['employment_occupation'].isnull())\n",
    "                                      ),'xtkaffoo',test['employment_occupation'])"
   ]
  },
  {
   "cell_type": "markdown",
   "metadata": {},
   "source": [
    "# Question 5a : Machine Learning Model"
   ]
  },
  {
   "cell_type": "markdown",
   "metadata": {},
   "source": [
    "## Feature Selection"
   ]
  },
  {
   "cell_type": "markdown",
   "metadata": {},
   "source": [
    "Since there are many categorical variables in the dataset, we try to identify the most relevence features using Chi-Square approach by implementation of sklearn library."
   ]
  },
  {
   "cell_type": "code",
   "execution_count": 94,
   "metadata": {},
   "outputs": [],
   "source": [
    "from sklearn.model_selection import train_test_split\n",
    "from sklearn.preprocessing import LabelEncoder\n",
    "from sklearn.preprocessing import OrdinalEncoder\n",
    "from sklearn.feature_selection import SelectKBest\n",
    "from sklearn.feature_selection import chi2\n",
    "from matplotlib import pyplot\n"
   ]
  },
  {
   "cell_type": "markdown",
   "metadata": {},
   "source": [
    "### Relevance Features for H1N1 Vaccine Target"
   ]
  },
  {
   "cell_type": "code",
   "execution_count": 95,
   "metadata": {},
   "outputs": [],
   "source": [
    "# prepare input data\n",
    "def prepare_inputs(X_train, X_test):\n",
    "    oe = OrdinalEncoder()\n",
    "    oe.fit(X_train)\n",
    "    X_train_enc = oe.transform(X_train)\n",
    "    X_test_enc = oe.transform(X_test)\n",
    "    return X_train_enc, X_test_enc\n",
    " \n",
    "# prepare target\n",
    "def prepare_targets(y_train, y_test):\n",
    "    le = LabelEncoder()\n",
    "    le.fit(y_train)\n",
    "    y_train_enc = le.transform(y_train)\n",
    "    y_test_enc = le.transform(y_test)\n",
    "    return y_train_enc, y_test_enc\n",
    " \n",
    "# feature selection\n",
    "def select_features(X_train, y_train, X_test):\n",
    "    fs = SelectKBest(score_func=chi2, k=8)\n",
    "    fs.fit(X_train, y_train)\n",
    "    X_train_fs = fs.transform(X_train)\n",
    "    X_test_fs = fs.transform(X_test)\n",
    "    return X_train_fs, X_test_fs, fs\n",
    "\n",
    "# train & test (using train dataset)\n",
    "X_train, X_test, y_train,y_test = train_test_split(x_h1n1.drop(columns=['respondent_id']), y_h1n1, test_size=0.30, random_state=1)\n",
    "\n",
    "#prepare input data\n",
    "X_train_enc, X_test_enc = prepare_inputs(X_train, X_test)\n",
    "\n",
    "# prepare output data\n",
    "y_train_enc, y_test_enc = prepare_targets(y_train, y_test)\n",
    "\n",
    "# feature selection\n",
    "X_train_fs, X_test_fs, fs = select_features(X_train_enc, y_train_enc, X_test_enc)"
   ]
  },
  {
   "cell_type": "code",
   "execution_count": 96,
   "metadata": {},
   "outputs": [
    {
     "name": "stdout",
     "output_type": "stream",
     "text": [
      "Feature 0: 78.754206\n",
      "Feature 1: 48.965231\n",
      "Feature 2: 15.640259\n",
      "Feature 3: 9.766092\n",
      "Feature 4: 38.729957\n",
      "Feature 5: 10.542637\n",
      "Feature 6: 2.645664\n",
      "Feature 7: 4.422219\n",
      "Feature 8: 21.994873\n",
      "Feature 9: 967.991645\n",
      "Feature 10: 297.899631\n",
      "Feature 11: 76.655531\n",
      "Feature 12: 44.908691\n",
      "Feature 13: 197.384876\n",
      "Feature 14: 276.937282\n",
      "Feature 15: 296.451708\n",
      "Feature 16: 1156.587101\n",
      "Feature 17: 82.116790\n",
      "Feature 18: 142.867601\n",
      "Feature 19: 816.627292\n",
      "Feature 20: 0.379250\n",
      "Feature 21: 24.702634\n",
      "Feature 22: 3.802190\n",
      "Feature 23: 12.776312\n",
      "Feature 24: 1.127658\n",
      "Feature 25: 0.172810\n",
      "Feature 26: 22.949267\n",
      "Feature 27: 18.554939\n",
      "Feature 28: 6.162570\n",
      "Feature 29: 0.616185\n",
      "Feature 30: 0.243400\n",
      "Feature 31: 0.063591\n",
      "Feature 32: 0.132650\n",
      "Feature 33: 116.131789\n",
      "Feature 34: 250.016195\n"
     ]
    }
   ],
   "source": [
    "# scores for the features\n",
    "for i in range(len(fs.scores_)):\n",
    "    print('Feature %d: %f' % (i, fs.scores_[i]))"
   ]
  },
  {
   "cell_type": "code",
   "execution_count": 97,
   "metadata": {},
   "outputs": [
    {
     "name": "stdout",
     "output_type": "stream",
     "text": [
      "<class 'pandas.core.frame.DataFrame'>\n",
      "RangeIndex: 11348 entries, 0 to 11347\n",
      "Data columns (total 35 columns):\n",
      " #   Column                       Non-Null Count  Dtype \n",
      "---  ------                       --------------  ----- \n",
      " 0   h1n1_concern                 11348 non-null  int64 \n",
      " 1   h1n1_knowledge               11348 non-null  int64 \n",
      " 2   behavioral_antiviral_meds    11348 non-null  int64 \n",
      " 3   behavioral_avoidance         11348 non-null  int64 \n",
      " 4   behavioral_face_mask         11348 non-null  int64 \n",
      " 5   behavioral_wash_hands        11348 non-null  int64 \n",
      " 6   behavioral_large_gatherings  11348 non-null  int64 \n",
      " 7   behavioral_outside_home      11348 non-null  int64 \n",
      " 8   behavioral_touch_face        11348 non-null  int64 \n",
      " 9   doctor_recc_h1n1             11348 non-null  int64 \n",
      " 10  doctor_recc_seasonal         11348 non-null  int64 \n",
      " 11  chronic_med_condition        11348 non-null  int64 \n",
      " 12  child_under_6_months         11348 non-null  int64 \n",
      " 13  health_worker                11348 non-null  int64 \n",
      " 14  health_insurance             11348 non-null  int64 \n",
      " 15  opinion_h1n1_vacc_effective  11348 non-null  int64 \n",
      " 16  opinion_h1n1_risk            11348 non-null  int64 \n",
      " 17  opinion_h1n1_sick_from_vacc  11348 non-null  int64 \n",
      " 18  opinion_seas_vacc_effective  11348 non-null  int64 \n",
      " 19  opinion_seas_risk            11348 non-null  int64 \n",
      " 20  opinion_seas_sick_from_vacc  11348 non-null  int64 \n",
      " 21  age_group                    11348 non-null  object\n",
      " 22  education                    11348 non-null  object\n",
      " 23  race                         11348 non-null  object\n",
      " 24  sex                          11348 non-null  object\n",
      " 25  income_poverty               11348 non-null  object\n",
      " 26  marital_status               11348 non-null  object\n",
      " 27  rent_or_own                  11348 non-null  object\n",
      " 28  employment_status            11348 non-null  object\n",
      " 29  hhs_geo_region               11348 non-null  object\n",
      " 30  census_msa                   11348 non-null  object\n",
      " 31  household_adults             11348 non-null  object\n",
      " 32  household_children           11348 non-null  object\n",
      " 33  employment_industry          11348 non-null  object\n",
      " 34  employment_occupation        11348 non-null  object\n",
      "dtypes: int64(21), object(14)\n",
      "memory usage: 3.0+ MB\n"
     ]
    }
   ],
   "source": [
    "x_h1n1.drop(columns=['respondent_id']).info()"
   ]
  },
  {
   "cell_type": "code",
   "execution_count": 98,
   "metadata": {},
   "outputs": [
    {
     "data": {
      "image/png": "[encoded data removed]",
      "text/plain": [
       "<Figure size 1440x360 with 1 Axes>"
      ]
     },
     "metadata": {
      "needs_background": "light"
     },
     "output_type": "display_data"
    }
   ],
   "source": [
    "# plot the scores\n",
    "pyplot.figure(figsize=(20,5))\n",
    "pyplot.bar([i for i in range(len(fs.scores_))], fs.scores_)\n",
    "pyplot.show()"
   ]
  },
  {
   "cell_type": "markdown",
   "metadata": {},
   "source": [
    "Based on the above, there are at least 3 most relevance features for target h1n1_vaccine which are **Feature 9 (doctor_recc_h1n1), Feature 16 (opinion_h1n1_risk) and Feature 19 (opinion_seas_risk)**. Other 5 features also quite significant which include **Feature 10 (doctor_recc_seasonal), Feature 13,14,15 (health_worker,health_insurance, opinion_h1n1_vacc_effective) and Feature 34 (employment_occupation)**"
   ]
  },
  {
   "cell_type": "markdown",
   "metadata": {},
   "source": [
    "### Relevance Features for Seasonal Vaccine Target"
   ]
  },
  {
   "cell_type": "code",
   "execution_count": 99,
   "metadata": {},
   "outputs": [],
   "source": [
    "# prepare input data\n",
    "def prepare_inputs(X_train, X_test):\n",
    "    oe = OrdinalEncoder()\n",
    "    oe.fit(X_train)\n",
    "    X_train_enc = oe.transform(X_train)\n",
    "    X_test_enc = oe.transform(X_test)\n",
    "    return X_train_enc, X_test_enc\n",
    " \n",
    "# prepare target\n",
    "def prepare_targets(y_train, y_test):\n",
    "    le = LabelEncoder()\n",
    "    le.fit(y_train)\n",
    "    y_train_enc = le.transform(y_train)\n",
    "    y_test_enc = le.transform(y_test)\n",
    "    return y_train_enc, y_test_enc\n",
    " \n",
    "# feature selection\n",
    "def select_features(X_train, y_train, X_test):\n",
    "    fs = SelectKBest(score_func=chi2, k=8)\n",
    "    fs.fit(X_train, y_train)\n",
    "    X_train_fs = fs.transform(X_train)\n",
    "    X_test_fs = fs.transform(X_test)\n",
    "    return X_train_fs, X_test_fs, fs\n",
    "\n",
    "# train & test (using train dataset)\n",
    "X_train, X_test, y_train,y_test = train_test_split(x_seasonal.drop(columns=['respondent_id']), y_seasonal, test_size=0.30, random_state=1)\n",
    "\n",
    "#prepare input data\n",
    "X_train_enc, X_test_enc = prepare_inputs(X_train, X_test)\n",
    "\n",
    "# prepare output data\n",
    "y_train_enc, y_test_enc = prepare_targets(y_train, y_test)\n",
    "\n",
    "# feature selection\n",
    "X_train_fs, X_test_fs, fs = select_features(X_train_enc, y_train_enc, X_test_enc)"
   ]
  },
  {
   "cell_type": "code",
   "execution_count": 100,
   "metadata": {},
   "outputs": [
    {
     "name": "stdout",
     "output_type": "stream",
     "text": [
      "Feature 0: 233.354700\n",
      "Feature 1: 84.317506\n",
      "Feature 2: 0.236468\n",
      "Feature 3: 28.238153\n",
      "Feature 4: 36.735231\n",
      "Feature 5: 38.205083\n",
      "Feature 6: 48.315563\n",
      "Feature 7: 18.482763\n",
      "Feature 8: 74.426828\n",
      "Feature 9: 588.331091\n",
      "Feature 10: 1578.808672\n",
      "Feature 11: 356.965083\n",
      "Feature 12: 4.025268\n",
      "Feature 13: 240.590911\n",
      "Feature 14: 185.029711\n",
      "Feature 15: 271.848345\n",
      "Feature 16: 988.064783\n",
      "Feature 17: 12.419824\n",
      "Feature 18: 898.940531\n",
      "Feature 19: 2843.313894\n",
      "Feature 20: 126.430584\n",
      "Feature 21: 1358.894002\n",
      "Feature 22: 15.582098\n",
      "Feature 23: 55.611729\n",
      "Feature 24: 48.722407\n",
      "Feature 25: 20.095950\n",
      "Feature 26: 27.980079\n",
      "Feature 27: 145.337949\n",
      "Feature 28: 10.692771\n",
      "Feature 29: 17.090795\n",
      "Feature 30: 8.670066\n",
      "Feature 31: 19.590743\n",
      "Feature 32: 113.988834\n",
      "Feature 33: 438.270825\n",
      "Feature 34: 493.577408\n"
     ]
    }
   ],
   "source": [
    "# scores for the features\n",
    "for i in range(len(fs.scores_)):\n",
    "    print('Feature %d: %f' % (i, fs.scores_[i]))"
   ]
  },
  {
   "cell_type": "code",
   "execution_count": 101,
   "metadata": {},
   "outputs": [
    {
     "name": "stdout",
     "output_type": "stream",
     "text": [
      "<class 'pandas.core.frame.DataFrame'>\n",
      "RangeIndex: 24870 entries, 0 to 24869\n",
      "Data columns (total 35 columns):\n",
      " #   Column                       Non-Null Count  Dtype \n",
      "---  ------                       --------------  ----- \n",
      " 0   h1n1_concern                 24870 non-null  int64 \n",
      " 1   h1n1_knowledge               24870 non-null  int64 \n",
      " 2   behavioral_antiviral_meds    24870 non-null  int64 \n",
      " 3   behavioral_avoidance         24870 non-null  int64 \n",
      " 4   behavioral_face_mask         24870 non-null  int64 \n",
      " 5   behavioral_wash_hands        24870 non-null  int64 \n",
      " 6   behavioral_large_gatherings  24870 non-null  int64 \n",
      " 7   behavioral_outside_home      24870 non-null  int64 \n",
      " 8   behavioral_touch_face        24870 non-null  int64 \n",
      " 9   doctor_recc_h1n1             24870 non-null  int64 \n",
      " 10  doctor_recc_seasonal         24870 non-null  int64 \n",
      " 11  chronic_med_condition        24870 non-null  int64 \n",
      " 12  child_under_6_months         24870 non-null  int64 \n",
      " 13  health_worker                24870 non-null  int64 \n",
      " 14  health_insurance             24870 non-null  int64 \n",
      " 15  opinion_h1n1_vacc_effective  24870 non-null  int64 \n",
      " 16  opinion_h1n1_risk            24870 non-null  int64 \n",
      " 17  opinion_h1n1_sick_from_vacc  24870 non-null  int64 \n",
      " 18  opinion_seas_vacc_effective  24870 non-null  int64 \n",
      " 19  opinion_seas_risk            24870 non-null  int64 \n",
      " 20  opinion_seas_sick_from_vacc  24870 non-null  int64 \n",
      " 21  age_group                    24870 non-null  object\n",
      " 22  education                    24870 non-null  object\n",
      " 23  race                         24870 non-null  object\n",
      " 24  sex                          24870 non-null  object\n",
      " 25  income_poverty               24870 non-null  object\n",
      " 26  marital_status               24870 non-null  object\n",
      " 27  rent_or_own                  24870 non-null  object\n",
      " 28  employment_status            24870 non-null  object\n",
      " 29  hhs_geo_region               24870 non-null  object\n",
      " 30  census_msa                   24870 non-null  object\n",
      " 31  household_adults             24870 non-null  object\n",
      " 32  household_children           24870 non-null  object\n",
      " 33  employment_industry          24870 non-null  object\n",
      " 34  employment_occupation        24870 non-null  object\n",
      "dtypes: int64(21), object(14)\n",
      "memory usage: 6.6+ MB\n"
     ]
    }
   ],
   "source": [
    "x_seasonal.drop(columns=['respondent_id']).info()"
   ]
  },
  {
   "cell_type": "code",
   "execution_count": 102,
   "metadata": {},
   "outputs": [
    {
     "data": {
      "image/png": "[encoded data removed]",
      "text/plain": [
       "<Figure size 1440x360 with 1 Axes>"
      ]
     },
     "metadata": {
      "needs_background": "light"
     },
     "output_type": "display_data"
    }
   ],
   "source": [
    "# plot the scores\n",
    "pyplot.figure(figsize=(20,5))\n",
    "pyplot.bar([i for i in range(len(fs.scores_))], fs.scores_)\n",
    "pyplot.show()"
   ]
  },
  {
   "cell_type": "markdown",
   "metadata": {},
   "source": [
    "Based on the above, there are at least 3 most relevance features for target seasonal_vaccine which are **Feature 10 (doctor_recc_seasonal), Feature 19 (opinion_seas_risk) and Feature 21 (age_group)**.Other 5 features also quite significant which include **Feature 9 (doctor_recc_h1n1), Feature 16, Feature 18 (opinion_h1n1_risk,opinion_seas_vacc_effective) and Feature 34 % Feature 34(employment_industry,employment_occupation)**"
   ]
  },
  {
   "cell_type": "markdown",
   "metadata": {},
   "source": [
    "### Accuracy Based on 8 Most Relevance Features for H1NI Vaccine Target"
   ]
  },
  {
   "cell_type": "code",
   "execution_count": 103,
   "metadata": {},
   "outputs": [],
   "source": [
    "from sklearn.tree import DecisionTreeClassifier\n",
    "from sklearn.ensemble import RandomForestClassifier\n",
    "from sklearn.neural_network import MLPClassifier\n",
    "from sklearn.metrics import accuracy_score\n",
    "from sklearn.model_selection import cross_val_score"
   ]
  },
  {
   "cell_type": "code",
   "execution_count": 104,
   "metadata": {},
   "outputs": [
    {
     "name": "stdout",
     "output_type": "stream",
     "text": [
      "Accuracy considering 8 most relevance features: 74.48\n"
     ]
    }
   ],
   "source": [
    "# prepare input data\n",
    "def prepare_inputs(X_train, X_test):\n",
    "    oe = OrdinalEncoder()\n",
    "    oe.fit(X_train)\n",
    "    X_train_enc = oe.transform(X_train)\n",
    "    X_test_enc = oe.transform(X_test)\n",
    "    return X_train_enc, X_test_enc\n",
    " \n",
    "# prepare target\n",
    "def prepare_targets(y_train, y_test):\n",
    "    le = LabelEncoder()\n",
    "    le.fit(y_train)\n",
    "    y_train_enc = le.transform(y_train)\n",
    "    y_test_enc = le.transform(y_test)\n",
    "    return y_train_enc, y_test_enc\n",
    " \n",
    "# feature selection\n",
    "def select_features(X_train, y_train, X_test):\n",
    "    fs = SelectKBest(score_func=chi2, k=8)\n",
    "    fs.fit(X_train, y_train)\n",
    "    X_train_fs = fs.transform(X_train)\n",
    "    X_test_fs = fs.transform(X_test)\n",
    "    return X_train_fs, X_test_fs, fs\n",
    "\n",
    "# train & test (using train dataset)\n",
    "X_train, X_test, y_train,y_test = train_test_split(x_h1n1.drop(columns=['respondent_id']), y_h1n1, test_size=0.30, random_state=1)\n",
    "\n",
    "#prepare input data\n",
    "X_train_enc, X_test_enc = prepare_inputs(X_train, X_test)\n",
    "\n",
    "# prepare output data\n",
    "y_train_enc, y_test_enc = prepare_targets(y_train, y_test)\n",
    "\n",
    "# feature selection\n",
    "X_train_fs, X_test_fs, fs = select_features(X_train_enc, y_train_enc, X_test_enc)\n",
    "\n",
    "# fit the model\n",
    "#model = DecisionTreeClassifier()#73.39\n",
    "model = RandomForestClassifier()#74.39\n",
    "#model = MLPClassifier()#75.77\n",
    "model.fit(X_train_fs, y_train_enc)\n",
    "# evaluate the model\n",
    "yhat = model.predict(X_test_fs)\n",
    "# evaluate predictions\n",
    "accuracy = accuracy_score(y_test_enc, yhat)\n",
    "print('Accuracy considering 8 most relevance features: %.2f' % (accuracy*100))"
   ]
  },
  {
   "cell_type": "code",
   "execution_count": 105,
   "metadata": {},
   "outputs": [
    {
     "data": {
      "text/plain": [
       "0.7633"
      ]
     },
     "execution_count": 105,
     "metadata": {},
     "output_type": "execute_result"
    }
   ],
   "source": [
    "#Confirming accuracy using 10 folds of cross validation\n",
    "cross_val_score(model, X_train_fs, y_train_enc, cv=10).mean().round(4)"
   ]
  },
  {
   "cell_type": "markdown",
   "metadata": {},
   "source": [
    "### Accuracy Based on All Features for H1NI Vaccine Target"
   ]
  },
  {
   "cell_type": "code",
   "execution_count": 106,
   "metadata": {},
   "outputs": [
    {
     "name": "stdout",
     "output_type": "stream",
     "text": [
      "Accuracy considering all features: 77.65\n"
     ]
    }
   ],
   "source": [
    "# prepare input data\n",
    "def prepare_inputs(X_train, X_test):\n",
    "    oe = OrdinalEncoder()\n",
    "    oe.fit(X_train)\n",
    "    X_train_enc = oe.transform(X_train)\n",
    "    X_test_enc = oe.transform(X_test)\n",
    "    return X_train_enc, X_test_enc\n",
    " \n",
    "# prepare target\n",
    "def prepare_targets(y_train, y_test):\n",
    "    le = LabelEncoder()\n",
    "    le.fit(y_train)\n",
    "    y_train_enc = le.transform(y_train)\n",
    "    y_test_enc = le.transform(y_test)\n",
    "    return y_train_enc, y_test_enc\n",
    " \n",
    "# feature selection\n",
    "def select_features(X_train, y_train, X_test):\n",
    "    fs = SelectKBest(score_func=chi2, k='all')\n",
    "    fs.fit(X_train, y_train)\n",
    "    X_train_fs = fs.transform(X_train)\n",
    "    X_test_fs = fs.transform(X_test)\n",
    "    return X_train_fs, X_test_fs, fs\n",
    "\n",
    "# train & test (using train dataset)\n",
    "X_train, X_test, y_train,y_test = train_test_split(x_h1n1.drop(columns=['respondent_id']), y_h1n1, test_size=0.30, random_state=1)\n",
    "\n",
    "#prepare input data\n",
    "X_train_enc, X_test_enc = prepare_inputs(X_train, X_test)\n",
    "\n",
    "# prepare output data\n",
    "y_train_enc, y_test_enc = prepare_targets(y_train, y_test)\n",
    "\n",
    "# feature selection\n",
    "X_train_fs, X_test_fs, fs = select_features(X_train_enc, y_train_enc, X_test_enc)\n",
    "\n",
    "# fit the model\n",
    "#model = DecisionTreeClassifier()#70.34\n",
    "model = RandomForestClassifier()#77.86\n",
    "#model = MLPClassifier()#74.33\n",
    "model.fit(X_train_fs, y_train_enc)\n",
    "# evaluate the model\n",
    "yhat = model.predict(X_test_fs)\n",
    "# evaluate predictions\n",
    "accuracy = accuracy_score(y_test_enc, yhat)\n",
    "print('Accuracy considering all features: %.2f' % (accuracy*100))"
   ]
  },
  {
   "cell_type": "code",
   "execution_count": 107,
   "metadata": {},
   "outputs": [
    {
     "data": {
      "text/plain": [
       "0.7971"
      ]
     },
     "execution_count": 107,
     "metadata": {},
     "output_type": "execute_result"
    }
   ],
   "source": [
    "#Confirming accuracy using 10 folds of cross validation\n",
    "cross_val_score(model, X_train_fs, y_train_enc, cv=10).mean().round(4)"
   ]
  },
  {
   "cell_type": "markdown",
   "metadata": {},
   "source": [
    "### Accuracy Based on 8 Most Relevance Features for Seasonal Vaccine Target"
   ]
  },
  {
   "cell_type": "code",
   "execution_count": 108,
   "metadata": {},
   "outputs": [
    {
     "name": "stdout",
     "output_type": "stream",
     "text": [
      "Accuracy considering 8 most relevance features: 77.20\n"
     ]
    }
   ],
   "source": [
    "# prepare input data\n",
    "def prepare_inputs(X_train, X_test):\n",
    "    oe = OrdinalEncoder()\n",
    "    oe.fit(X_train)\n",
    "    X_train_enc = oe.transform(X_train)\n",
    "    X_test_enc = oe.transform(X_test)\n",
    "    return X_train_enc, X_test_enc\n",
    " \n",
    "# prepare target\n",
    "def prepare_targets(y_train, y_test):\n",
    "    le = LabelEncoder()\n",
    "    le.fit(y_train)\n",
    "    y_train_enc = le.transform(y_train)\n",
    "    y_test_enc = le.transform(y_test)\n",
    "    return y_train_enc, y_test_enc\n",
    " \n",
    "# feature selection\n",
    "def select_features(X_train, y_train, X_test):\n",
    "    fs = SelectKBest(score_func=chi2, k=8)\n",
    "    fs.fit(X_train, y_train)\n",
    "    X_train_fs = fs.transform(X_train)\n",
    "    X_test_fs = fs.transform(X_test)\n",
    "    return X_train_fs, X_test_fs, fs\n",
    "\n",
    "# train & test (using train dataset)\n",
    "X_train, X_test, y_train,y_test = train_test_split(x_seasonal.drop(columns=['respondent_id']), y_seasonal, test_size=0.30, random_state=1)\n",
    "\n",
    "#prepare input data\n",
    "X_train_enc, X_test_enc = prepare_inputs(X_train, X_test)\n",
    "\n",
    "# prepare output data\n",
    "y_train_enc, y_test_enc = prepare_targets(y_train, y_test)\n",
    "\n",
    "# feature selection\n",
    "X_train_fs, X_test_fs, fs = select_features(X_train_enc, y_train_enc, X_test_enc)\n",
    "\n",
    "# fit the model\n",
    "#model = DecisionTreeClassifier() #76.01\n",
    "model = RandomForestClassifier() #77.46\n",
    "#model = MLPClassifier() #76.72\n",
    "model.fit(X_train_fs, y_train_enc)\n",
    "# evaluate the model\n",
    "yhat = model.predict(X_test_fs)\n",
    "# evaluate predictions\n",
    "accuracy = accuracy_score(y_test_enc, yhat)\n",
    "print('Accuracy considering 8 most relevance features: %.2f' % (accuracy*100))"
   ]
  },
  {
   "cell_type": "code",
   "execution_count": 109,
   "metadata": {},
   "outputs": [
    {
     "data": {
      "text/plain": [
       "0.7797"
      ]
     },
     "execution_count": 109,
     "metadata": {},
     "output_type": "execute_result"
    }
   ],
   "source": [
    "#Confirming accuracy using 10 folds of cross validation\n",
    "cross_val_score(model, X_train_fs, y_train_enc, cv=10).mean().round(4)"
   ]
  },
  {
   "cell_type": "markdown",
   "metadata": {},
   "source": [
    "### Accuracy Based on All Features for Seasonal Vaccine Target"
   ]
  },
  {
   "cell_type": "code",
   "execution_count": 110,
   "metadata": {},
   "outputs": [
    {
     "name": "stdout",
     "output_type": "stream",
     "text": [
      "Accuracy considering all features: 83.22\n"
     ]
    }
   ],
   "source": [
    "# prepare input data\n",
    "def prepare_inputs(X_train, X_test):\n",
    "    oe = OrdinalEncoder()\n",
    "    oe.fit(X_train)\n",
    "    X_train_enc = oe.transform(X_train)\n",
    "    X_test_enc = oe.transform(X_test)\n",
    "    return X_train_enc, X_test_enc\n",
    " \n",
    "# prepare target\n",
    "def prepare_targets(y_train, y_test):\n",
    "    le = LabelEncoder()\n",
    "    le.fit(y_train)\n",
    "    y_train_enc = le.transform(y_train)\n",
    "    y_test_enc = le.transform(y_test)\n",
    "    return y_train_enc, y_test_enc\n",
    " \n",
    "# feature selection\n",
    "def select_features(X_train, y_train, X_test):\n",
    "    fs = SelectKBest(score_func=chi2, k='all')\n",
    "    fs.fit(X_train, y_train)\n",
    "    X_train_fs = fs.transform(X_train)\n",
    "    X_test_fs = fs.transform(X_test)\n",
    "    return X_train_fs, X_test_fs, fs\n",
    "\n",
    "# train & test (using train dataset)\n",
    "X_train, X_test, y_train,y_test = train_test_split(x_seasonal.drop(columns=['respondent_id']), y_seasonal, test_size=0.30, random_state=1)\n",
    "\n",
    "#prepare input data\n",
    "X_train_enc, X_test_enc = prepare_inputs(X_train, X_test)\n",
    "\n",
    "# prepare output data\n",
    "y_train_enc, y_test_enc = prepare_targets(y_train, y_test)\n",
    "\n",
    "# feature selection\n",
    "X_train_fs, X_test_fs, fs = select_features(X_train_enc, y_train_enc, X_test_enc)\n",
    "\n",
    "# fit the model\n",
    "#model = DecisionTreeClassifier()#76.52\n",
    "model = RandomForestClassifier()#83.62\n",
    "#model = MLPClassifier() #77.63\n",
    "model.fit(X_train_fs, y_train_enc)\n",
    "# evaluate the model\n",
    "yhat = model.predict(X_test_fs)\n",
    "# evaluate predictions\n",
    "accuracy = accuracy_score(y_test_enc, yhat)\n",
    "print('Accuracy considering all features: %.2f' % (accuracy*100))"
   ]
  },
  {
   "cell_type": "code",
   "execution_count": 111,
   "metadata": {},
   "outputs": [
    {
     "data": {
      "text/plain": [
       "0.8287"
      ]
     },
     "execution_count": 111,
     "metadata": {},
     "output_type": "execute_result"
    }
   ],
   "source": [
    "#Confirming accuracy using 10 folds of cross validation\n",
    "cross_val_score(model, X_train_fs, y_train_enc, cv=10).mean().round(4)"
   ]
  },
  {
   "cell_type": "markdown",
   "metadata": {},
   "source": [
    "## Model Evaluation Based on Selected Features"
   ]
  },
  {
   "cell_type": "markdown",
   "metadata": {},
   "source": [
    "The above result show that **Random Forest Classifier** give the highest accuracy by using all features instead of 8 most relevant features . Though to avoid bias and overfitting, the prediction model will use only 8 most significant features as reflected earlier. Model being evaluate by comparing accuracy score considering the following ; <br>\n",
    "1. 8 most relevance features and all features score using 3 different machine learning model\n",
    "2. 3 machine learning model used are Decision Tree, Random Forest and Multi-layer Perceptron classifier"
   ]
  },
  {
   "cell_type": "markdown",
   "metadata": {},
   "source": [
    "## Vaccine Receiver Prediction"
   ]
  },
  {
   "cell_type": "markdown",
   "metadata": {},
   "source": [
    "### Prediction for H1N1 Vaccine Receiver"
   ]
  },
  {
   "cell_type": "code",
   "execution_count": 112,
   "metadata": {},
   "outputs": [],
   "source": [
    "# prepare input data\n",
    "def prepare_inputs(X_train, X_test):\n",
    "    oe = OrdinalEncoder()\n",
    "    oe.fit(X_train)\n",
    "    X_train_enc = oe.transform(X_train)\n",
    "    X_test_enc = oe.transform(X_test)\n",
    "    return X_train_enc, X_test_enc\n",
    " \n",
    "# prepare target\n",
    "def prepare_targets(y_train, y_test):\n",
    "    le = LabelEncoder()\n",
    "    le.fit(y_train)\n",
    "    y_train_enc = le.transform(y_train)\n",
    "    y_test_enc = le.transform(y_test)\n",
    "    return y_train_enc, y_test_enc\n",
    " \n",
    "# feature selection\n",
    "def select_features(X_train, y_train, X_test):\n",
    "    fs = SelectKBest(score_func=chi2, k='all')\n",
    "    fs.fit(X_train, y_train)\n",
    "    X_train_fs = fs.transform(X_train)\n",
    "    X_test_fs = fs.transform(X_test)\n",
    "    return X_train_fs, X_test_fs, fs\n",
    "\n",
    "# train data (using all train & train label dataset)\n",
    "X_train = x_h1n1.drop(columns=['respondent_id'])\n",
    "y_train = y_h1n1\n",
    "\n",
    "# test data (using all test dataset)\n",
    "X_test = test.drop(columns=['respondent_id'])\n",
    "\n",
    "#prepare input data\n",
    "X_train_enc, X_test_enc = prepare_inputs(X_train, X_test)\n",
    "\n",
    "# prepare output data\n",
    "y_train_enc, y_test_enc = prepare_targets(y_train, y_test)\n",
    "\n",
    "# feature selection\n",
    "X_train_fs, X_test_fs, fs = select_features(X_train_enc, y_train_enc, X_test_enc)\n",
    "\n",
    "# fit the model\n",
    "model = RandomForestClassifier()\n",
    "model.fit(X_train_fs, y_train_enc)\n",
    "# prediction\n",
    "#yhat = model.predict(X_test_fs) # classification based prediction\n",
    "yhat = model.predict_proba(X_test_fs) #probability based prediction\n"
   ]
  },
  {
   "cell_type": "code",
   "execution_count": 113,
   "metadata": {},
   "outputs": [
    {
     "data": {
      "text/plain": [
       "array([0.55, 0.76, 0.54, ..., 0.57, 0.87, 0.78])"
      ]
     },
     "execution_count": 113,
     "metadata": {},
     "output_type": "execute_result"
    }
   ],
   "source": [
    "probability_h1n1=pd.DataFrame(yhat)\n",
    "probability_h1n1=probability_h1n1[[0,1]].max(axis=1).values\n",
    "probability_h1n1"
   ]
  },
  {
   "cell_type": "code",
   "execution_count": 114,
   "metadata": {},
   "outputs": [
    {
     "name": "stderr",
     "output_type": "stream",
     "text": [
      "/usr/local/lib/python3.6/site-packages/ipykernel_launcher.py:2: SettingWithCopyWarning: \n",
      "A value is trying to be set on a copy of a slice from a DataFrame.\n",
      "Try using .loc[row_indexer,col_indexer] = value instead\n",
      "\n",
      "See the caveats in the documentation: https://pandas.pydata.org/pandas-docs/stable/user_guide/indexing.html#returning-a-view-versus-a-copy\n",
      "  \n"
     ]
    },
    {
     "data": {
      "text/html": [
       "<div>\n",
       "<style scoped>\n",
       "    .dataframe tbody tr th:only-of-type {\n",
       "        vertical-align: middle;\n",
       "    }\n",
       "\n",
       "    .dataframe tbody tr th {\n",
       "        vertical-align: top;\n",
       "    }\n",
       "\n",
       "    .dataframe thead th {\n",
       "        text-align: right;\n",
       "    }\n",
       "</style>\n",
       "<table border=\"1\" class=\"dataframe\">\n",
       "  <thead>\n",
       "    <tr style=\"text-align: right;\">\n",
       "      <th></th>\n",
       "      <th>respondent_id</th>\n",
       "      <th>h1n1_vaccine</th>\n",
       "    </tr>\n",
       "  </thead>\n",
       "  <tbody>\n",
       "    <tr>\n",
       "      <th>0</th>\n",
       "      <td>26707</td>\n",
       "      <td>0.55</td>\n",
       "    </tr>\n",
       "    <tr>\n",
       "      <th>1</th>\n",
       "      <td>26708</td>\n",
       "      <td>0.76</td>\n",
       "    </tr>\n",
       "    <tr>\n",
       "      <th>2</th>\n",
       "      <td>26709</td>\n",
       "      <td>0.54</td>\n",
       "    </tr>\n",
       "    <tr>\n",
       "      <th>3</th>\n",
       "      <td>26710</td>\n",
       "      <td>0.89</td>\n",
       "    </tr>\n",
       "    <tr>\n",
       "      <th>4</th>\n",
       "      <td>26711</td>\n",
       "      <td>0.50</td>\n",
       "    </tr>\n",
       "    <tr>\n",
       "      <th>...</th>\n",
       "      <td>...</td>\n",
       "      <td>...</td>\n",
       "    </tr>\n",
       "    <tr>\n",
       "      <th>26703</th>\n",
       "      <td>53410</td>\n",
       "      <td>0.60</td>\n",
       "    </tr>\n",
       "    <tr>\n",
       "      <th>26704</th>\n",
       "      <td>53411</td>\n",
       "      <td>0.62</td>\n",
       "    </tr>\n",
       "    <tr>\n",
       "      <th>26705</th>\n",
       "      <td>53412</td>\n",
       "      <td>0.57</td>\n",
       "    </tr>\n",
       "    <tr>\n",
       "      <th>26706</th>\n",
       "      <td>53413</td>\n",
       "      <td>0.87</td>\n",
       "    </tr>\n",
       "    <tr>\n",
       "      <th>26707</th>\n",
       "      <td>53414</td>\n",
       "      <td>0.78</td>\n",
       "    </tr>\n",
       "  </tbody>\n",
       "</table>\n",
       "<p>26708 rows × 2 columns</p>\n",
       "</div>"
      ],
      "text/plain": [
       "       respondent_id  h1n1_vaccine\n",
       "0              26707          0.55\n",
       "1              26708          0.76\n",
       "2              26709          0.54\n",
       "3              26710          0.89\n",
       "4              26711          0.50\n",
       "...              ...           ...\n",
       "26703          53410          0.60\n",
       "26704          53411          0.62\n",
       "26705          53412          0.57\n",
       "26706          53413          0.87\n",
       "26707          53414          0.78\n",
       "\n",
       "[26708 rows x 2 columns]"
      ]
     },
     "execution_count": 114,
     "metadata": {},
     "output_type": "execute_result"
    }
   ],
   "source": [
    "prediction=test[['respondent_id']]\n",
    "prediction['h1n1_vaccine']=probability_h1n1\n",
    "prediction"
   ]
  },
  {
   "cell_type": "markdown",
   "metadata": {},
   "source": [
    "### Prediction for Seasonal Vaccine Receiver"
   ]
  },
  {
   "cell_type": "code",
   "execution_count": 115,
   "metadata": {},
   "outputs": [],
   "source": [
    "# prepare input data\n",
    "def prepare_inputs(X_train, X_test):\n",
    "    oe = OrdinalEncoder()\n",
    "    oe.fit(X_train)\n",
    "    X_train_enc = oe.transform(X_train)\n",
    "    X_test_enc = oe.transform(X_test)\n",
    "    return X_train_enc, X_test_enc\n",
    " \n",
    "# prepare target\n",
    "def prepare_targets(y_train, y_test):\n",
    "    le = LabelEncoder()\n",
    "    le.fit(y_train)\n",
    "    y_train_enc = le.transform(y_train)\n",
    "    y_test_enc = le.transform(y_test)\n",
    "    return y_train_enc, y_test_enc\n",
    " \n",
    "# feature selection\n",
    "def select_features(X_train, y_train, X_test):\n",
    "    fs = SelectKBest(score_func=chi2, k='all')\n",
    "    fs.fit(X_train, y_train)\n",
    "    X_train_fs = fs.transform(X_train)\n",
    "    X_test_fs = fs.transform(X_test)\n",
    "    return X_train_fs, X_test_fs, fs\n",
    "\n",
    "# train data (using all train & train label dataset)\n",
    "X_train = x_seasonal.drop(columns=['respondent_id'])\n",
    "y_train = y_seasonal\n",
    "\n",
    "# test data (using all test dataset)\n",
    "X_test = test.drop(columns=['respondent_id'])\n",
    "\n",
    "#prepare input data\n",
    "X_train_enc, X_test_enc = prepare_inputs(X_train, X_test)\n",
    "\n",
    "# prepare output data\n",
    "y_train_enc, y_test_enc = prepare_targets(y_train, y_test)\n",
    "\n",
    "# feature selection\n",
    "X_train_fs, X_test_fs, fs = select_features(X_train_enc, y_train_enc, X_test_enc)\n",
    "\n",
    "# fit the model\n",
    "model = RandomForestClassifier()\n",
    "model.fit(X_train_fs, y_train_enc)\n",
    "# prediction\n",
    "#yhat = model.predict(X_test_fs) # classification based prediction\n",
    "yhat = model.predict_proba(X_test_fs) #probability based prediction\n"
   ]
  },
  {
   "cell_type": "code",
   "execution_count": 116,
   "metadata": {},
   "outputs": [
    {
     "data": {
      "text/plain": [
       "array([0.55, 0.86, 0.73, ..., 0.56, 0.61, 0.77])"
      ]
     },
     "execution_count": 116,
     "metadata": {},
     "output_type": "execute_result"
    }
   ],
   "source": [
    "probability_seasonal=pd.DataFrame(yhat)\n",
    "probability_seasonal=probability_seasonal[[0,1]].max(axis=1).values\n",
    "probability_seasonal"
   ]
  },
  {
   "cell_type": "code",
   "execution_count": 117,
   "metadata": {},
   "outputs": [
    {
     "name": "stderr",
     "output_type": "stream",
     "text": [
      "/usr/local/lib/python3.6/site-packages/ipykernel_launcher.py:1: SettingWithCopyWarning: \n",
      "A value is trying to be set on a copy of a slice from a DataFrame.\n",
      "Try using .loc[row_indexer,col_indexer] = value instead\n",
      "\n",
      "See the caveats in the documentation: https://pandas.pydata.org/pandas-docs/stable/user_guide/indexing.html#returning-a-view-versus-a-copy\n",
      "  \"\"\"Entry point for launching an IPython kernel.\n"
     ]
    },
    {
     "data": {
      "text/html": [
       "<div>\n",
       "<style scoped>\n",
       "    .dataframe tbody tr th:only-of-type {\n",
       "        vertical-align: middle;\n",
       "    }\n",
       "\n",
       "    .dataframe tbody tr th {\n",
       "        vertical-align: top;\n",
       "    }\n",
       "\n",
       "    .dataframe thead th {\n",
       "        text-align: right;\n",
       "    }\n",
       "</style>\n",
       "<table border=\"1\" class=\"dataframe\">\n",
       "  <thead>\n",
       "    <tr style=\"text-align: right;\">\n",
       "      <th></th>\n",
       "      <th>respondent_id</th>\n",
       "      <th>h1n1_vaccine</th>\n",
       "      <th>seasonal_vaccine</th>\n",
       "    </tr>\n",
       "  </thead>\n",
       "  <tbody>\n",
       "    <tr>\n",
       "      <th>0</th>\n",
       "      <td>26707</td>\n",
       "      <td>0.55</td>\n",
       "      <td>0.55</td>\n",
       "    </tr>\n",
       "    <tr>\n",
       "      <th>1</th>\n",
       "      <td>26708</td>\n",
       "      <td>0.76</td>\n",
       "      <td>0.86</td>\n",
       "    </tr>\n",
       "    <tr>\n",
       "      <th>2</th>\n",
       "      <td>26709</td>\n",
       "      <td>0.54</td>\n",
       "      <td>0.73</td>\n",
       "    </tr>\n",
       "    <tr>\n",
       "      <th>3</th>\n",
       "      <td>26710</td>\n",
       "      <td>0.89</td>\n",
       "      <td>0.93</td>\n",
       "    </tr>\n",
       "    <tr>\n",
       "      <th>4</th>\n",
       "      <td>26711</td>\n",
       "      <td>0.50</td>\n",
       "      <td>0.57</td>\n",
       "    </tr>\n",
       "    <tr>\n",
       "      <th>...</th>\n",
       "      <td>...</td>\n",
       "      <td>...</td>\n",
       "      <td>...</td>\n",
       "    </tr>\n",
       "    <tr>\n",
       "      <th>26703</th>\n",
       "      <td>53410</td>\n",
       "      <td>0.60</td>\n",
       "      <td>0.57</td>\n",
       "    </tr>\n",
       "    <tr>\n",
       "      <th>26704</th>\n",
       "      <td>53411</td>\n",
       "      <td>0.62</td>\n",
       "      <td>0.55</td>\n",
       "    </tr>\n",
       "    <tr>\n",
       "      <th>26705</th>\n",
       "      <td>53412</td>\n",
       "      <td>0.57</td>\n",
       "      <td>0.56</td>\n",
       "    </tr>\n",
       "    <tr>\n",
       "      <th>26706</th>\n",
       "      <td>53413</td>\n",
       "      <td>0.87</td>\n",
       "      <td>0.61</td>\n",
       "    </tr>\n",
       "    <tr>\n",
       "      <th>26707</th>\n",
       "      <td>53414</td>\n",
       "      <td>0.78</td>\n",
       "      <td>0.77</td>\n",
       "    </tr>\n",
       "  </tbody>\n",
       "</table>\n",
       "<p>26708 rows × 3 columns</p>\n",
       "</div>"
      ],
      "text/plain": [
       "       respondent_id  h1n1_vaccine  seasonal_vaccine\n",
       "0              26707          0.55              0.55\n",
       "1              26708          0.76              0.86\n",
       "2              26709          0.54              0.73\n",
       "3              26710          0.89              0.93\n",
       "4              26711          0.50              0.57\n",
       "...              ...           ...               ...\n",
       "26703          53410          0.60              0.57\n",
       "26704          53411          0.62              0.55\n",
       "26705          53412          0.57              0.56\n",
       "26706          53413          0.87              0.61\n",
       "26707          53414          0.78              0.77\n",
       "\n",
       "[26708 rows x 3 columns]"
      ]
     },
     "execution_count": 117,
     "metadata": {},
     "output_type": "execute_result"
    }
   ],
   "source": [
    "prediction['seasonal_vaccine']=probability_seasonal\n",
    "prediction"
   ]
  },
  {
   "cell_type": "code",
   "execution_count": 118,
   "metadata": {},
   "outputs": [],
   "source": [
    "#prediction.to_csv('h1n1_seasonal_predict_8_relevance_features_based.csv',index=False)"
   ]
  },
  {
   "cell_type": "markdown",
   "metadata": {},
   "source": [
    "# Question 5b : Findings Analysis"
   ]
  },
  {
   "cell_type": "markdown",
   "metadata": {},
   "source": [
    "## Findings for Predicted H1N1 Vaccine Receiver"
   ]
  },
  {
   "cell_type": "code",
   "execution_count": 119,
   "metadata": {},
   "outputs": [
    {
     "data": {
      "text/html": [
       "<div>\n",
       "<style scoped>\n",
       "    .dataframe tbody tr th:only-of-type {\n",
       "        vertical-align: middle;\n",
       "    }\n",
       "\n",
       "    .dataframe tbody tr th {\n",
       "        vertical-align: top;\n",
       "    }\n",
       "\n",
       "    .dataframe thead th {\n",
       "        text-align: right;\n",
       "    }\n",
       "</style>\n",
       "<table border=\"1\" class=\"dataframe\">\n",
       "  <thead>\n",
       "    <tr style=\"text-align: right;\">\n",
       "      <th></th>\n",
       "      <th>count</th>\n",
       "      <th>mean</th>\n",
       "      <th>std</th>\n",
       "      <th>min</th>\n",
       "      <th>25%</th>\n",
       "      <th>50%</th>\n",
       "      <th>75%</th>\n",
       "      <th>max</th>\n",
       "    </tr>\n",
       "  </thead>\n",
       "  <tbody>\n",
       "    <tr>\n",
       "      <th>h1n1_vaccine</th>\n",
       "      <td>26708.0</td>\n",
       "      <td>0.729714</td>\n",
       "      <td>0.127027</td>\n",
       "      <td>0.5</td>\n",
       "      <td>0.62</td>\n",
       "      <td>0.73</td>\n",
       "      <td>0.83</td>\n",
       "      <td>1.0</td>\n",
       "    </tr>\n",
       "  </tbody>\n",
       "</table>\n",
       "</div>"
      ],
      "text/plain": [
       "                count      mean       std  min   25%   50%   75%  max\n",
       "h1n1_vaccine  26708.0  0.729714  0.127027  0.5  0.62  0.73  0.83  1.0"
      ]
     },
     "execution_count": 119,
     "metadata": {},
     "output_type": "execute_result"
    }
   ],
   "source": [
    "prediction[['h1n1_vaccine']].describe().T"
   ]
  },
  {
   "cell_type": "code",
   "execution_count": 120,
   "metadata": {},
   "outputs": [
    {
     "data": {
      "text/plain": [
       "array([<matplotlib.axes._subplots.AxesSubplot object at 0x7f49b8f9e438>],\n",
       "      dtype=object)"
      ]
     },
     "execution_count": 120,
     "metadata": {},
     "output_type": "execute_result"
    },
    {
     "data": {
      "image/png": "[encoded data removed]",
      "text/plain": [
       "<Figure size 1440x360 with 2 Axes>"
      ]
     },
     "metadata": {
      "needs_background": "light"
     },
     "output_type": "display_data"
    }
   ],
   "source": [
    "import matplotlib\n",
    "import matplotlib.pyplot as plt\n",
    "\n",
    "fig, axes = plt.subplots(nrows=1, ncols=2 ,figsize=[20,5])\n",
    "\n",
    "prediction[['h1n1_vaccine']].boxplot(ax=axes[0])\n",
    "prediction[['h1n1_vaccine']].hist(ax=axes[1])"
   ]
  },
  {
   "cell_type": "code",
   "execution_count": 121,
   "metadata": {},
   "outputs": [
    {
     "data": {
      "text/html": [
       "<div>\n",
       "<style scoped>\n",
       "    .dataframe tbody tr th:only-of-type {\n",
       "        vertical-align: middle;\n",
       "    }\n",
       "\n",
       "    .dataframe tbody tr th {\n",
       "        vertical-align: top;\n",
       "    }\n",
       "\n",
       "    .dataframe thead th {\n",
       "        text-align: right;\n",
       "    }\n",
       "</style>\n",
       "<table border=\"1\" class=\"dataframe\">\n",
       "  <thead>\n",
       "    <tr style=\"text-align: right;\">\n",
       "      <th></th>\n",
       "      <th>respondent_id</th>\n",
       "      <th>h1n1_vaccine</th>\n",
       "    </tr>\n",
       "  </thead>\n",
       "  <tbody>\n",
       "    <tr>\n",
       "      <th>1</th>\n",
       "      <td>26708</td>\n",
       "      <td>0.76</td>\n",
       "    </tr>\n",
       "    <tr>\n",
       "      <th>6</th>\n",
       "      <td>26713</td>\n",
       "      <td>0.63</td>\n",
       "    </tr>\n",
       "    <tr>\n",
       "      <th>11</th>\n",
       "      <td>26718</td>\n",
       "      <td>0.70</td>\n",
       "    </tr>\n",
       "    <tr>\n",
       "      <th>12</th>\n",
       "      <td>26719</td>\n",
       "      <td>0.64</td>\n",
       "    </tr>\n",
       "    <tr>\n",
       "      <th>13</th>\n",
       "      <td>26720</td>\n",
       "      <td>0.83</td>\n",
       "    </tr>\n",
       "    <tr>\n",
       "      <th>...</th>\n",
       "      <td>...</td>\n",
       "      <td>...</td>\n",
       "    </tr>\n",
       "    <tr>\n",
       "      <th>26696</th>\n",
       "      <td>53403</td>\n",
       "      <td>0.67</td>\n",
       "    </tr>\n",
       "    <tr>\n",
       "      <th>26697</th>\n",
       "      <td>53404</td>\n",
       "      <td>0.68</td>\n",
       "    </tr>\n",
       "    <tr>\n",
       "      <th>26700</th>\n",
       "      <td>53407</td>\n",
       "      <td>0.83</td>\n",
       "    </tr>\n",
       "    <tr>\n",
       "      <th>26702</th>\n",
       "      <td>53409</td>\n",
       "      <td>0.83</td>\n",
       "    </tr>\n",
       "    <tr>\n",
       "      <th>26707</th>\n",
       "      <td>53414</td>\n",
       "      <td>0.78</td>\n",
       "    </tr>\n",
       "  </tbody>\n",
       "</table>\n",
       "<p>13541 rows × 2 columns</p>\n",
       "</div>"
      ],
      "text/plain": [
       "       respondent_id  h1n1_vaccine\n",
       "1              26708          0.76\n",
       "6              26713          0.63\n",
       "11             26718          0.70\n",
       "12             26719          0.64\n",
       "13             26720          0.83\n",
       "...              ...           ...\n",
       "26696          53403          0.67\n",
       "26697          53404          0.68\n",
       "26700          53407          0.83\n",
       "26702          53409          0.83\n",
       "26707          53414          0.78\n",
       "\n",
       "[13541 rows x 2 columns]"
      ]
     },
     "execution_count": 121,
     "metadata": {},
     "output_type": "execute_result"
    }
   ],
   "source": [
    "#Profile within the IQR\n",
    "\n",
    "IQR_H1N1=prediction[(prediction['h1n1_vaccine']>=0.63 )& (prediction['h1n1_vaccine']<=0.83)][['respondent_id','h1n1_vaccine']]\n",
    "IQR_H1N1"
   ]
  },
  {
   "cell_type": "code",
   "execution_count": 122,
   "metadata": {},
   "outputs": [
    {
     "data": {
      "text/html": [
       "<div>\n",
       "<style scoped>\n",
       "    .dataframe tbody tr th:only-of-type {\n",
       "        vertical-align: middle;\n",
       "    }\n",
       "\n",
       "    .dataframe tbody tr th {\n",
       "        vertical-align: top;\n",
       "    }\n",
       "\n",
       "    .dataframe thead th {\n",
       "        text-align: right;\n",
       "    }\n",
       "</style>\n",
       "<table border=\"1\" class=\"dataframe\">\n",
       "  <thead>\n",
       "    <tr style=\"text-align: right;\">\n",
       "      <th></th>\n",
       "      <th>respondent_id</th>\n",
       "      <th>h1n1_vaccine</th>\n",
       "      <th>h1n1_concern</th>\n",
       "      <th>h1n1_knowledge</th>\n",
       "      <th>behavioral_antiviral_meds</th>\n",
       "      <th>behavioral_avoidance</th>\n",
       "      <th>behavioral_face_mask</th>\n",
       "      <th>behavioral_wash_hands</th>\n",
       "      <th>behavioral_large_gatherings</th>\n",
       "      <th>behavioral_outside_home</th>\n",
       "      <th>behavioral_touch_face</th>\n",
       "      <th>doctor_recc_h1n1</th>\n",
       "      <th>doctor_recc_seasonal</th>\n",
       "      <th>chronic_med_condition</th>\n",
       "      <th>child_under_6_months</th>\n",
       "      <th>health_worker</th>\n",
       "      <th>health_insurance</th>\n",
       "      <th>opinion_h1n1_vacc_effective</th>\n",
       "      <th>opinion_h1n1_risk</th>\n",
       "      <th>opinion_h1n1_sick_from_vacc</th>\n",
       "      <th>opinion_seas_vacc_effective</th>\n",
       "      <th>opinion_seas_risk</th>\n",
       "      <th>opinion_seas_sick_from_vacc</th>\n",
       "      <th>age_group</th>\n",
       "      <th>education</th>\n",
       "      <th>race</th>\n",
       "      <th>sex</th>\n",
       "      <th>income_poverty</th>\n",
       "      <th>marital_status</th>\n",
       "      <th>rent_or_own</th>\n",
       "      <th>employment_status</th>\n",
       "      <th>hhs_geo_region</th>\n",
       "      <th>census_msa</th>\n",
       "      <th>household_adults</th>\n",
       "      <th>household_children</th>\n",
       "      <th>employment_industry</th>\n",
       "      <th>employment_occupation</th>\n",
       "    </tr>\n",
       "  </thead>\n",
       "  <tbody>\n",
       "    <tr>\n",
       "      <th>0</th>\n",
       "      <td>26708</td>\n",
       "      <td>0.76</td>\n",
       "      <td>1</td>\n",
       "      <td>1</td>\n",
       "      <td>0</td>\n",
       "      <td>0</td>\n",
       "      <td>0</td>\n",
       "      <td>0</td>\n",
       "      <td>0</td>\n",
       "      <td>0</td>\n",
       "      <td>0</td>\n",
       "      <td>0</td>\n",
       "      <td>0</td>\n",
       "      <td>0</td>\n",
       "      <td>0</td>\n",
       "      <td>0</td>\n",
       "      <td>0</td>\n",
       "      <td>4</td>\n",
       "      <td>1</td>\n",
       "      <td>1</td>\n",
       "      <td>4</td>\n",
       "      <td>1</td>\n",
       "      <td>1</td>\n",
       "      <td>18 - 34 Years</td>\n",
       "      <td>12 Years</td>\n",
       "      <td>White</td>\n",
       "      <td>Male</td>\n",
       "      <td>Below Poverty</td>\n",
       "      <td>Not Married</td>\n",
       "      <td>Rent</td>\n",
       "      <td>Employed</td>\n",
       "      <td>bhuqouqj</td>\n",
       "      <td>Non-MSA</td>\n",
       "      <td>3.0</td>\n",
       "      <td>0.0</td>\n",
       "      <td>atmlpfrs</td>\n",
       "      <td>xqwwgdyp</td>\n",
       "    </tr>\n",
       "    <tr>\n",
       "      <th>1</th>\n",
       "      <td>26713</td>\n",
       "      <td>0.63</td>\n",
       "      <td>2</td>\n",
       "      <td>2</td>\n",
       "      <td>0</td>\n",
       "      <td>1</td>\n",
       "      <td>0</td>\n",
       "      <td>1</td>\n",
       "      <td>1</td>\n",
       "      <td>0</td>\n",
       "      <td>1</td>\n",
       "      <td>1</td>\n",
       "      <td>1</td>\n",
       "      <td>0</td>\n",
       "      <td>0</td>\n",
       "      <td>0</td>\n",
       "      <td>0</td>\n",
       "      <td>4</td>\n",
       "      <td>2</td>\n",
       "      <td>4</td>\n",
       "      <td>3</td>\n",
       "      <td>1</td>\n",
       "      <td>2</td>\n",
       "      <td>65+ Years</td>\n",
       "      <td>College Graduate</td>\n",
       "      <td>White</td>\n",
       "      <td>Male</td>\n",
       "      <td>&gt; $75,000</td>\n",
       "      <td>Married</td>\n",
       "      <td>Own</td>\n",
       "      <td>Not in Labor Force</td>\n",
       "      <td>fpwskwrf</td>\n",
       "      <td>MSA, Not Principle  City</td>\n",
       "      <td>1.0</td>\n",
       "      <td>0.0</td>\n",
       "      <td>na</td>\n",
       "      <td>na</td>\n",
       "    </tr>\n",
       "    <tr>\n",
       "      <th>2</th>\n",
       "      <td>26718</td>\n",
       "      <td>0.70</td>\n",
       "      <td>1</td>\n",
       "      <td>2</td>\n",
       "      <td>0</td>\n",
       "      <td>1</td>\n",
       "      <td>0</td>\n",
       "      <td>1</td>\n",
       "      <td>0</td>\n",
       "      <td>0</td>\n",
       "      <td>0</td>\n",
       "      <td>0</td>\n",
       "      <td>0</td>\n",
       "      <td>0</td>\n",
       "      <td>0</td>\n",
       "      <td>0</td>\n",
       "      <td>1</td>\n",
       "      <td>5</td>\n",
       "      <td>2</td>\n",
       "      <td>1</td>\n",
       "      <td>4</td>\n",
       "      <td>4</td>\n",
       "      <td>1</td>\n",
       "      <td>18 - 34 Years</td>\n",
       "      <td>College Graduate</td>\n",
       "      <td>White</td>\n",
       "      <td>Female</td>\n",
       "      <td>&gt; $75,000</td>\n",
       "      <td>Not Married</td>\n",
       "      <td>Own</td>\n",
       "      <td>Employed</td>\n",
       "      <td>fpwskwrf</td>\n",
       "      <td>MSA, Principle City</td>\n",
       "      <td>0.0</td>\n",
       "      <td>0.0</td>\n",
       "      <td>arjwrbjb</td>\n",
       "      <td>hfxkjkmi</td>\n",
       "    </tr>\n",
       "    <tr>\n",
       "      <th>3</th>\n",
       "      <td>26719</td>\n",
       "      <td>0.64</td>\n",
       "      <td>2</td>\n",
       "      <td>1</td>\n",
       "      <td>0</td>\n",
       "      <td>1</td>\n",
       "      <td>0</td>\n",
       "      <td>1</td>\n",
       "      <td>0</td>\n",
       "      <td>1</td>\n",
       "      <td>1</td>\n",
       "      <td>0</td>\n",
       "      <td>1</td>\n",
       "      <td>0</td>\n",
       "      <td>0</td>\n",
       "      <td>1</td>\n",
       "      <td>1</td>\n",
       "      <td>4</td>\n",
       "      <td>1</td>\n",
       "      <td>4</td>\n",
       "      <td>5</td>\n",
       "      <td>2</td>\n",
       "      <td>1</td>\n",
       "      <td>65+ Years</td>\n",
       "      <td>&lt; 12 Years</td>\n",
       "      <td>White</td>\n",
       "      <td>Female</td>\n",
       "      <td>&lt;= $75,000, Above Poverty</td>\n",
       "      <td>Not Married</td>\n",
       "      <td>Own</td>\n",
       "      <td>Employed</td>\n",
       "      <td>dqpwygqj</td>\n",
       "      <td>MSA, Not Principle  City</td>\n",
       "      <td>0.0</td>\n",
       "      <td>0.0</td>\n",
       "      <td>fcxhlnwr</td>\n",
       "      <td>mxkfnird</td>\n",
       "    </tr>\n",
       "    <tr>\n",
       "      <th>4</th>\n",
       "      <td>26720</td>\n",
       "      <td>0.83</td>\n",
       "      <td>1</td>\n",
       "      <td>1</td>\n",
       "      <td>0</td>\n",
       "      <td>1</td>\n",
       "      <td>0</td>\n",
       "      <td>1</td>\n",
       "      <td>0</td>\n",
       "      <td>0</td>\n",
       "      <td>1</td>\n",
       "      <td>0</td>\n",
       "      <td>0</td>\n",
       "      <td>0</td>\n",
       "      <td>0</td>\n",
       "      <td>0</td>\n",
       "      <td>0</td>\n",
       "      <td>4</td>\n",
       "      <td>2</td>\n",
       "      <td>2</td>\n",
       "      <td>5</td>\n",
       "      <td>2</td>\n",
       "      <td>4</td>\n",
       "      <td>18 - 34 Years</td>\n",
       "      <td>College Graduate</td>\n",
       "      <td>White</td>\n",
       "      <td>Male</td>\n",
       "      <td>&lt;= $75,000, Above Poverty</td>\n",
       "      <td>Not Married</td>\n",
       "      <td>Rent</td>\n",
       "      <td>Employed</td>\n",
       "      <td>qufhixun</td>\n",
       "      <td>MSA, Not Principle  City</td>\n",
       "      <td>2.0</td>\n",
       "      <td>0.0</td>\n",
       "      <td>mfikgejo</td>\n",
       "      <td>hfxkjkmi</td>\n",
       "    </tr>\n",
       "    <tr>\n",
       "      <th>...</th>\n",
       "      <td>...</td>\n",
       "      <td>...</td>\n",
       "      <td>...</td>\n",
       "      <td>...</td>\n",
       "      <td>...</td>\n",
       "      <td>...</td>\n",
       "      <td>...</td>\n",
       "      <td>...</td>\n",
       "      <td>...</td>\n",
       "      <td>...</td>\n",
       "      <td>...</td>\n",
       "      <td>...</td>\n",
       "      <td>...</td>\n",
       "      <td>...</td>\n",
       "      <td>...</td>\n",
       "      <td>...</td>\n",
       "      <td>...</td>\n",
       "      <td>...</td>\n",
       "      <td>...</td>\n",
       "      <td>...</td>\n",
       "      <td>...</td>\n",
       "      <td>...</td>\n",
       "      <td>...</td>\n",
       "      <td>...</td>\n",
       "      <td>...</td>\n",
       "      <td>...</td>\n",
       "      <td>...</td>\n",
       "      <td>...</td>\n",
       "      <td>...</td>\n",
       "      <td>...</td>\n",
       "      <td>...</td>\n",
       "      <td>...</td>\n",
       "      <td>...</td>\n",
       "      <td>...</td>\n",
       "      <td>...</td>\n",
       "      <td>...</td>\n",
       "      <td>...</td>\n",
       "    </tr>\n",
       "    <tr>\n",
       "      <th>13536</th>\n",
       "      <td>53403</td>\n",
       "      <td>0.67</td>\n",
       "      <td>2</td>\n",
       "      <td>1</td>\n",
       "      <td>0</td>\n",
       "      <td>1</td>\n",
       "      <td>0</td>\n",
       "      <td>1</td>\n",
       "      <td>1</td>\n",
       "      <td>1</td>\n",
       "      <td>0</td>\n",
       "      <td>0</td>\n",
       "      <td>0</td>\n",
       "      <td>0</td>\n",
       "      <td>0</td>\n",
       "      <td>0</td>\n",
       "      <td>0</td>\n",
       "      <td>5</td>\n",
       "      <td>3</td>\n",
       "      <td>3</td>\n",
       "      <td>3</td>\n",
       "      <td>3</td>\n",
       "      <td>3</td>\n",
       "      <td>55 - 64 Years</td>\n",
       "      <td>12 Years</td>\n",
       "      <td>Other or Multiple</td>\n",
       "      <td>Female</td>\n",
       "      <td>&gt; $75,000</td>\n",
       "      <td>Not Married</td>\n",
       "      <td>Rent</td>\n",
       "      <td>Unemployed</td>\n",
       "      <td>qufhixun</td>\n",
       "      <td>MSA, Principle City</td>\n",
       "      <td>0.0</td>\n",
       "      <td>2.0</td>\n",
       "      <td>na</td>\n",
       "      <td>na</td>\n",
       "    </tr>\n",
       "    <tr>\n",
       "      <th>13537</th>\n",
       "      <td>53404</td>\n",
       "      <td>0.68</td>\n",
       "      <td>3</td>\n",
       "      <td>1</td>\n",
       "      <td>0</td>\n",
       "      <td>1</td>\n",
       "      <td>0</td>\n",
       "      <td>1</td>\n",
       "      <td>0</td>\n",
       "      <td>0</td>\n",
       "      <td>0</td>\n",
       "      <td>0</td>\n",
       "      <td>0</td>\n",
       "      <td>0</td>\n",
       "      <td>0</td>\n",
       "      <td>1</td>\n",
       "      <td>0</td>\n",
       "      <td>4</td>\n",
       "      <td>2</td>\n",
       "      <td>2</td>\n",
       "      <td>5</td>\n",
       "      <td>4</td>\n",
       "      <td>1</td>\n",
       "      <td>65+ Years</td>\n",
       "      <td>College Graduate</td>\n",
       "      <td>White</td>\n",
       "      <td>Female</td>\n",
       "      <td>&lt;= $75,000, Above Poverty</td>\n",
       "      <td>Not Married</td>\n",
       "      <td>Own</td>\n",
       "      <td>Employed</td>\n",
       "      <td>bhuqouqj</td>\n",
       "      <td>MSA, Principle City</td>\n",
       "      <td>0.0</td>\n",
       "      <td>0.0</td>\n",
       "      <td>fcxhlnwr</td>\n",
       "      <td>bxpfxfdn</td>\n",
       "    </tr>\n",
       "    <tr>\n",
       "      <th>13538</th>\n",
       "      <td>53407</td>\n",
       "      <td>0.83</td>\n",
       "      <td>1</td>\n",
       "      <td>1</td>\n",
       "      <td>0</td>\n",
       "      <td>1</td>\n",
       "      <td>0</td>\n",
       "      <td>0</td>\n",
       "      <td>0</td>\n",
       "      <td>0</td>\n",
       "      <td>1</td>\n",
       "      <td>0</td>\n",
       "      <td>0</td>\n",
       "      <td>1</td>\n",
       "      <td>1</td>\n",
       "      <td>0</td>\n",
       "      <td>1</td>\n",
       "      <td>3</td>\n",
       "      <td>1</td>\n",
       "      <td>2</td>\n",
       "      <td>2</td>\n",
       "      <td>2</td>\n",
       "      <td>2</td>\n",
       "      <td>45 - 54 Years</td>\n",
       "      <td>College Graduate</td>\n",
       "      <td>White</td>\n",
       "      <td>Male</td>\n",
       "      <td>&lt;= $75,000, Above Poverty</td>\n",
       "      <td>Married</td>\n",
       "      <td>Own</td>\n",
       "      <td>Employed</td>\n",
       "      <td>qufhixun</td>\n",
       "      <td>MSA, Not Principle  City</td>\n",
       "      <td>3.0</td>\n",
       "      <td>1.0</td>\n",
       "      <td>dotnnunm</td>\n",
       "      <td>hfxkjkmi</td>\n",
       "    </tr>\n",
       "    <tr>\n",
       "      <th>13539</th>\n",
       "      <td>53409</td>\n",
       "      <td>0.83</td>\n",
       "      <td>1</td>\n",
       "      <td>1</td>\n",
       "      <td>0</td>\n",
       "      <td>1</td>\n",
       "      <td>1</td>\n",
       "      <td>1</td>\n",
       "      <td>1</td>\n",
       "      <td>1</td>\n",
       "      <td>1</td>\n",
       "      <td>0</td>\n",
       "      <td>0</td>\n",
       "      <td>0</td>\n",
       "      <td>1</td>\n",
       "      <td>0</td>\n",
       "      <td>1</td>\n",
       "      <td>4</td>\n",
       "      <td>1</td>\n",
       "      <td>2</td>\n",
       "      <td>4</td>\n",
       "      <td>1</td>\n",
       "      <td>1</td>\n",
       "      <td>55 - 64 Years</td>\n",
       "      <td>&lt; 12 Years</td>\n",
       "      <td>White</td>\n",
       "      <td>Male</td>\n",
       "      <td>&lt;= $75,000, Above Poverty</td>\n",
       "      <td>Married</td>\n",
       "      <td>Own</td>\n",
       "      <td>Employed</td>\n",
       "      <td>qufhixun</td>\n",
       "      <td>MSA, Not Principle  City</td>\n",
       "      <td>2.0</td>\n",
       "      <td>0.0</td>\n",
       "      <td>xicduogh</td>\n",
       "      <td>xtkaffoo</td>\n",
       "    </tr>\n",
       "    <tr>\n",
       "      <th>13540</th>\n",
       "      <td>53414</td>\n",
       "      <td>0.78</td>\n",
       "      <td>2</td>\n",
       "      <td>1</td>\n",
       "      <td>0</td>\n",
       "      <td>0</td>\n",
       "      <td>0</td>\n",
       "      <td>1</td>\n",
       "      <td>0</td>\n",
       "      <td>0</td>\n",
       "      <td>1</td>\n",
       "      <td>1</td>\n",
       "      <td>0</td>\n",
       "      <td>0</td>\n",
       "      <td>0</td>\n",
       "      <td>0</td>\n",
       "      <td>1</td>\n",
       "      <td>5</td>\n",
       "      <td>1</td>\n",
       "      <td>2</td>\n",
       "      <td>5</td>\n",
       "      <td>4</td>\n",
       "      <td>2</td>\n",
       "      <td>45 - 54 Years</td>\n",
       "      <td>College Graduate</td>\n",
       "      <td>White</td>\n",
       "      <td>Female</td>\n",
       "      <td>&gt; $75,000</td>\n",
       "      <td>Not Married</td>\n",
       "      <td>Rent</td>\n",
       "      <td>Employed</td>\n",
       "      <td>lrircsnp</td>\n",
       "      <td>MSA, Principle City</td>\n",
       "      <td>0.0</td>\n",
       "      <td>0.0</td>\n",
       "      <td>fcxhlnwr</td>\n",
       "      <td>xtkaffoo</td>\n",
       "    </tr>\n",
       "  </tbody>\n",
       "</table>\n",
       "<p>13541 rows × 37 columns</p>\n",
       "</div>"
      ],
      "text/plain": [
       "       respondent_id  h1n1_vaccine  h1n1_concern  h1n1_knowledge  \\\n",
       "0              26708          0.76             1               1   \n",
       "1              26713          0.63             2               2   \n",
       "2              26718          0.70             1               2   \n",
       "3              26719          0.64             2               1   \n",
       "4              26720          0.83             1               1   \n",
       "...              ...           ...           ...             ...   \n",
       "13536          53403          0.67             2               1   \n",
       "13537          53404          0.68             3               1   \n",
       "13538          53407          0.83             1               1   \n",
       "13539          53409          0.83             1               1   \n",
       "13540          53414          0.78             2               1   \n",
       "\n",
       "       behavioral_antiviral_meds  behavioral_avoidance  behavioral_face_mask  \\\n",
       "0                              0                     0                     0   \n",
       "1                              0                     1                     0   \n",
       "2                              0                     1                     0   \n",
       "3                              0                     1                     0   \n",
       "4                              0                     1                     0   \n",
       "...                          ...                   ...                   ...   \n",
       "13536                          0                     1                     0   \n",
       "13537                          0                     1                     0   \n",
       "13538                          0                     1                     0   \n",
       "13539                          0                     1                     1   \n",
       "13540                          0                     0                     0   \n",
       "\n",
       "       behavioral_wash_hands  behavioral_large_gatherings  \\\n",
       "0                          0                            0   \n",
       "1                          1                            1   \n",
       "2                          1                            0   \n",
       "3                          1                            0   \n",
       "4                          1                            0   \n",
       "...                      ...                          ...   \n",
       "13536                      1                            1   \n",
       "13537                      1                            0   \n",
       "13538                      0                            0   \n",
       "13539                      1                            1   \n",
       "13540                      1                            0   \n",
       "\n",
       "       behavioral_outside_home  behavioral_touch_face  doctor_recc_h1n1  \\\n",
       "0                            0                      0                 0   \n",
       "1                            0                      1                 1   \n",
       "2                            0                      0                 0   \n",
       "3                            1                      1                 0   \n",
       "4                            0                      1                 0   \n",
       "...                        ...                    ...               ...   \n",
       "13536                        1                      0                 0   \n",
       "13537                        0                      0                 0   \n",
       "13538                        0                      1                 0   \n",
       "13539                        1                      1                 0   \n",
       "13540                        0                      1                 1   \n",
       "\n",
       "       doctor_recc_seasonal  chronic_med_condition  child_under_6_months  \\\n",
       "0                         0                      0                     0   \n",
       "1                         1                      0                     0   \n",
       "2                         0                      0                     0   \n",
       "3                         1                      0                     0   \n",
       "4                         0                      0                     0   \n",
       "...                     ...                    ...                   ...   \n",
       "13536                     0                      0                     0   \n",
       "13537                     0                      0                     0   \n",
       "13538                     0                      1                     1   \n",
       "13539                     0                      0                     1   \n",
       "13540                     0                      0                     0   \n",
       "\n",
       "       health_worker  health_insurance  opinion_h1n1_vacc_effective  \\\n",
       "0                  0                 0                            4   \n",
       "1                  0                 0                            4   \n",
       "2                  0                 1                            5   \n",
       "3                  1                 1                            4   \n",
       "4                  0                 0                            4   \n",
       "...              ...               ...                          ...   \n",
       "13536              0                 0                            5   \n",
       "13537              1                 0                            4   \n",
       "13538              0                 1                            3   \n",
       "13539              0                 1                            4   \n",
       "13540              0                 1                            5   \n",
       "\n",
       "       opinion_h1n1_risk  opinion_h1n1_sick_from_vacc  \\\n",
       "0                      1                            1   \n",
       "1                      2                            4   \n",
       "2                      2                            1   \n",
       "3                      1                            4   \n",
       "4                      2                            2   \n",
       "...                  ...                          ...   \n",
       "13536                  3                            3   \n",
       "13537                  2                            2   \n",
       "13538                  1                            2   \n",
       "13539                  1                            2   \n",
       "13540                  1                            2   \n",
       "\n",
       "       opinion_seas_vacc_effective  opinion_seas_risk  \\\n",
       "0                                4                  1   \n",
       "1                                3                  1   \n",
       "2                                4                  4   \n",
       "3                                5                  2   \n",
       "4                                5                  2   \n",
       "...                            ...                ...   \n",
       "13536                            3                  3   \n",
       "13537                            5                  4   \n",
       "13538                            2                  2   \n",
       "13539                            4                  1   \n",
       "13540                            5                  4   \n",
       "\n",
       "       opinion_seas_sick_from_vacc      age_group         education  \\\n",
       "0                                1  18 - 34 Years          12 Years   \n",
       "1                                2      65+ Years  College Graduate   \n",
       "2                                1  18 - 34 Years  College Graduate   \n",
       "3                                1      65+ Years        < 12 Years   \n",
       "4                                4  18 - 34 Years  College Graduate   \n",
       "...                            ...            ...               ...   \n",
       "13536                            3  55 - 64 Years          12 Years   \n",
       "13537                            1      65+ Years  College Graduate   \n",
       "13538                            2  45 - 54 Years  College Graduate   \n",
       "13539                            1  55 - 64 Years        < 12 Years   \n",
       "13540                            2  45 - 54 Years  College Graduate   \n",
       "\n",
       "                    race     sex             income_poverty marital_status  \\\n",
       "0                  White    Male              Below Poverty    Not Married   \n",
       "1                  White    Male                  > $75,000        Married   \n",
       "2                  White  Female                  > $75,000    Not Married   \n",
       "3                  White  Female  <= $75,000, Above Poverty    Not Married   \n",
       "4                  White    Male  <= $75,000, Above Poverty    Not Married   \n",
       "...                  ...     ...                        ...            ...   \n",
       "13536  Other or Multiple  Female                  > $75,000    Not Married   \n",
       "13537              White  Female  <= $75,000, Above Poverty    Not Married   \n",
       "13538              White    Male  <= $75,000, Above Poverty        Married   \n",
       "13539              White    Male  <= $75,000, Above Poverty        Married   \n",
       "13540              White  Female                  > $75,000    Not Married   \n",
       "\n",
       "      rent_or_own   employment_status hhs_geo_region  \\\n",
       "0            Rent            Employed       bhuqouqj   \n",
       "1             Own  Not in Labor Force       fpwskwrf   \n",
       "2             Own            Employed       fpwskwrf   \n",
       "3             Own            Employed       dqpwygqj   \n",
       "4            Rent            Employed       qufhixun   \n",
       "...           ...                 ...            ...   \n",
       "13536        Rent          Unemployed       qufhixun   \n",
       "13537         Own            Employed       bhuqouqj   \n",
       "13538         Own            Employed       qufhixun   \n",
       "13539         Own            Employed       qufhixun   \n",
       "13540        Rent            Employed       lrircsnp   \n",
       "\n",
       "                     census_msa household_adults household_children  \\\n",
       "0                       Non-MSA              3.0                0.0   \n",
       "1      MSA, Not Principle  City              1.0                0.0   \n",
       "2           MSA, Principle City              0.0                0.0   \n",
       "3      MSA, Not Principle  City              0.0                0.0   \n",
       "4      MSA, Not Principle  City              2.0                0.0   \n",
       "...                         ...              ...                ...   \n",
       "13536       MSA, Principle City              0.0                2.0   \n",
       "13537       MSA, Principle City              0.0                0.0   \n",
       "13538  MSA, Not Principle  City              3.0                1.0   \n",
       "13539  MSA, Not Principle  City              2.0                0.0   \n",
       "13540       MSA, Principle City              0.0                0.0   \n",
       "\n",
       "      employment_industry employment_occupation  \n",
       "0                atmlpfrs              xqwwgdyp  \n",
       "1                      na                    na  \n",
       "2                arjwrbjb              hfxkjkmi  \n",
       "3                fcxhlnwr              mxkfnird  \n",
       "4                mfikgejo              hfxkjkmi  \n",
       "...                   ...                   ...  \n",
       "13536                  na                    na  \n",
       "13537            fcxhlnwr              bxpfxfdn  \n",
       "13538            dotnnunm              hfxkjkmi  \n",
       "13539            xicduogh              xtkaffoo  \n",
       "13540            fcxhlnwr              xtkaffoo  \n",
       "\n",
       "[13541 rows x 37 columns]"
      ]
     },
     "execution_count": 122,
     "metadata": {},
     "output_type": "execute_result"
    }
   ],
   "source": [
    "IQR_H1N1=pd.merge(IQR_H1N1,test, how='left',on='respondent_id')\n",
    "IQR_H1N1"
   ]
  },
  {
   "cell_type": "code",
   "execution_count": 123,
   "metadata": {},
   "outputs": [
    {
     "data": {
      "text/plain": [
       "<matplotlib.axes._subplots.AxesSubplot at 0x7f4995fc81d0>"
      ]
     },
     "execution_count": 123,
     "metadata": {},
     "output_type": "execute_result"
    },
    {
     "data": {
      "image/png": "[encoded data removed]",
      "text/plain": [
       "<Figure size 1440x1440 with 8 Axes>"
      ]
     },
     "metadata": {
      "needs_background": "light"
     },
     "output_type": "display_data"
    }
   ],
   "source": [
    "#based on 8 most relevance features\n",
    "\n",
    "import matplotlib\n",
    "import matplotlib.pyplot as plt\n",
    "\n",
    "fig, axes = plt.subplots(nrows=4, ncols=2 ,figsize=[20,20])\n",
    "\n",
    "IQR_H1N1.groupby('doctor_recc_h1n1')['respondent_id'].count().plot.barh(ax=axes[0,0])\n",
    "IQR_H1N1.groupby('opinion_h1n1_risk')['respondent_id'].count().plot.barh(ax=axes[0,1])\n",
    "IQR_H1N1.groupby('opinion_seas_risk')['respondent_id'].count().plot.barh(ax=axes[1,0])\n",
    "IQR_H1N1.groupby('doctor_recc_seasonal')['respondent_id'].count().plot.barh(ax=axes[1,1])\n",
    "IQR_H1N1.groupby('health_worker')['respondent_id'].count().plot.barh(ax=axes[2,0])\n",
    "IQR_H1N1.groupby('health_insurance')['respondent_id'].count().plot.barh(ax=axes[2,1])\n",
    "IQR_H1N1.groupby('opinion_h1n1_vacc_effective')['respondent_id'].count().plot.barh(ax=axes[3,0])\n",
    "IQR_H1N1.groupby('employment_occupation')['respondent_id'].count().plot.barh(ax=axes[3,1])"
   ]
  },
  {
   "cell_type": "markdown",
   "metadata": {},
   "source": [
    "## Findings for Predicted Seasonal Vaccine Receiver"
   ]
  },
  {
   "cell_type": "code",
   "execution_count": 124,
   "metadata": {},
   "outputs": [
    {
     "data": {
      "text/html": [
       "<div>\n",
       "<style scoped>\n",
       "    .dataframe tbody tr th:only-of-type {\n",
       "        vertical-align: middle;\n",
       "    }\n",
       "\n",
       "    .dataframe tbody tr th {\n",
       "        vertical-align: top;\n",
       "    }\n",
       "\n",
       "    .dataframe thead th {\n",
       "        text-align: right;\n",
       "    }\n",
       "</style>\n",
       "<table border=\"1\" class=\"dataframe\">\n",
       "  <thead>\n",
       "    <tr style=\"text-align: right;\">\n",
       "      <th></th>\n",
       "      <th>count</th>\n",
       "      <th>mean</th>\n",
       "      <th>std</th>\n",
       "      <th>min</th>\n",
       "      <th>25%</th>\n",
       "      <th>50%</th>\n",
       "      <th>75%</th>\n",
       "      <th>max</th>\n",
       "    </tr>\n",
       "  </thead>\n",
       "  <tbody>\n",
       "    <tr>\n",
       "      <th>seasonal_vaccine</th>\n",
       "      <td>26708.0</td>\n",
       "      <td>0.742627</td>\n",
       "      <td>0.13374</td>\n",
       "      <td>0.5</td>\n",
       "      <td>0.63</td>\n",
       "      <td>0.75</td>\n",
       "      <td>0.85</td>\n",
       "      <td>1.0</td>\n",
       "    </tr>\n",
       "  </tbody>\n",
       "</table>\n",
       "</div>"
      ],
      "text/plain": [
       "                    count      mean      std  min   25%   50%   75%  max\n",
       "seasonal_vaccine  26708.0  0.742627  0.13374  0.5  0.63  0.75  0.85  1.0"
      ]
     },
     "execution_count": 124,
     "metadata": {},
     "output_type": "execute_result"
    }
   ],
   "source": [
    "prediction[['seasonal_vaccine']].describe().T"
   ]
  },
  {
   "cell_type": "code",
   "execution_count": 125,
   "metadata": {},
   "outputs": [
    {
     "data": {
      "text/plain": [
       "array([<matplotlib.axes._subplots.AxesSubplot object at 0x7f4995d660f0>],\n",
       "      dtype=object)"
      ]
     },
     "execution_count": 125,
     "metadata": {},
     "output_type": "execute_result"
    },
    {
     "data": {
      "image/png": "[encoded data removed]",
      "text/plain": [
       "<Figure size 1440x360 with 2 Axes>"
      ]
     },
     "metadata": {
      "needs_background": "light"
     },
     "output_type": "display_data"
    }
   ],
   "source": [
    "import matplotlib\n",
    "import matplotlib.pyplot as plt\n",
    "\n",
    "fig, axes = plt.subplots(nrows=1, ncols=2 ,figsize=[20,5])\n",
    "\n",
    "prediction[['seasonal_vaccine']].boxplot(ax=axes[0])\n",
    "prediction[['seasonal_vaccine']].hist(ax=axes[1])"
   ]
  },
  {
   "cell_type": "code",
   "execution_count": 126,
   "metadata": {},
   "outputs": [
    {
     "data": {
      "text/html": [
       "<div>\n",
       "<style scoped>\n",
       "    .dataframe tbody tr th:only-of-type {\n",
       "        vertical-align: middle;\n",
       "    }\n",
       "\n",
       "    .dataframe tbody tr th {\n",
       "        vertical-align: top;\n",
       "    }\n",
       "\n",
       "    .dataframe thead th {\n",
       "        text-align: right;\n",
       "    }\n",
       "</style>\n",
       "<table border=\"1\" class=\"dataframe\">\n",
       "  <thead>\n",
       "    <tr style=\"text-align: right;\">\n",
       "      <th></th>\n",
       "      <th>respondent_id</th>\n",
       "      <th>seasonal_vaccine</th>\n",
       "    </tr>\n",
       "  </thead>\n",
       "  <tbody>\n",
       "    <tr>\n",
       "      <th>2</th>\n",
       "      <td>26709</td>\n",
       "      <td>0.73</td>\n",
       "    </tr>\n",
       "    <tr>\n",
       "      <th>6</th>\n",
       "      <td>26713</td>\n",
       "      <td>0.73</td>\n",
       "    </tr>\n",
       "    <tr>\n",
       "      <th>7</th>\n",
       "      <td>26714</td>\n",
       "      <td>0.74</td>\n",
       "    </tr>\n",
       "    <tr>\n",
       "      <th>11</th>\n",
       "      <td>26718</td>\n",
       "      <td>0.69</td>\n",
       "    </tr>\n",
       "    <tr>\n",
       "      <th>14</th>\n",
       "      <td>26721</td>\n",
       "      <td>0.65</td>\n",
       "    </tr>\n",
       "    <tr>\n",
       "      <th>...</th>\n",
       "      <td>...</td>\n",
       "      <td>...</td>\n",
       "    </tr>\n",
       "    <tr>\n",
       "      <th>26698</th>\n",
       "      <td>53405</td>\n",
       "      <td>0.77</td>\n",
       "    </tr>\n",
       "    <tr>\n",
       "      <th>26700</th>\n",
       "      <td>53407</td>\n",
       "      <td>0.70</td>\n",
       "    </tr>\n",
       "    <tr>\n",
       "      <th>26701</th>\n",
       "      <td>53408</td>\n",
       "      <td>0.67</td>\n",
       "    </tr>\n",
       "    <tr>\n",
       "      <th>26702</th>\n",
       "      <td>53409</td>\n",
       "      <td>0.85</td>\n",
       "    </tr>\n",
       "    <tr>\n",
       "      <th>26707</th>\n",
       "      <td>53414</td>\n",
       "      <td>0.77</td>\n",
       "    </tr>\n",
       "  </tbody>\n",
       "</table>\n",
       "<p>13666 rows × 2 columns</p>\n",
       "</div>"
      ],
      "text/plain": [
       "       respondent_id  seasonal_vaccine\n",
       "2              26709              0.73\n",
       "6              26713              0.73\n",
       "7              26714              0.74\n",
       "11             26718              0.69\n",
       "14             26721              0.65\n",
       "...              ...               ...\n",
       "26698          53405              0.77\n",
       "26700          53407              0.70\n",
       "26701          53408              0.67\n",
       "26702          53409              0.85\n",
       "26707          53414              0.77\n",
       "\n",
       "[13666 rows x 2 columns]"
      ]
     },
     "execution_count": 126,
     "metadata": {},
     "output_type": "execute_result"
    }
   ],
   "source": [
    "#Profile within the IQR\n",
    "\n",
    "IQR_Seasonal=prediction[(prediction['seasonal_vaccine']>=0.63 )& (prediction['seasonal_vaccine']<=0.85)][['respondent_id','seasonal_vaccine']]\n",
    "IQR_Seasonal"
   ]
  },
  {
   "cell_type": "code",
   "execution_count": 127,
   "metadata": {},
   "outputs": [
    {
     "data": {
      "text/html": [
       "<div>\n",
       "<style scoped>\n",
       "    .dataframe tbody tr th:only-of-type {\n",
       "        vertical-align: middle;\n",
       "    }\n",
       "\n",
       "    .dataframe tbody tr th {\n",
       "        vertical-align: top;\n",
       "    }\n",
       "\n",
       "    .dataframe thead th {\n",
       "        text-align: right;\n",
       "    }\n",
       "</style>\n",
       "<table border=\"1\" class=\"dataframe\">\n",
       "  <thead>\n",
       "    <tr style=\"text-align: right;\">\n",
       "      <th></th>\n",
       "      <th>respondent_id</th>\n",
       "      <th>seasonal_vaccine</th>\n",
       "      <th>h1n1_concern</th>\n",
       "      <th>h1n1_knowledge</th>\n",
       "      <th>behavioral_antiviral_meds</th>\n",
       "      <th>behavioral_avoidance</th>\n",
       "      <th>behavioral_face_mask</th>\n",
       "      <th>behavioral_wash_hands</th>\n",
       "      <th>behavioral_large_gatherings</th>\n",
       "      <th>behavioral_outside_home</th>\n",
       "      <th>behavioral_touch_face</th>\n",
       "      <th>doctor_recc_h1n1</th>\n",
       "      <th>doctor_recc_seasonal</th>\n",
       "      <th>chronic_med_condition</th>\n",
       "      <th>child_under_6_months</th>\n",
       "      <th>health_worker</th>\n",
       "      <th>health_insurance</th>\n",
       "      <th>opinion_h1n1_vacc_effective</th>\n",
       "      <th>opinion_h1n1_risk</th>\n",
       "      <th>opinion_h1n1_sick_from_vacc</th>\n",
       "      <th>opinion_seas_vacc_effective</th>\n",
       "      <th>opinion_seas_risk</th>\n",
       "      <th>opinion_seas_sick_from_vacc</th>\n",
       "      <th>age_group</th>\n",
       "      <th>education</th>\n",
       "      <th>race</th>\n",
       "      <th>sex</th>\n",
       "      <th>income_poverty</th>\n",
       "      <th>marital_status</th>\n",
       "      <th>rent_or_own</th>\n",
       "      <th>employment_status</th>\n",
       "      <th>hhs_geo_region</th>\n",
       "      <th>census_msa</th>\n",
       "      <th>household_adults</th>\n",
       "      <th>household_children</th>\n",
       "      <th>employment_industry</th>\n",
       "      <th>employment_occupation</th>\n",
       "    </tr>\n",
       "  </thead>\n",
       "  <tbody>\n",
       "    <tr>\n",
       "      <th>0</th>\n",
       "      <td>26709</td>\n",
       "      <td>0.73</td>\n",
       "      <td>2</td>\n",
       "      <td>2</td>\n",
       "      <td>0</td>\n",
       "      <td>0</td>\n",
       "      <td>1</td>\n",
       "      <td>1</td>\n",
       "      <td>1</td>\n",
       "      <td>1</td>\n",
       "      <td>1</td>\n",
       "      <td>0</td>\n",
       "      <td>0</td>\n",
       "      <td>0</td>\n",
       "      <td>0</td>\n",
       "      <td>0</td>\n",
       "      <td>0</td>\n",
       "      <td>5</td>\n",
       "      <td>4</td>\n",
       "      <td>2</td>\n",
       "      <td>5</td>\n",
       "      <td>4</td>\n",
       "      <td>4</td>\n",
       "      <td>55 - 64 Years</td>\n",
       "      <td>College Graduate</td>\n",
       "      <td>White</td>\n",
       "      <td>Male</td>\n",
       "      <td>&gt; $75,000</td>\n",
       "      <td>Married</td>\n",
       "      <td>Own</td>\n",
       "      <td>Employed</td>\n",
       "      <td>lrircsnp</td>\n",
       "      <td>Non-MSA</td>\n",
       "      <td>1.0</td>\n",
       "      <td>0.0</td>\n",
       "      <td>nduyfdeo</td>\n",
       "      <td>pvmttkik</td>\n",
       "    </tr>\n",
       "    <tr>\n",
       "      <th>1</th>\n",
       "      <td>26713</td>\n",
       "      <td>0.73</td>\n",
       "      <td>2</td>\n",
       "      <td>2</td>\n",
       "      <td>0</td>\n",
       "      <td>1</td>\n",
       "      <td>0</td>\n",
       "      <td>1</td>\n",
       "      <td>1</td>\n",
       "      <td>0</td>\n",
       "      <td>1</td>\n",
       "      <td>1</td>\n",
       "      <td>1</td>\n",
       "      <td>0</td>\n",
       "      <td>0</td>\n",
       "      <td>0</td>\n",
       "      <td>0</td>\n",
       "      <td>4</td>\n",
       "      <td>2</td>\n",
       "      <td>4</td>\n",
       "      <td>3</td>\n",
       "      <td>1</td>\n",
       "      <td>2</td>\n",
       "      <td>65+ Years</td>\n",
       "      <td>College Graduate</td>\n",
       "      <td>White</td>\n",
       "      <td>Male</td>\n",
       "      <td>&gt; $75,000</td>\n",
       "      <td>Married</td>\n",
       "      <td>Own</td>\n",
       "      <td>Not in Labor Force</td>\n",
       "      <td>fpwskwrf</td>\n",
       "      <td>MSA, Not Principle  City</td>\n",
       "      <td>1.0</td>\n",
       "      <td>0.0</td>\n",
       "      <td>na</td>\n",
       "      <td>na</td>\n",
       "    </tr>\n",
       "    <tr>\n",
       "      <th>2</th>\n",
       "      <td>26714</td>\n",
       "      <td>0.74</td>\n",
       "      <td>2</td>\n",
       "      <td>1</td>\n",
       "      <td>0</td>\n",
       "      <td>1</td>\n",
       "      <td>0</td>\n",
       "      <td>1</td>\n",
       "      <td>0</td>\n",
       "      <td>0</td>\n",
       "      <td>1</td>\n",
       "      <td>0</td>\n",
       "      <td>0</td>\n",
       "      <td>0</td>\n",
       "      <td>0</td>\n",
       "      <td>0</td>\n",
       "      <td>1</td>\n",
       "      <td>5</td>\n",
       "      <td>1</td>\n",
       "      <td>2</td>\n",
       "      <td>4</td>\n",
       "      <td>1</td>\n",
       "      <td>1</td>\n",
       "      <td>55 - 64 Years</td>\n",
       "      <td>Some College</td>\n",
       "      <td>White</td>\n",
       "      <td>Male</td>\n",
       "      <td>&lt;= $75,000, Above Poverty</td>\n",
       "      <td>Married</td>\n",
       "      <td>Own</td>\n",
       "      <td>Unemployed</td>\n",
       "      <td>oxchjgsf</td>\n",
       "      <td>MSA, Not Principle  City</td>\n",
       "      <td>1.0</td>\n",
       "      <td>0.0</td>\n",
       "      <td>na</td>\n",
       "      <td>na</td>\n",
       "    </tr>\n",
       "    <tr>\n",
       "      <th>3</th>\n",
       "      <td>26718</td>\n",
       "      <td>0.69</td>\n",
       "      <td>1</td>\n",
       "      <td>2</td>\n",
       "      <td>0</td>\n",
       "      <td>1</td>\n",
       "      <td>0</td>\n",
       "      <td>1</td>\n",
       "      <td>0</td>\n",
       "      <td>0</td>\n",
       "      <td>0</td>\n",
       "      <td>0</td>\n",
       "      <td>0</td>\n",
       "      <td>0</td>\n",
       "      <td>0</td>\n",
       "      <td>0</td>\n",
       "      <td>1</td>\n",
       "      <td>5</td>\n",
       "      <td>2</td>\n",
       "      <td>1</td>\n",
       "      <td>4</td>\n",
       "      <td>4</td>\n",
       "      <td>1</td>\n",
       "      <td>18 - 34 Years</td>\n",
       "      <td>College Graduate</td>\n",
       "      <td>White</td>\n",
       "      <td>Female</td>\n",
       "      <td>&gt; $75,000</td>\n",
       "      <td>Not Married</td>\n",
       "      <td>Own</td>\n",
       "      <td>Employed</td>\n",
       "      <td>fpwskwrf</td>\n",
       "      <td>MSA, Principle City</td>\n",
       "      <td>0.0</td>\n",
       "      <td>0.0</td>\n",
       "      <td>arjwrbjb</td>\n",
       "      <td>hfxkjkmi</td>\n",
       "    </tr>\n",
       "    <tr>\n",
       "      <th>4</th>\n",
       "      <td>26721</td>\n",
       "      <td>0.65</td>\n",
       "      <td>1</td>\n",
       "      <td>2</td>\n",
       "      <td>1</td>\n",
       "      <td>0</td>\n",
       "      <td>0</td>\n",
       "      <td>0</td>\n",
       "      <td>0</td>\n",
       "      <td>0</td>\n",
       "      <td>0</td>\n",
       "      <td>1</td>\n",
       "      <td>1</td>\n",
       "      <td>1</td>\n",
       "      <td>0</td>\n",
       "      <td>0</td>\n",
       "      <td>0</td>\n",
       "      <td>5</td>\n",
       "      <td>1</td>\n",
       "      <td>1</td>\n",
       "      <td>5</td>\n",
       "      <td>2</td>\n",
       "      <td>1</td>\n",
       "      <td>18 - 34 Years</td>\n",
       "      <td>Some College</td>\n",
       "      <td>White</td>\n",
       "      <td>Male</td>\n",
       "      <td>Below Poverty</td>\n",
       "      <td>Not Married</td>\n",
       "      <td>Rent</td>\n",
       "      <td>Employed</td>\n",
       "      <td>fpwskwrf</td>\n",
       "      <td>Non-MSA</td>\n",
       "      <td>1.0</td>\n",
       "      <td>1.0</td>\n",
       "      <td>rucpziij</td>\n",
       "      <td>tfqavkke</td>\n",
       "    </tr>\n",
       "    <tr>\n",
       "      <th>...</th>\n",
       "      <td>...</td>\n",
       "      <td>...</td>\n",
       "      <td>...</td>\n",
       "      <td>...</td>\n",
       "      <td>...</td>\n",
       "      <td>...</td>\n",
       "      <td>...</td>\n",
       "      <td>...</td>\n",
       "      <td>...</td>\n",
       "      <td>...</td>\n",
       "      <td>...</td>\n",
       "      <td>...</td>\n",
       "      <td>...</td>\n",
       "      <td>...</td>\n",
       "      <td>...</td>\n",
       "      <td>...</td>\n",
       "      <td>...</td>\n",
       "      <td>...</td>\n",
       "      <td>...</td>\n",
       "      <td>...</td>\n",
       "      <td>...</td>\n",
       "      <td>...</td>\n",
       "      <td>...</td>\n",
       "      <td>...</td>\n",
       "      <td>...</td>\n",
       "      <td>...</td>\n",
       "      <td>...</td>\n",
       "      <td>...</td>\n",
       "      <td>...</td>\n",
       "      <td>...</td>\n",
       "      <td>...</td>\n",
       "      <td>...</td>\n",
       "      <td>...</td>\n",
       "      <td>...</td>\n",
       "      <td>...</td>\n",
       "      <td>...</td>\n",
       "      <td>...</td>\n",
       "    </tr>\n",
       "    <tr>\n",
       "      <th>13661</th>\n",
       "      <td>53405</td>\n",
       "      <td>0.77</td>\n",
       "      <td>2</td>\n",
       "      <td>1</td>\n",
       "      <td>0</td>\n",
       "      <td>1</td>\n",
       "      <td>0</td>\n",
       "      <td>1</td>\n",
       "      <td>1</td>\n",
       "      <td>1</td>\n",
       "      <td>1</td>\n",
       "      <td>0</td>\n",
       "      <td>0</td>\n",
       "      <td>0</td>\n",
       "      <td>0</td>\n",
       "      <td>0</td>\n",
       "      <td>1</td>\n",
       "      <td>3</td>\n",
       "      <td>3</td>\n",
       "      <td>1</td>\n",
       "      <td>5</td>\n",
       "      <td>4</td>\n",
       "      <td>1</td>\n",
       "      <td>45 - 54 Years</td>\n",
       "      <td>Some College</td>\n",
       "      <td>White</td>\n",
       "      <td>Female</td>\n",
       "      <td>&gt; $75,000</td>\n",
       "      <td>Married</td>\n",
       "      <td>Own</td>\n",
       "      <td>Employed</td>\n",
       "      <td>lzgpxyit</td>\n",
       "      <td>MSA, Not Principle  City</td>\n",
       "      <td>1.0</td>\n",
       "      <td>0.0</td>\n",
       "      <td>arjwrbjb</td>\n",
       "      <td>hfxkjkmi</td>\n",
       "    </tr>\n",
       "    <tr>\n",
       "      <th>13662</th>\n",
       "      <td>53407</td>\n",
       "      <td>0.70</td>\n",
       "      <td>1</td>\n",
       "      <td>1</td>\n",
       "      <td>0</td>\n",
       "      <td>1</td>\n",
       "      <td>0</td>\n",
       "      <td>0</td>\n",
       "      <td>0</td>\n",
       "      <td>0</td>\n",
       "      <td>1</td>\n",
       "      <td>0</td>\n",
       "      <td>0</td>\n",
       "      <td>1</td>\n",
       "      <td>1</td>\n",
       "      <td>0</td>\n",
       "      <td>1</td>\n",
       "      <td>3</td>\n",
       "      <td>1</td>\n",
       "      <td>2</td>\n",
       "      <td>2</td>\n",
       "      <td>2</td>\n",
       "      <td>2</td>\n",
       "      <td>45 - 54 Years</td>\n",
       "      <td>College Graduate</td>\n",
       "      <td>White</td>\n",
       "      <td>Male</td>\n",
       "      <td>&lt;= $75,000, Above Poverty</td>\n",
       "      <td>Married</td>\n",
       "      <td>Own</td>\n",
       "      <td>Employed</td>\n",
       "      <td>qufhixun</td>\n",
       "      <td>MSA, Not Principle  City</td>\n",
       "      <td>3.0</td>\n",
       "      <td>1.0</td>\n",
       "      <td>dotnnunm</td>\n",
       "      <td>hfxkjkmi</td>\n",
       "    </tr>\n",
       "    <tr>\n",
       "      <th>13663</th>\n",
       "      <td>53408</td>\n",
       "      <td>0.67</td>\n",
       "      <td>1</td>\n",
       "      <td>1</td>\n",
       "      <td>1</td>\n",
       "      <td>1</td>\n",
       "      <td>0</td>\n",
       "      <td>1</td>\n",
       "      <td>1</td>\n",
       "      <td>1</td>\n",
       "      <td>1</td>\n",
       "      <td>0</td>\n",
       "      <td>0</td>\n",
       "      <td>0</td>\n",
       "      <td>0</td>\n",
       "      <td>1</td>\n",
       "      <td>1</td>\n",
       "      <td>4</td>\n",
       "      <td>1</td>\n",
       "      <td>2</td>\n",
       "      <td>1</td>\n",
       "      <td>2</td>\n",
       "      <td>4</td>\n",
       "      <td>18 - 34 Years</td>\n",
       "      <td>12 Years</td>\n",
       "      <td>Hispanic</td>\n",
       "      <td>Female</td>\n",
       "      <td>Below Poverty</td>\n",
       "      <td>Not Married</td>\n",
       "      <td>Own</td>\n",
       "      <td>Employed</td>\n",
       "      <td>oxchjgsf</td>\n",
       "      <td>Non-MSA</td>\n",
       "      <td>0.0</td>\n",
       "      <td>3.0</td>\n",
       "      <td>fcxhlnwr</td>\n",
       "      <td>haliazsg</td>\n",
       "    </tr>\n",
       "    <tr>\n",
       "      <th>13664</th>\n",
       "      <td>53409</td>\n",
       "      <td>0.85</td>\n",
       "      <td>1</td>\n",
       "      <td>1</td>\n",
       "      <td>0</td>\n",
       "      <td>1</td>\n",
       "      <td>1</td>\n",
       "      <td>1</td>\n",
       "      <td>1</td>\n",
       "      <td>1</td>\n",
       "      <td>1</td>\n",
       "      <td>0</td>\n",
       "      <td>0</td>\n",
       "      <td>0</td>\n",
       "      <td>1</td>\n",
       "      <td>0</td>\n",
       "      <td>1</td>\n",
       "      <td>4</td>\n",
       "      <td>1</td>\n",
       "      <td>2</td>\n",
       "      <td>4</td>\n",
       "      <td>1</td>\n",
       "      <td>1</td>\n",
       "      <td>55 - 64 Years</td>\n",
       "      <td>&lt; 12 Years</td>\n",
       "      <td>White</td>\n",
       "      <td>Male</td>\n",
       "      <td>&lt;= $75,000, Above Poverty</td>\n",
       "      <td>Married</td>\n",
       "      <td>Own</td>\n",
       "      <td>Employed</td>\n",
       "      <td>qufhixun</td>\n",
       "      <td>MSA, Not Principle  City</td>\n",
       "      <td>2.0</td>\n",
       "      <td>0.0</td>\n",
       "      <td>xicduogh</td>\n",
       "      <td>xtkaffoo</td>\n",
       "    </tr>\n",
       "    <tr>\n",
       "      <th>13665</th>\n",
       "      <td>53414</td>\n",
       "      <td>0.77</td>\n",
       "      <td>2</td>\n",
       "      <td>1</td>\n",
       "      <td>0</td>\n",
       "      <td>0</td>\n",
       "      <td>0</td>\n",
       "      <td>1</td>\n",
       "      <td>0</td>\n",
       "      <td>0</td>\n",
       "      <td>1</td>\n",
       "      <td>1</td>\n",
       "      <td>0</td>\n",
       "      <td>0</td>\n",
       "      <td>0</td>\n",
       "      <td>0</td>\n",
       "      <td>1</td>\n",
       "      <td>5</td>\n",
       "      <td>1</td>\n",
       "      <td>2</td>\n",
       "      <td>5</td>\n",
       "      <td>4</td>\n",
       "      <td>2</td>\n",
       "      <td>45 - 54 Years</td>\n",
       "      <td>College Graduate</td>\n",
       "      <td>White</td>\n",
       "      <td>Female</td>\n",
       "      <td>&gt; $75,000</td>\n",
       "      <td>Not Married</td>\n",
       "      <td>Rent</td>\n",
       "      <td>Employed</td>\n",
       "      <td>lrircsnp</td>\n",
       "      <td>MSA, Principle City</td>\n",
       "      <td>0.0</td>\n",
       "      <td>0.0</td>\n",
       "      <td>fcxhlnwr</td>\n",
       "      <td>xtkaffoo</td>\n",
       "    </tr>\n",
       "  </tbody>\n",
       "</table>\n",
       "<p>13666 rows × 37 columns</p>\n",
       "</div>"
      ],
      "text/plain": [
       "       respondent_id  seasonal_vaccine  h1n1_concern  h1n1_knowledge  \\\n",
       "0              26709              0.73             2               2   \n",
       "1              26713              0.73             2               2   \n",
       "2              26714              0.74             2               1   \n",
       "3              26718              0.69             1               2   \n",
       "4              26721              0.65             1               2   \n",
       "...              ...               ...           ...             ...   \n",
       "13661          53405              0.77             2               1   \n",
       "13662          53407              0.70             1               1   \n",
       "13663          53408              0.67             1               1   \n",
       "13664          53409              0.85             1               1   \n",
       "13665          53414              0.77             2               1   \n",
       "\n",
       "       behavioral_antiviral_meds  behavioral_avoidance  behavioral_face_mask  \\\n",
       "0                              0                     0                     1   \n",
       "1                              0                     1                     0   \n",
       "2                              0                     1                     0   \n",
       "3                              0                     1                     0   \n",
       "4                              1                     0                     0   \n",
       "...                          ...                   ...                   ...   \n",
       "13661                          0                     1                     0   \n",
       "13662                          0                     1                     0   \n",
       "13663                          1                     1                     0   \n",
       "13664                          0                     1                     1   \n",
       "13665                          0                     0                     0   \n",
       "\n",
       "       behavioral_wash_hands  behavioral_large_gatherings  \\\n",
       "0                          1                            1   \n",
       "1                          1                            1   \n",
       "2                          1                            0   \n",
       "3                          1                            0   \n",
       "4                          0                            0   \n",
       "...                      ...                          ...   \n",
       "13661                      1                            1   \n",
       "13662                      0                            0   \n",
       "13663                      1                            1   \n",
       "13664                      1                            1   \n",
       "13665                      1                            0   \n",
       "\n",
       "       behavioral_outside_home  behavioral_touch_face  doctor_recc_h1n1  \\\n",
       "0                            1                      1                 0   \n",
       "1                            0                      1                 1   \n",
       "2                            0                      1                 0   \n",
       "3                            0                      0                 0   \n",
       "4                            0                      0                 1   \n",
       "...                        ...                    ...               ...   \n",
       "13661                        1                      1                 0   \n",
       "13662                        0                      1                 0   \n",
       "13663                        1                      1                 0   \n",
       "13664                        1                      1                 0   \n",
       "13665                        0                      1                 1   \n",
       "\n",
       "       doctor_recc_seasonal  chronic_med_condition  child_under_6_months  \\\n",
       "0                         0                      0                     0   \n",
       "1                         1                      0                     0   \n",
       "2                         0                      0                     0   \n",
       "3                         0                      0                     0   \n",
       "4                         1                      1                     0   \n",
       "...                     ...                    ...                   ...   \n",
       "13661                     0                      0                     0   \n",
       "13662                     0                      1                     1   \n",
       "13663                     0                      0                     0   \n",
       "13664                     0                      0                     1   \n",
       "13665                     0                      0                     0   \n",
       "\n",
       "       health_worker  health_insurance  opinion_h1n1_vacc_effective  \\\n",
       "0                  0                 0                            5   \n",
       "1                  0                 0                            4   \n",
       "2                  0                 1                            5   \n",
       "3                  0                 1                            5   \n",
       "4                  0                 0                            5   \n",
       "...              ...               ...                          ...   \n",
       "13661              0                 1                            3   \n",
       "13662              0                 1                            3   \n",
       "13663              1                 1                            4   \n",
       "13664              0                 1                            4   \n",
       "13665              0                 1                            5   \n",
       "\n",
       "       opinion_h1n1_risk  opinion_h1n1_sick_from_vacc  \\\n",
       "0                      4                            2   \n",
       "1                      2                            4   \n",
       "2                      1                            2   \n",
       "3                      2                            1   \n",
       "4                      1                            1   \n",
       "...                  ...                          ...   \n",
       "13661                  3                            1   \n",
       "13662                  1                            2   \n",
       "13663                  1                            2   \n",
       "13664                  1                            2   \n",
       "13665                  1                            2   \n",
       "\n",
       "       opinion_seas_vacc_effective  opinion_seas_risk  \\\n",
       "0                                5                  4   \n",
       "1                                3                  1   \n",
       "2                                4                  1   \n",
       "3                                4                  4   \n",
       "4                                5                  2   \n",
       "...                            ...                ...   \n",
       "13661                            5                  4   \n",
       "13662                            2                  2   \n",
       "13663                            1                  2   \n",
       "13664                            4                  1   \n",
       "13665                            5                  4   \n",
       "\n",
       "       opinion_seas_sick_from_vacc      age_group         education      race  \\\n",
       "0                                4  55 - 64 Years  College Graduate     White   \n",
       "1                                2      65+ Years  College Graduate     White   \n",
       "2                                1  55 - 64 Years      Some College     White   \n",
       "3                                1  18 - 34 Years  College Graduate     White   \n",
       "4                                1  18 - 34 Years      Some College     White   \n",
       "...                            ...            ...               ...       ...   \n",
       "13661                            1  45 - 54 Years      Some College     White   \n",
       "13662                            2  45 - 54 Years  College Graduate     White   \n",
       "13663                            4  18 - 34 Years          12 Years  Hispanic   \n",
       "13664                            1  55 - 64 Years        < 12 Years     White   \n",
       "13665                            2  45 - 54 Years  College Graduate     White   \n",
       "\n",
       "          sex             income_poverty marital_status rent_or_own  \\\n",
       "0        Male                  > $75,000        Married         Own   \n",
       "1        Male                  > $75,000        Married         Own   \n",
       "2        Male  <= $75,000, Above Poverty        Married         Own   \n",
       "3      Female                  > $75,000    Not Married         Own   \n",
       "4        Male              Below Poverty    Not Married        Rent   \n",
       "...       ...                        ...            ...         ...   \n",
       "13661  Female                  > $75,000        Married         Own   \n",
       "13662    Male  <= $75,000, Above Poverty        Married         Own   \n",
       "13663  Female              Below Poverty    Not Married         Own   \n",
       "13664    Male  <= $75,000, Above Poverty        Married         Own   \n",
       "13665  Female                  > $75,000    Not Married        Rent   \n",
       "\n",
       "        employment_status hhs_geo_region                census_msa  \\\n",
       "0                Employed       lrircsnp                   Non-MSA   \n",
       "1      Not in Labor Force       fpwskwrf  MSA, Not Principle  City   \n",
       "2              Unemployed       oxchjgsf  MSA, Not Principle  City   \n",
       "3                Employed       fpwskwrf       MSA, Principle City   \n",
       "4                Employed       fpwskwrf                   Non-MSA   \n",
       "...                   ...            ...                       ...   \n",
       "13661            Employed       lzgpxyit  MSA, Not Principle  City   \n",
       "13662            Employed       qufhixun  MSA, Not Principle  City   \n",
       "13663            Employed       oxchjgsf                   Non-MSA   \n",
       "13664            Employed       qufhixun  MSA, Not Principle  City   \n",
       "13665            Employed       lrircsnp       MSA, Principle City   \n",
       "\n",
       "      household_adults household_children employment_industry  \\\n",
       "0                  1.0                0.0            nduyfdeo   \n",
       "1                  1.0                0.0                  na   \n",
       "2                  1.0                0.0                  na   \n",
       "3                  0.0                0.0            arjwrbjb   \n",
       "4                  1.0                1.0            rucpziij   \n",
       "...                ...                ...                 ...   \n",
       "13661              1.0                0.0            arjwrbjb   \n",
       "13662              3.0                1.0            dotnnunm   \n",
       "13663              0.0                3.0            fcxhlnwr   \n",
       "13664              2.0                0.0            xicduogh   \n",
       "13665              0.0                0.0            fcxhlnwr   \n",
       "\n",
       "      employment_occupation  \n",
       "0                  pvmttkik  \n",
       "1                        na  \n",
       "2                        na  \n",
       "3                  hfxkjkmi  \n",
       "4                  tfqavkke  \n",
       "...                     ...  \n",
       "13661              hfxkjkmi  \n",
       "13662              hfxkjkmi  \n",
       "13663              haliazsg  \n",
       "13664              xtkaffoo  \n",
       "13665              xtkaffoo  \n",
       "\n",
       "[13666 rows x 37 columns]"
      ]
     },
     "execution_count": 127,
     "metadata": {},
     "output_type": "execute_result"
    }
   ],
   "source": [
    "IQR_Seasonal=pd.merge(IQR_Seasonal,test, how='left',on='respondent_id')\n",
    "IQR_Seasonal"
   ]
  },
  {
   "cell_type": "code",
   "execution_count": 128,
   "metadata": {},
   "outputs": [
    {
     "data": {
      "text/plain": [
       "<matplotlib.axes._subplots.AxesSubplot at 0x7f49b9139940>"
      ]
     },
     "execution_count": 128,
     "metadata": {},
     "output_type": "execute_result"
    },
    {
     "data": {
      "image/png": "[encoded data removed]",
      "text/plain": [
       "<Figure size 1440x1440 with 8 Axes>"
      ]
     },
     "metadata": {
      "needs_background": "light"
     },
     "output_type": "display_data"
    }
   ],
   "source": [
    "#based on 8 most relevance features\n",
    "\n",
    "import matplotlib\n",
    "import matplotlib.pyplot as plt\n",
    "\n",
    "fig, axes = plt.subplots(nrows=4, ncols=2 ,figsize=[20,20])\n",
    "\n",
    "IQR_Seasonal.groupby('doctor_recc_seasonal')['respondent_id'].count().plot.barh(ax=axes[0,0])\n",
    "IQR_Seasonal.groupby('opinion_seas_risk')['respondent_id'].count().plot.barh(ax=axes[0,1])\n",
    "IQR_Seasonal.groupby('age_group')['respondent_id'].count().plot.barh(ax=axes[1,0])\n",
    "IQR_Seasonal.groupby('doctor_recc_h1n1')['respondent_id'].count().plot.barh(ax=axes[1,1])\n",
    "IQR_Seasonal.groupby('opinion_h1n1_risk')['respondent_id'].count().plot.barh(ax=axes[2,0])\n",
    "IQR_Seasonal.groupby('opinion_seas_vacc_effective')['respondent_id'].count().plot.barh(ax=axes[2,1])\n",
    "IQR_Seasonal.groupby('employment_industry')['respondent_id'].count().plot.barh(ax=axes[3,0])\n",
    "IQR_Seasonal.groupby('employment_occupation')['respondent_id'].count().plot.barh(ax=axes[3,1])"
   ]
  },
  {
   "cell_type": "code",
   "execution_count": null,
   "metadata": {},
   "outputs": [],
   "source": []
  }
 ],
 "metadata": {
  "kernelspec": {
   "display_name": "Python 3",
   "language": "python",
   "name": "python3"
  },
  "language_info": {
   "codemirror_mode": {
    "name": "ipython",
    "version": 3
   },
   "file_extension": ".py",
   "mimetype": "text/x-python",
   "name": "python",
   "nbconvert_exporter": "python",
   "pygments_lexer": "ipython3",
   "version": "3.6.8"
  }
 },
 "nbformat": 4,
 "nbformat_minor": 5
}
